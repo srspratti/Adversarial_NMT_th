{
 "cells": [
  {
   "cell_type": "code",
   "execution_count": null,
   "metadata": {},
   "outputs": [],
   "source": [
    "path_to_your_pretrained_model = '/u/prattisr/phase-2/all_repos/Adversarial_NMT/neural-machine-translation-using-gan-master/pretrained_models/wmt14.en-fr.joined-dict.transformer'\n",
    "from fairseq.models.transformer import TransformerModel\n",
    "generator_pt = TransformerModel.from_pretrained(\n",
    "model_name_or_path=path_to_your_pretrained_model,\n",
    "checkpoint_file='model.pt',\n",
    "bpe='subword_nmt',\n",
    "# data_name_or_path='/u/prattisr/phase-2/all_repos/Adversarial_NMT/neural-machine-translation-using-gan-master/data-bin/wmt14_en_fr_raw_sm/50kLines',\n",
    "data_name_or_path='/u/prattisr/phase-2/all_repos/Adversarial_NMT/neural-machine-translation-using-gan-master/pretrained_models/wmt14.en-fr.joined-dict.transformer',\n",
    "bpe_codes = '/u/prattisr/phase-2/all_repos/Adversarial_NMT/neural-machine-translation-using-gan-master/pretrained_models/wmt14.en-fr.joined-dict.transformer/bpecodes'\n",
    ")\n",
    "print(\"Pretrained Generator loaded successfully!\")"
   ]
  },
  {
   "cell_type": "code",
   "execution_count": 13,
   "metadata": {},
   "outputs": [],
   "source": [
    "generator_pt.eval()\n",
    "translated_sentences = generator_pt.translate([\"Good Morning, I am going to a picnic tomorrow\",\"Good Afternoon\"])\n",
    "# translated_sentences = generator_pt.translate(['Je suis sriram', 'Bon après @-@ midi'])"
   ]
  },
  {
   "cell_type": "code",
   "execution_count": 14,
   "metadata": {},
   "outputs": [
    {
     "data": {
      "text/plain": [
       "['Je suis sriram', 'Bon après @-@ midi']"
      ]
     },
     "execution_count": 14,
     "metadata": {},
     "output_type": "execute_result"
    }
   ],
   "source": [
    "translated_sentences"
   ]
  }
 ],
 "metadata": {
  "kernelspec": {
   "display_name": "preprocess",
   "language": "python",
   "name": "python3"
  },
  "language_info": {
   "codemirror_mode": {
    "name": "ipython",
    "version": 3
   },
   "file_extension": ".py",
   "mimetype": "text/x-python",
   "name": "python",
   "nbconvert_exporter": "python",
   "pygments_lexer": "ipython3",
   "version": "3.10.6"
  },
  "orig_nbformat": 4
 },
 "nbformat": 4,
 "nbformat_minor": 2
}
