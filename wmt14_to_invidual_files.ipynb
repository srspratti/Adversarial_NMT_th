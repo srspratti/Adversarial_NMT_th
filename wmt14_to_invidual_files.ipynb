{
 "cells": [
  {
   "cell_type": "code",
   "execution_count": 47,
   "source": [
    "import pandas as pd\n",
    "import json\n",
    "# with open(\"test.fr-en\", 'rb') as file:\n",
    "#     str_file = file.read()\n",
    "#     print(str_file)\n",
    "#     json_file = json.load(str_file.decode('utf-8'))\n",
    "#     print(\"json_file\", json_file)\n",
    "#     # print(pd.DataFrame(json.loads(file.read())))"
   ],
   "outputs": [],
   "metadata": {}
  },
  {
   "cell_type": "code",
   "execution_count": 48,
   "source": [
    "import requests\n",
    "resp = requests.get(\"https://datasets-server.huggingface.co/first-rows?dataset=wmt14&config=fr-en&split=test\")\n",
    "json_data = resp.json()"
   ],
   "outputs": [],
   "metadata": {}
  },
  {
   "cell_type": "code",
   "execution_count": 49,
   "source": [
    "# type(json_data)"
   ],
   "outputs": [
    {
     "output_type": "execute_result",
     "data": {
      "text/plain": [
       "dict"
      ]
     },
     "metadata": {},
     "execution_count": 49
    }
   ],
   "metadata": {}
  },
  {
   "cell_type": "code",
   "execution_count": 50,
   "source": [
    "# json_data['rows'][0]['row']['translation']['fr']"
   ],
   "outputs": [
    {
     "output_type": "execute_result",
     "data": {
      "text/plain": [
       "'Spectaculaire saut en \"wingsuit\" au-dessus de Bogota'"
      ]
     },
     "metadata": {},
     "execution_count": 50
    }
   ],
   "metadata": {}
  },
  {
   "cell_type": "code",
   "execution_count": 51,
   "source": [
    "# json_data['rows'][0]\n",
    "def get_json_data(json_data):    \n",
    "    en =list()\n",
    "    fr = list()\n",
    "    for row_idx in json_data['rows']:\n",
    "        fr.append(row_idx['row']['translation']['fr'])\n",
    "        en.append(row_idx['row']['translation']['en'])\n",
    "    \n",
    "    return fr, en"
   ],
   "outputs": [],
   "metadata": {}
  },
  {
   "cell_type": "code",
   "execution_count": 52,
   "source": [
    "fr, en = get_json_data(json_data)"
   ],
   "outputs": [],
   "metadata": {}
  },
  {
   "cell_type": "code",
   "execution_count": null,
   "source": [
    "# en"
   ],
   "outputs": [],
   "metadata": {}
  },
  {
   "cell_type": "code",
   "execution_count": null,
   "source": [
    "# fr"
   ],
   "outputs": [],
   "metadata": {}
  },
  {
   "cell_type": "code",
   "execution_count": 53,
   "source": [
    "json_data_df = pd.DataFrame(list(zip(fr,en)), columns=['src','target'])"
   ],
   "outputs": [],
   "metadata": {}
  },
  {
   "cell_type": "code",
   "execution_count": 54,
   "source": [
    "# json_data_df.iloc[0]"
   ],
   "outputs": [
    {
     "output_type": "execute_result",
     "data": {
      "text/plain": [
       "src       Spectaculaire saut en \"wingsuit\" au-dessus de ...\n",
       "target                Spectacular Wingsuit Jump Over Bogota\n",
       "Name: 0, dtype: object"
      ]
     },
     "metadata": {},
     "execution_count": 54
    }
   ],
   "metadata": {}
  },
  {
   "cell_type": "code",
   "execution_count": 55,
   "source": [
    "import deep_translator\n",
    "from deep_translator import GoogleTranslator\n",
    "translator = GoogleTranslator(source=\"auto\", target='en')"
   ],
   "outputs": [],
   "metadata": {}
  },
  {
   "cell_type": "code",
   "execution_count": 56,
   "source": [
    "# fr[1] # source language"
   ],
   "outputs": [
    {
     "output_type": "execute_result",
     "data": {
      "text/plain": [
       "\"Le sportif Jhonathan Florez a sauté jeudi d'un hélicoptère au-dessus de Bogota, la capitale colombienne.\""
      ]
     },
     "metadata": {},
     "execution_count": 56
    }
   ],
   "metadata": {}
  },
  {
   "cell_type": "code",
   "execution_count": 57,
   "source": [
    "# en[1] # human translated"
   ],
   "outputs": [
    {
     "output_type": "execute_result",
     "data": {
      "text/plain": [
       "'Sportsman Jhonathan Florez jumped from a helicopter above Bogota, the capital of Colombia, on Thursday.'"
      ]
     },
     "metadata": {},
     "execution_count": 57
    }
   ],
   "metadata": {}
  },
  {
   "cell_type": "code",
   "execution_count": 58,
   "source": [
    "# machine translated\n",
    "# translator.translate(\"Le sportif Jhonathan Florez a sauté jeudi d'un hélicoptère au-dessus de Bogota, la capitale colombienne.\")"
   ],
   "outputs": [
    {
     "output_type": "execute_result",
     "data": {
      "text/plain": [
       "'Athlete Jhonathan Florez jumped from a helicopter over Bogota, the Colombian capital, on Thursday.'"
      ]
     },
     "metadata": {},
     "execution_count": 58
    }
   ],
   "metadata": {}
  },
  {
   "cell_type": "code",
   "execution_count": 59,
   "source": [
    "# machine translated by batch \n",
    "mt_en = translator.translate_batch(json_data_df[\"src\"].tolist())"
   ],
   "outputs": [],
   "metadata": {}
  },
  {
   "cell_type": "code",
   "execution_count": null,
   "source": [
    "# mt_en"
   ],
   "outputs": [],
   "metadata": {}
  },
  {
   "cell_type": "code",
   "execution_count": 45,
   "source": [
    "# type(mt_en)\n",
    "# json_data_df =pd.DataFrame()\n",
    "# json_data_df.columns\n",
    "# json_data_df['ht_mt_target']"
   ],
   "outputs": [],
   "metadata": {}
  },
  {
   "cell_type": "code",
   "execution_count": 61,
   "source": [
    "json_data_df.insert(loc=2, column='ht_mt_target', value=mt_en)"
   ],
   "outputs": [],
   "metadata": {}
  },
  {
   "cell_type": "code",
   "execution_count": 62,
   "source": [
    "json_data_df.insert(loc=3, column='ht_mt_label', value=[0]*len(mt_en))"
   ],
   "outputs": [],
   "metadata": {}
  },
  {
   "cell_type": "code",
   "execution_count": 63,
   "source": [
    "# with open(\"json_data_df\", 'wb') as json_to_txt:\n",
    "#     # json_to_txt.write(json_data_df['ht_mt_target'])\n",
    "#     dfAsString = json_data_df.to_string(header=False, index=False, columns=['ht_mt_target'])\n",
    "#     json_to_txt.write(dfAsString.strip().encode('utf-8'))"
   ],
   "outputs": [],
   "metadata": {}
  },
  {
   "cell_type": "code",
   "execution_count": null,
   "source": [
    "# json_data_df"
   ],
   "outputs": [],
   "metadata": {}
  },
  {
   "cell_type": "code",
   "execution_count": null,
   "source": [
    "if not os.path.exists('test_classify_data/wmt14_fr_en_test/'):\n",
    "    os.makedirs('test_classify_data/wmt14_fr_en_test')\n",
    "output_path = 'test_classify_data/wmt14_fr_en_test/'"
   ],
   "outputs": [],
   "metadata": {}
  },
  {
   "cell_type": "code",
   "execution_count": 66,
   "source": [
    "with open(os.path.join(output_path, \"ht_mt_target.en\"), 'w') as json_to_txt_v:\n",
    "    for row in json_data_df['ht_mt_target'].values:\n",
    "        json_to_txt_v.writelines(row)\n",
    "        json_to_txt_v.write(\"\\n\")#.encode('utf-8')\")"
   ],
   "outputs": [],
   "metadata": {}
  },
  {
   "cell_type": "code",
   "execution_count": 67,
   "source": [
    "with open(os.path.join(output_path, \"src.fr\"), 'w') as json_to_txt_v:\n",
    "    for row in json_data_df['src'].values:\n",
    "        json_to_txt_v.writelines(row)\n",
    "        json_to_txt_v.write(\"\\n\")#.encode('utf-8')\")"
   ],
   "outputs": [],
   "metadata": {}
  },
  {
   "cell_type": "code",
   "execution_count": 68,
   "source": [
    "with open(os.path.join(output_path,\"target.en\"), 'w') as json_to_txt_v:\n",
    "    for row in json_data_df['target'].values:\n",
    "        json_to_txt_v.writelines(row)\n",
    "        json_to_txt_v.write(\"\\n\")#.encode('utf-8')\")"
   ],
   "outputs": [],
   "metadata": {}
  }
 ],
 "metadata": {
  "kernelspec": {
   "name": "python3",
   "display_name": "Python 3.10.6 64-bit ('preprocess': conda)"
  },
  "language_info": {
   "codemirror_mode": {
    "name": "ipython",
    "version": 3
   },
   "file_extension": ".py",
   "mimetype": "text/x-python",
   "name": "python",
   "nbconvert_exporter": "python",
   "pygments_lexer": "ipython3",
   "version": "3.10.6"
  },
  "orig_nbformat": 4,
  "vscode": {
   "interpreter": {
    "hash": "3d8f1a7392788916d1411a8a7004576c802a36c72a3c31b5dbfb2babcccd6b0f"
   }
  },
  "interpreter": {
   "hash": "5b23eb11a8f528f083144146e4f8838a9d7a497813235b2bf391d8105032becf"
  }
 },
 "nbformat": 4,
 "nbformat_minor": 2
}