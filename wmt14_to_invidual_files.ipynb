{
 "cells": [
  {
   "cell_type": "code",
   "execution_count": 2,
   "metadata": {},
   "outputs": [],
   "source": [
    "import pandas as pd\n",
    "import json\n",
    "# with open(\"test.fr-en\", 'rb') as file:\n",
    "#     str_file = file.read()\n",
    "#     print(str_file)\n",
    "#     json_file = json.load(str_file.decode('utf-8'))\n",
    "#     print(\"json_file\", json_file)\n",
    "#     # print(pd.DataFrame(json.loads(file.read())))"
   ]
  },
  {
   "cell_type": "code",
   "execution_count": 3,
   "metadata": {},
   "outputs": [],
   "source": [
    "import requests\n",
    "resp = requests.get(\"https://datasets-server.huggingface.co/first-rows?dataset=wmt14&config=fr-en&split=test\")\n",
    "json_data = resp.json()"
   ]
  },
  {
   "cell_type": "code",
   "execution_count": 3,
   "metadata": {},
   "outputs": [],
   "source": [
    "# type(json_data)"
   ]
  },
  {
   "cell_type": "code",
   "execution_count": 4,
   "metadata": {},
   "outputs": [],
   "source": [
    "# json_data['rows'][0]['row']['translation']['fr']"
   ]
  },
  {
   "cell_type": "code",
   "execution_count": 4,
   "metadata": {},
   "outputs": [],
   "source": [
    "# json_data['rows'][0]\n",
    "def get_json_data(json_data):    \n",
    "    en =list()\n",
    "    fr = list()\n",
    "    for row_idx in json_data['rows']:\n",
    "        fr.append(row_idx['row']['translation']['fr'])\n",
    "        en.append(row_idx['row']['translation']['en'])\n",
    "    \n",
    "    return fr, en"
   ]
  },
  {
   "cell_type": "code",
   "execution_count": 5,
   "metadata": {},
   "outputs": [],
   "source": [
    "fr, en = get_json_data(json_data)"
   ]
  },
  {
   "cell_type": "code",
   "execution_count": 7,
   "metadata": {},
   "outputs": [],
   "source": [
    "# en"
   ]
  },
  {
   "cell_type": "code",
   "execution_count": 8,
   "metadata": {},
   "outputs": [],
   "source": [
    "# fr"
   ]
  },
  {
   "cell_type": "code",
   "execution_count": 6,
   "metadata": {},
   "outputs": [],
   "source": [
    "json_data_df = pd.DataFrame(list(zip(fr,en)), columns=['src','target'])"
   ]
  },
  {
   "cell_type": "code",
   "execution_count": 10,
   "metadata": {},
   "outputs": [],
   "source": [
    "# json_data_df.iloc[0]"
   ]
  },
  {
   "cell_type": "code",
   "execution_count": 7,
   "metadata": {},
   "outputs": [],
   "source": [
    "import deep_translator\n",
    "from deep_translator import GoogleTranslator\n",
    "translator = GoogleTranslator(source=\"auto\", target='en')"
   ]
  },
  {
   "cell_type": "code",
   "execution_count": 12,
   "metadata": {},
   "outputs": [],
   "source": [
    "# fr[1] # source language"
   ]
  },
  {
   "cell_type": "code",
   "execution_count": 13,
   "metadata": {},
   "outputs": [],
   "source": [
    "# en[1] # human translated"
   ]
  },
  {
   "cell_type": "code",
   "execution_count": 14,
   "metadata": {},
   "outputs": [],
   "source": [
    "# machine translated\n",
    "# translator.translate(\"Le sportif Jhonathan Florez a sauté jeudi d'un hélicoptère au-dessus de Bogota, la capitale colombienne.\")"
   ]
  },
  {
   "cell_type": "code",
   "execution_count": 8,
   "metadata": {},
   "outputs": [],
   "source": [
    "# machine translated by batch \n",
    "mt_en = translator.translate_batch(json_data_df[\"src\"].tolist())"
   ]
  },
  {
   "cell_type": "code",
   "execution_count": null,
   "metadata": {},
   "outputs": [],
   "source": [
    "# mt_en"
   ]
  },
  {
   "cell_type": "code",
   "execution_count": null,
   "metadata": {},
   "outputs": [],
   "source": [
    "# type(mt_en)\n",
    "# json_data_df =pd.DataFrame()\n",
    "# json_data_df.columns\n",
    "# json_data_df['ht_mt_target']"
   ]
  },
  {
   "cell_type": "code",
   "execution_count": 9,
   "metadata": {},
   "outputs": [],
   "source": [
    "json_data_df.insert(loc=2, column='ht_mt_target', value=mt_en)"
   ]
  },
  {
   "cell_type": "code",
   "execution_count": 10,
   "metadata": {},
   "outputs": [],
   "source": [
    "json_data_df.insert(loc=3, column='ht_mt_label', value=[0]*len(mt_en))"
   ]
  },
  {
   "cell_type": "code",
   "execution_count": null,
   "metadata": {},
   "outputs": [],
   "source": [
    "# with open(\"json_data_df\", 'wb') as json_to_txt:\n",
    "#     # json_to_txt.write(json_data_df['ht_mt_target'])\n",
    "#     dfAsString = json_data_df.to_string(header=False, index=False, columns=['ht_mt_target'])\n",
    "#     json_to_txt.write(dfAsString.strip().encode('utf-8'))"
   ]
  },
  {
   "cell_type": "code",
   "execution_count": null,
   "metadata": {},
   "outputs": [],
   "source": [
    "# json_data_df"
   ]
  },
  {
   "cell_type": "code",
   "execution_count": 11,
   "metadata": {},
   "outputs": [],
   "source": [
    "if not os.path.exists('test_classify_data/wmt14_fr_en_test/'):\n",
    "    os.makedirs('test_classify_data/wmt14_fr_en_test')\n",
    "output_path = 'test_classify_data/wmt14_fr_en_test/'"
   ]
  },
  {
   "cell_type": "code",
   "execution_count": null,
   "metadata": {},
   "outputs": [],
   "source": [
    "with open(os.path.join(output_path, \"ht_mt_target.en\"), 'w') as json_to_txt_v:\n",
    "    for row in json_data_df['ht_mt_target'].values:\n",
    "        json_to_txt_v.writelines(row)\n",
    "        json_to_txt_v.write(\"\\n\")#.encode('utf-8')\")"
   ]
  },
  {
   "cell_type": "code",
   "execution_count": null,
   "metadata": {},
   "outputs": [],
   "source": [
    "with open(os.path.join(output_path, \"src.fr\"), 'w') as json_to_txt_v:\n",
    "    for row in json_data_df['src'].values:\n",
    "        json_to_txt_v.writelines(row)\n",
    "        json_to_txt_v.write(\"\\n\")#.encode('utf-8')\")"
   ]
  },
  {
   "cell_type": "code",
   "execution_count": null,
   "metadata": {},
   "outputs": [],
   "source": [
    "with open(os.path.join(output_path,\"target.en\"), 'w') as json_to_txt_v:\n",
    "    for row in json_data_df['target'].values:\n",
    "        json_to_txt_v.writelines(row)\n",
    "        json_to_txt_v.write(\"\\n\")#.encode('utf-8')\")"
   ]
  },
  {
   "cell_type": "code",
   "execution_count": 13,
   "metadata": {},
   "outputs": [
    {
     "ename": "TypeError",
     "evalue": "write() argument must be str, not int",
     "output_type": "error",
     "traceback": [
      "\u001b[0;31m---------------------------------------------------------------------------\u001b[0m",
      "\u001b[0;31mTypeError\u001b[0m                                 Traceback (most recent call last)",
      "Cell \u001b[0;32mIn [13], line 3\u001b[0m\n\u001b[1;32m      1\u001b[0m \u001b[39mwith\u001b[39;00m \u001b[39mopen\u001b[39m(os\u001b[39m.\u001b[39mpath\u001b[39m.\u001b[39mjoin(output_path,\u001b[39m\"\u001b[39m\u001b[39mht_mt_label\u001b[39m\u001b[39m\"\u001b[39m), \u001b[39m'\u001b[39m\u001b[39mw\u001b[39m\u001b[39m'\u001b[39m) \u001b[39mas\u001b[39;00m json_to_txt_v:\n\u001b[1;32m      2\u001b[0m     \u001b[39mfor\u001b[39;00m row \u001b[39min\u001b[39;00m json_data_df[\u001b[39m'\u001b[39m\u001b[39mht_mt_label\u001b[39m\u001b[39m'\u001b[39m]:\n\u001b[0;32m----> 3\u001b[0m         json_to_txt_v\u001b[39m.\u001b[39;49mwrite(row)\n\u001b[1;32m      4\u001b[0m         json_to_txt_v\u001b[39m.\u001b[39mwrite(\u001b[39m\"\u001b[39m\u001b[39m\\n\u001b[39;00m\u001b[39m\"\u001b[39m)\u001b[39m#.encode('utf-8')\")\u001b[39;00m\n",
      "\u001b[0;31mTypeError\u001b[0m: write() argument must be str, not int"
     ]
    }
   ],
   "source": [
    "with open(os.path.join(output_path,\"ht_mt_label\"), 'w') as json_to_txt_v:\n",
    "    for row in json_data_df['ht_mt_label']:\n",
    "        json_to_txt_v.write(str(row))\n",
    "        json_to_txt_v.write(\"\\n\")#.encode('utf-8')\")"
   ]
  }
 ],
 "metadata": {
  "kernelspec": {
   "display_name": "Python 3.10.6 64-bit ('preprocess': conda)",
   "language": "python",
   "name": "python3"
  },
  "language_info": {
   "codemirror_mode": {
    "name": "ipython",
    "version": 3
   },
   "file_extension": ".py",
   "mimetype": "text/x-python",
   "name": "python",
   "nbconvert_exporter": "python",
   "pygments_lexer": "ipython3",
   "version": "3.10.6"
  },
  "orig_nbformat": 4,
  "vscode": {
   "interpreter": {
    "hash": "3d8f1a7392788916d1411a8a7004576c802a36c72a3c31b5dbfb2babcccd6b0f"
   }
  }
 },
 "nbformat": 4,
 "nbformat_minor": 2
}
