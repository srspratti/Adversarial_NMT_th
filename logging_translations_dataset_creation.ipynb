{
 "cells": [
  {
   "cell_type": "code",
   "execution_count": null,
   "metadata": {},
   "outputs": [
    {
     "ename": "",
     "evalue": "",
     "output_type": "error",
     "traceback": [
      "\u001b[1;31mFailed to start the Kernel. \n",
      "\u001b[1;31m[IPKernelApp] CRITICAL | Bad config encountered during initialization: The 'kernel_class' trait of <ipykernel.kernelapp.IPKernelApp object at 0x7fe669af6140> instance must be a type, but 'google.colab._kernel.Kernel' could not be imported. \n",
      "\u001b[1;31mView Jupyter <a href='command:jupyter.viewOutput'>log</a> for further details."
     ]
    }
   ],
   "source": [
    "import sqlite3\n",
    "import pandas as pd\n",
    "\n",
    "def fetch_balanced_data(db_name, epochs):\n",
    "    conn = sqlite3.connect(db_name)\n",
    "    c = conn.cursor()\n",
    "    \n",
    "    # Placeholder lists for data\n",
    "    data = []\n",
    "    \n",
    "    for epoch_i in range(1, epochs+1):\n",
    "        # Fetch an equal number of human and machine translations for the epoch\n",
    "        query = \"\"\"\n",
    "        SELECT epoch_i_list, src_sentences_converted_logging_org, tgt_sentences_converted_logging_org, '1' AS ht_or_mt_target\n",
    "        FROM translations_valid\n",
    "        WHERE epoch_i_list=?\n",
    "        UNION ALL\n",
    "        SELECT epoch_i_list, src_sentences_converted_logging_org, fake_tgt_sentences_converted_logging_G2_train, '0'\n",
    "        FROM translations_valid\n",
    "        WHERE epoch_i_list=?\n",
    "        UNION ALL\n",
    "        SELECT epoch_i_list, src_sentences_converted_logging_org, fake_tgt_sentences_G1_pretrain_converted_logging, '0'\n",
    "        FROM translations_valid\n",
    "        WHERE epoch_i_list=?\n",
    "        LIMIT ?\n",
    "        \"\"\"\n",
    "        # Assuming you want N examples from each category (human, G2, G1) per epoch\n",
    "        N = 100  # Adjust N based on your data distribution and desired dataset size\n",
    "        c.execute(query, (epoch_i, epoch_i, epoch_i, N*3))\n",
    "        data.extend(c.fetchall())\n",
    "    \n",
    "    conn.close()\n",
    "    \n",
    "    # Create a DataFrame\n",
    "    df = pd.DataFrame(data, columns=['epoch', 'src_sentence', 'translation', 'ht_or_mt_target'])\n",
    "    return df\n"
   ]
  },
  {
   "cell_type": "markdown",
   "metadata": {},
   "source": []
  }
 ],
 "metadata": {
  "kernelspec": {
   "display_name": "preprocess_bert_udem",
   "language": "python",
   "name": "python3"
  },
  "language_info": {
   "name": "python",
   "version": "3.10.6"
  }
 },
 "nbformat": 4,
 "nbformat_minor": 2
}
