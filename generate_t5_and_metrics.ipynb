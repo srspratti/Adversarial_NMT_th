{
 "cells": [
  {
   "cell_type": "markdown",
   "metadata": {},
   "source": [
    "# Downloading dataset "
   ]
  },
  {
   "cell_type": "code",
   "execution_count": 1,
   "metadata": {},
   "outputs": [
    {
     "name": "stderr",
     "output_type": "stream",
     "text": [
      "/home/paperspace/anaconda3/envs/preprocess_bert_udem/lib/python3.10/site-packages/tqdm/auto.py:22: TqdmWarning: IProgress not found. Please update jupyter and ipywidgets. See https://ipywidgets.readthedocs.io/en/stable/user_install.html\n",
      "  from .autonotebook import tqdm as notebook_tqdm\n"
     ]
    }
   ],
   "source": [
    "import datasets\n",
    "from datasets import load_dataset"
   ]
  },
  {
   "cell_type": "code",
   "execution_count": 2,
   "metadata": {},
   "outputs": [
    {
     "name": "stdout",
     "output_type": "stream",
     "text": [
      "Checking cache at: /home/paperspace/.cache/huggingface/datasets/wmt14/fr-en\n",
      "Dataset already downloaded, loading from cache.\n"
     ]
    }
   ],
   "source": [
    "# Get user's home directory\n",
    "import os\n",
    "home = os.path.expanduser(\"~\")\n",
    "\n",
    "# Define the path of the cache directory\n",
    "cache_dir = os.path.join(home, \".cache\", \"huggingface\", \"datasets\")\n",
    "\n",
    "# Define the name and configuration of the dataset\n",
    "dataset_name = \"wmt14\"\n",
    "config_name = \"fr-en\"\n",
    "\n",
    "# Build the path for the specific dataset configuration\n",
    "dataset_config_path = os.path.join(cache_dir, dataset_name, config_name)\n",
    "\n",
    "print(f\"Checking cache at: {dataset_config_path}\")\n",
    "\n",
    "# Check if the dataset configuration is already cached\n",
    "if os.path.exists(dataset_config_path) and len(os.listdir(dataset_config_path)) > 0:\n",
    "    print(\"Dataset already downloaded, loading from cache.\")\n",
    "    # If the dataset is already downloaded, load it from the cache directory\n",
    "    dataset = load_dataset(dataset_name, config_name, cache_dir=cache_dir)\n",
    "else:\n",
    "    print(\"Downloading the dataset.\")\n",
    "    # Download the dataset and specify the cache directory\n",
    "    dataset = load_dataset(dataset_name, config_name, cache_dir=cache_dir)\n",
    "\n",
    "# Here, you should adjust the loading of subsets to avoid redundant downloads or loading.\n",
    "# Load 50k rows of the train dataset\n",
    "# train_dataset = dataset[\"train\"].select(range(100020))\n",
    "# train_dataset = dataset[\"train\"].select(range(600))\n",
    "\n",
    "# Keep the full valid and test datasets\n",
    "valid_dataset = dataset[\"validation\"]\n",
    "test_dataset = dataset[\"test\"]"
   ]
  },
  {
   "cell_type": "code",
   "execution_count": 3,
   "metadata": {},
   "outputs": [
    {
     "data": {
      "text/plain": [
       "Dataset({\n",
       "    features: ['translation'],\n",
       "    num_rows: 3003\n",
       "})"
      ]
     },
     "execution_count": 3,
     "metadata": {},
     "output_type": "execute_result"
    }
   ],
   "source": [
    "test_dataset"
   ]
  },
  {
   "cell_type": "code",
   "execution_count": 4,
   "metadata": {},
   "outputs": [],
   "source": [
    "texts =[]\n",
    "labels = []\n",
    "for element in test_dataset[\"translation\"]:\n",
    "        # print(\"element: \", element)\n",
    "        texts.append(element[\"en\"])\n",
    "        labels.append(element[\"fr\"])"
   ]
  },
  {
   "cell_type": "code",
   "execution_count": 5,
   "metadata": {},
   "outputs": [
    {
     "data": {
      "text/plain": [
       "['Spectacular Wingsuit Jump Over Bogota',\n",
       " 'Sportsman Jhonathan Florez jumped from a helicopter above Bogota, the capital of Colombia, on Thursday.',\n",
       " 'Wearing a wingsuit, he flew past over the famous Monserrate Sanctuary at 160km/h. The sanctuary is located at an altitude of over 3000 meters and numerous spectators had gathered there to watch his exploit.',\n",
       " 'A black box in your car?',\n",
       " \"As America's road planners struggle to find the cash to mend a crumbling highway system, many are beginning to see a solution in a little black box that fits neatly by the dashboard of your car.\",\n",
       " \"The devices, which track every mile a motorist drives and transmit that information to bureaucrats, are at the center of a controversial attempt in Washington and state planning offices to overhaul the outdated system for funding America's major roads.\",\n",
       " 'The usually dull arena of highway planning has suddenly spawned intense debate and colorful alliances.',\n",
       " 'Libertarians have joined environmental groups in lobbying to allow government to use the little boxes to keep track of the miles you drive, and possibly where you drive them - then use the information to draw up a tax bill.',\n",
       " 'The tea party is aghast.',\n",
       " 'The American Civil Liberties Union is deeply concerned, too, raising a variety of privacy issues.',\n",
       " \"And while Congress can't agree on whether to proceed, several states are not waiting.\",\n",
       " 'They are exploring how, over the next decade, they can move to a system in which drivers pay per mile of road they roll over.',\n",
       " 'Thousands of motorists have already taken the black boxes, some of which have GPS monitoring, for a test drive.',\n",
       " 'This really is a must for our nation.',\n",
       " '\"It is not a matter of something we might choose to do,\" said Hasan Ikhrata, executive director of the Southern California Assn. of Governments, which is planning for the state to start tracking miles driven by every California motorist by 2025.',\n",
       " 'There is going to be a change in how we pay these taxes.',\n",
       " 'The technology is there to do it.',\n",
       " \"The push comes as the country's Highway Trust Fund, financed with taxes Americans pay at the gas pump, is broke.\",\n",
       " \"Americans don't buy as much gas as they used to.\",\n",
       " 'Cars get many more miles to the gallon.',\n",
       " \"The federal tax itself, 18.4 cents per gallon, hasn't gone up in 20 years.\",\n",
       " 'Politicians are loath to raise the tax even one penny when gas prices are high.',\n",
       " '\"The gas tax is just not sustainable,\" said Lee Munnich, a transportation policy expert at the University of Minnesota.',\n",
       " 'His state recently put tracking devices on 500 cars to test out a pay-by-mile system.',\n",
       " '\"This works out as the most logical alternative over the long term,\" he said.',\n",
       " 'Wonks call it a mileage-based user fee.',\n",
       " 'It is no surprise that the idea appeals to urban liberals, as the taxes could be rigged to change driving patterns in ways that could help reduce congestion and greenhouse gases, for example.',\n",
       " \"California planners are looking to the system as they devise strategies to meet the goals laid out in the state's ambitious global warming laws.\",\n",
       " 'But Rep. Bill Shuster (R-Pa.), chairman of the House Transportation Committee, has said he, too, sees it as the most viable long-term alternative.',\n",
       " 'The free marketeers at the Reason Foundation are also fond of having drivers pay per mile.',\n",
       " '\"This is not just a tax going into a black hole,\" said Adrian Moore, vice president of policy at Reason.',\n",
       " 'People are paying more directly into what they are getting.',\n",
       " 'The movement is also bolstered by two former U.S. Transportation secretaries, who in a 2011 report urged Congress to move in the pay-per-mile direction.',\n",
       " 'The U.S. Senate approved a $90-million pilot project last year that would have involved about 10,000 cars.',\n",
       " 'But the House leadership killed the proposal, acting on concerns of rural lawmakers representing constituents whose daily lives often involve logging lots of miles to get to work or into town.',\n",
       " 'Several states and cities are nonetheless moving ahead on their own.',\n",
       " \"The most eager is Oregon, which is enlisting 5,000 drivers in the country's biggest experiment.\",\n",
       " 'Those drivers will soon pay the mileage fees instead of gas taxes to the state.',\n",
       " 'Nevada has already completed a pilot.',\n",
       " 'New York City is looking into one.',\n",
       " 'Illinois is trying it on a limited basis with trucks.',\n",
       " 'And the I-95 Coalition, which includes 17 state transportation departments along the Eastern Seaboard (including Maryland, Pennsylvania, Virginia and Florida), is studying how they could go about implementing the change.',\n",
       " 'The concept is not a universal hit.',\n",
       " \"In Nevada, where about 50 volunteers' cars were equipped with the devices not long ago, drivers were uneasy about the government being able to monitor their every move.\",\n",
       " '\"Concerns about Big Brother and those sorts of things were a major problem,\" said Alauddin Khan, who directs strategic and performance management at the Nevada Department of Transportation.',\n",
       " 'It was not something people wanted.',\n",
       " 'As the trial got underway, the ACLU of Nevada warned on its website: \"It would be fairly easy to turn these devices into full-fledged tracking devices.\"',\n",
       " \"There is no need to build an enormous, unwieldy technological infrastructure that will inevitably be expanded to keep records of individuals' everyday comings and goings.\",\n",
       " 'Nevada is among several states now scrambling to find affordable technology that would allow the state to keep track of how many miles a car is being driven, but not exactly where and at what time.',\n",
       " 'If you can do that, Khan said, the public gets more comfortable.',\n",
       " 'The hunt for that technology has led some state agencies to a small California startup called True Mileage.',\n",
       " 'The firm was not originally in the business of helping states tax drivers.',\n",
       " 'It was seeking to break into an emerging market in auto insurance, in which drivers would pay based on their mileage.',\n",
       " \"But the devices it is testing appeal to highway planners because they don't use GPS and deliver a limited amount of information, uploaded periodically by modem.\",\n",
       " '\"People will be more willing to do this if you do not track their speed and you do not track their location,\" said Ryan Morrison, chief executive of True Mileage.',\n",
       " 'There have been some big mistakes in some of these state pilot programs.',\n",
       " 'There are a lot less expensive and less intrusive ways to do this.',\n",
       " 'In Oregon, planners are experimenting with giving drivers different choices.',\n",
       " 'They can choose a device with or without GPS.',\n",
       " 'Or they can choose not to have a device at all, opting instead to pay a flat fee based on the average number of miles driven by all state residents.',\n",
       " 'Other places are hoping to sell the concept to a wary public by having the devices do more, not less.',\n",
       " 'In New York City, transportation officials are seeking to develop a taxing device that would also be equipped to pay parking meter fees, provide \"pay-as-you-drive\" insurance, and create a pool of real-time speed data from other drivers that motorists could use to avoid traffic.',\n",
       " '\"Motorists would be attracted to participate because of the value of the benefits it offers to them,\" says a city planning document.',\n",
       " 'Some transportation planners, though, wonder if all the talk about paying by the mile is just a giant distraction.',\n",
       " 'At the Metropolitan Transportation Commission in the San Francisco Bay Area, officials say Congress could very simply deal with the bankrupt Highway Trust Fund by raising gas taxes.',\n",
       " \"An extra one-time or annual levy could be imposed on drivers of hybrids and others whose vehicles don't use much gas, so they pay their fair share.\",\n",
       " '\"There is no need for radical surgery when all you need to do is take an aspirin,\" said Randy Rentschler, the commission\\'s director of legislation and public affairs.',\n",
       " 'If we do this, hundreds of millions of drivers will be concerned about their privacy and a host of other things.',\n",
       " 'David Bowie: Four Unpublished Songs Released',\n",
       " 'The British musician is full of surprises this year.',\n",
       " 'Following The Next Day, released in January, he has put together a deluxe re-release planned for November 04, featuring several unpublished tracks.',\n",
       " 'Four have already appeared on the Internet.',\n",
       " 'The announcement that David Bowie was releasing a new album had stunned the world.',\n",
       " 'On 08 January 2013, the date of his 66th birthday, he announced that a new album would be released in March.',\n",
       " 'After ten years of silence (his last record, Reality, was released in 2003) and very few public appearances, the British musician proved that he could still light up the pop scene.',\n",
       " 'A feast for fans',\n",
       " 'Not tired of making surprises, David Bowie had more than one trick up his sleeves with The Next Day:',\n",
       " 'the Thin White Duke was also planning to re-release the album on November 04.',\n",
       " 'He put together a real feast for his fans to mark the occasion.',\n",
       " 'This re-release, titled The Next Day Extra, was presented in the form of three disks: the original album, unpublished studio sessions and remixes, plus a DVD containing the four clips that have already been unveiled.',\n",
       " 'The Next Day Extra had a total of ten additional tracks compared to the original album: the three songs from the Deluxe edition, five songs specially unveiled for the occasion, and two remixes.',\n",
       " 'Moreover, David Bowie has introduced this fine box-set through a video.',\n",
       " 'In it, he presents each of the disks plus the accessories provided with them: exclusive photos and sleeves, a notebook for sharing your own impressions, a booklet of lyrics etc.',\n",
       " 'And finally, he gives a teaser to his new track, Atomica, which is typically in the style of The Next Day, with very prominent guitars and skillfully controlled rock electrics.',\n",
       " 'Previously Unpublished Tracks Released',\n",
       " 'However, Atomica is not the only track to have been released.',\n",
       " 'The Informer, Like A Rocket Man and Born In A UFO are also available on the net.',\n",
       " 'The Informer is double-edged - an unsettling intro followed by a brilliant rush of sound that progressively slows down to make way for a pop ballad.',\n",
       " \"Was Bowie trying to make a reference to Elton John's Rocket Man, or even Gravity, in his Like A Rocket Man?\",\n",
       " 'Either way, with this cheerful track, the singer seems to be in his element when his feet are no longer on the ground.',\n",
       " 'Space Oddity, by comparison, was much more solemn.',\n",
       " 'On Born in a UFO, David Bowie once again refers to his strangeness: could he have come from another planet?',\n",
       " 'The spellbinding guitar riffs make you want to leave Earth.',\n",
       " 'In any case, Bowie enjoys playing the chameleon in these tracks: in turn, an informer, a rocket man, possibly a Martian...',\n",
       " 'He veils and reveals at the same time, and likes to take on different personalities, as he has throughout his career, most notably with his personas: Ziggy Stardust and Aladdin Sane.',\n",
       " \"It is therefore not surprising that he should be holding a mask in the promotional photography for L'Invitation au Voyage, by Louis Vuitton, of which he is the new face.\",\n",
       " 'He appears in one of their adverts, broadcast from November 10.',\n",
       " 'The Minister of Defence, Rob Nicholson, insisted that injured soldiers are not summarily discharged from the Canadian Armed Forces and stressed that all soldiers undergo a transition process before their return to civilian life.',\n",
       " 'Attacked by liberals and neo-democrats in the House of Commons, Mr. Nicholson assured that, prior to their discharge, members of the army underwent a transition plan in collaboration with their superiors.',\n",
       " '\"All injured soldiers receive the appropriate care in preparation for their return to civilian life and none has been discharged before being ready,\" he asserted.',\n",
       " 'The detractors are accusing the government of trying to save money by not allowing injured soldiers - who do not meet the army\\'s rule of \"universality of service\", which requires that personnel be able to carry out a series of varying tasks - to reach the ten-year period of admissibility required for retirement benefits.',\n",
       " 'They have specifically noted two cases reported in La Presse Canadienne, one involving a soldier discharged last Friday.',\n",
       " 'Lance Corporal David Hawkins, a reservist from London, Ontario, was diagnosed with post-traumatic stress disorder and discharged from the army, despite asking to be kept on for another year to receive a fully-indexed pension.',\n",
       " 'His case follows that of Lance Corporal Glen Kirkland, who declared before a parliamentary commission last month that he had been forced to leave before he was ready because he did not meet the rule of universality of service.',\n",
       " 'Mr. Hawkins stressed that a soldier could be prepared for his departure, with planning and consultation sessions, but that this was totally different than wanting to leave the army.',\n",
       " '\"I told them I wasn\\'t ready,\" he said in an interview with La Presse Canadienne on Wednesday.',\n",
       " '\"For several months, I asked if there was a way that I could stay on, and they said no,\" he adds.',\n",
       " 'Since the start of major combat in Afghanistan, the army has struggled to determine what latitude it can give to injured soldiers who want to stay in the army but are not capable of combat.',\n",
       " 'Under the current rules, seriously injured soldiers have up to three years to recover.',\n",
       " 'If they do not meet the criteria for overseas deployment, they can be forced to leave the army.',\n",
       " 'The data presented to parliament last year indicates that, of the 1,218 soldiers discharged for medical reasons, 199 had not reached the length of service required to obtain retirement benefits.',\n",
       " 'On Wednesday, the liberal spokesman for former service personnel, Jim Karygiannis, asked for Lance Corporal Hawkins to be reinstated, while the neo-democrat Jack Harris demanded an immediate end to \"this shameful practice\".',\n",
       " 'Disney to Launch New Animated Series on Tablet PCs',\n",
       " 'American media and entertainment group Disney has decided to give priority to tablet PCs over its own television channels for the next release of a new series for children.',\n",
       " \"The first nine episodes of Sheriff Callie's Wild West will be available from November 24 on the site watchdisneyjunior.com or via its application for mobile phones and tablets.\",\n",
       " 'The global launch on the Disney group channels is not planned until 2014, according to the press release from its Disney Junior division.',\n",
       " 'The animation, aimed at children aged 2 to 7, is about the adventures of the cat, Callie, the sheriff of a town in the Wild West where she keeps law and order using a magic lasso.',\n",
       " 'Each episode contains two 11-minute stories.',\n",
       " '\"Interacting with smartphones and tablets is second nature for children today,\" notes Albert Cheng, vice-president of digital products at the Disney/ABC Television Group, in a quote in the press release.',\n",
       " 'This kind of experience is part of Disney\\'s efforts to \"extend the lifetime of its series and build new relationships with audiences via digital platforms that are becoming ever more important,\" he added.',\n",
       " 'A survey published by Common Sense Media at the beginning of the week showed an explosion in the use of mobile devices by young children in the United States: 38% of children under 2 already use a tablet or mobile phone, and 72% of under 8s, compared to 10% and 38% respectively two years ago.',\n",
       " 'Snowden ready to \"cooperate\" with Germany over US surveillance',\n",
       " 'Edward Snowden, the US intelligence whistleblower, has declared that he is willing to travel to Berlin to give evidence to the German parliament if the US National Security Agency and its director Keith Alexander fail to provide answers about its activities.',\n",
       " 'German MP Hans-Christian Ströbele on Thursday met Mr Snowden in Russia, where he has been granted asylum, to discuss him testifying in Germany.',\n",
       " 'A letter from Mr Snowden, presented to the media in Berlin on Friday by the MP, said: \"Though the outcome of my efforts has been demonstrably positive, my government continues to treat dissent as defection, and seeks to criminalise political speech with felony charges that provide no defence.\"',\n",
       " 'However, speaking the truth is not a crime.',\n",
       " 'In the letter, Mr Snowden said he believed the support of the international community could persuade the US government to abandon criminal charges against him.',\n",
       " 'The charges filed by the US justice department include espionage and theft of government property.',\n",
       " 'Hans-Peter Friedrich, German interior minister, told Zeit Online: \"If Mr Snowden is ready to speak to German officials, we will find ways to make this possible.\"',\n",
       " \"Relations between the US and Germany have come under strain following claims that the NSA bugged Chancellor Angela's Merkel's phone.\",\n",
       " 'Thomas Oppermann, the MP who heads the parliamentary panel that oversees intelligence, said that if there were an opportunity to hear Mr Snowden as a witness \"without bringing him into danger and completely ruining relations with the US,\" it should be taken.',\n",
       " \"Mr Ströbele, an MP for Germany's Green party, published a picture of himself with Mr Snowden on his Twitter feed.\",\n",
       " 'He was accompanied on his visit to Russia by two German journalists.',\n",
       " \"Mr Ströbele said that, according to the former NSA contractor's lawyer, Mr Snowden would not be able to return to Russia if he left.\",\n",
       " 'If Mr Snowden testified in Germany he would need assurances that he would be \"safe\" there, the MP said.',\n",
       " 'Mr Snowden said in his letter that he had faced a \"severe and sustained\" campaign of persecution that forced him from his home.',\n",
       " 'However he said that he was heartened by the worldwide response to \"my act of political expression.\"',\n",
       " 'Citizens around the world as well as high officials - including in the United States - have judged the revelation of an unaccountable system of pervasive surveillance to be a public service.',\n",
       " 'The letter extends an offer to cooperate with German authorities \"when the difficulties of this humanitarian situation have been resolved.\"',\n",
       " 'Cogeco Cable Soon to Offer Interactive TV?',\n",
       " 'Cogeco Cable subscribers may soon have access to applications like Facebook, Twitter and, ultimately, the Netflix video-on-demand service through their television in a seemingly not too distant future.',\n",
       " 'The Cogeco subsidiary indicated on Thursday that it is currently carrying out preliminary tests of the beta version of this platform with some of its users.',\n",
       " '\"This will enable us to develop more user-friendly interfaces and larger numbers of options,\" explained the president and CEO of Cogeco, Louis Audet, in an interview.',\n",
       " 'Cogeco Cable is thus following in the path of its competitors, like Bell, even though the Cogeco subsidiary does not yet have a precise launching date for this new platform.',\n",
       " '\"We need to adapt and change or resist change and fail,\" emphasized Audet.',\n",
       " 'The ultimate goal is still to offer tools that our customers do not currently have access to.',\n",
       " 'The telecommunications giant Rogers has already indicated that it might offer Netflix if certain technical details (which it did not cite) could be sorted out.',\n",
       " 'In the United States, the popular video service is said to be discussing the possibility of making its service available via their broadcasting platforms with some major cable companies.',\n",
       " 'The CEO of Cogeco and Cogeco Cable also welcomed the announcement made by the Harper government during his speech from the Throne on October 16.',\n",
       " 'Ottawa wants to force cable and satellite television providers to offer customers the option of accessing the services on a pay-per-view basis.',\n",
       " '\"We have been saying for about two and a half years that the idea of forcing consumers to purchase major packages of channels doesn\\'t work,\" stated Audet.',\n",
       " 'Nevertheless, he hopes that the consultations carried out by the Canadian Radio-television and Telecommunications Commission (CRTC) will give rise to interesting recommendations.',\n",
       " '\"These discussions need to produce a new type of reference framework for the definition of the new cultural policy in Canada relating to television,\" said Cogeco\\'s CEO.',\n",
       " 'The CRTC has been conducting consultations with the public since last week, and these will be continued with the industry next spring.',\n",
       " 'In terms of results, Cogeco has said it has recorded a net profit of CAD 43.8 million in the fourth quarter, representing 82¢ per share.',\n",
       " 'This is a drop compared to the net profit of CAD 44.9 million, or 83¢ per share, recorded in the same period last year.',\n",
       " 'The Montreal-based company says this drop is due to depreciation expenses relating to recent acquisitions.',\n",
       " 'In 2012 Cogeco bought US-based cable distributor, Atlantic Broadband, for CAD 1,360 million.',\n",
       " \"This was the company's first major acquisition after its failed aquisition attempt in Portugal.\",\n",
       " 'The Montreal company also bought Peer 1 Network Enterprises, an Internet services provider based in Vancouver, for CAD 526 million last December.',\n",
       " 'In terms of revenue, Cogeco saw growth of 41.5% in the fourth quarter, reaching CAD 504.7 million.',\n",
       " 'Its revenue stands at CAD 1,800 million for the current financial year.',\n",
       " 'The net profit of its principal subsidiary, Cogeco Cable, was CAD 43.9 million, or 90¢ per share, down from CAD 45.7 million, or 93¢ per share, for the same period last year.',\n",
       " 'Nevertheless, Cogeco Cable saw a 45% growth, reaching CAD 470.4 million.',\n",
       " 'The company lost 15,237 customers during the fourth quarter.',\n",
       " 'Even so, the number of Cogeco Cable customers rose by 5,546 for the 2013 fiscal year.',\n",
       " \"Audet is not concerned by this fluctuation in the company's number of customers.\",\n",
       " '\"For me, this does not indicate a change in trend,\" he noted.',\n",
       " '\"It varies from one quarter to the next in the face of very lively competition.\"',\n",
       " 'Horse in Beef Products',\n",
       " 'Horse meat has been detected in beef-based canned food products sold by two small British low-cost distribution retailers, the Food Standards Agency announced today.',\n",
       " 'Routine tests revealed that products processed in Romania in January and sold by shops of the Home Bargains and Quality Save chains contained between 1 and 5% of horse DNA.',\n",
       " '\"Since horse meat is not mentioned in the list of ingredients, it should not have been present in the product,\" the British agency explained.',\n",
       " 'A scandal on the presence of horse meat in prepared meals had broken out in Europe at the beginning of the year, following tests carried out in Ireland.',\n",
       " 'According to investigations by the European Commission, France the most affected by the presence of this type of meat in products which are supposed to contain beef only.',\n",
       " 'Two vehicles collide on Route 131 in Lanaudière leaving four injured Friday morning.',\n",
       " 'Just before 4am, a driver heading north towards Saint-Félix-de-Valois lost control of his vehicle and crashed into another car travelling in the opposite direction.',\n",
       " 'The four occupants of the two vehicles were injured, though not lethally.',\n",
       " 'Traffic returned to normal at around 6am.',\n",
       " 'Frontier Airlines to charge for carry-on baggage',\n",
       " 'Frontier Airlines plans to charge up to $100 for passengers to store carry-on luggage on board their flight.',\n",
       " 'Frontier Airlines plans to start charging up to $100 for a carry-on bag and $2 for coffee or soda, although its announcement on Wednesday did say that passengers will get to keep the whole can.',\n",
       " 'The new carry-on fee is for bags in the overhead bin, so small bags under the seat will still be free.',\n",
       " \"Frontier said it will charge $25 if the fee is paid in advance, $100 if travelers wait to pay until they're at the gate.\",\n",
       " \"Frontier spokeswoman Kate O'Malley said the $100 fee is to get travelers to take care of the charge in advance.\",\n",
       " '\"We don\\'t want to charge that,\" she said.',\n",
       " 'Airlines began charging for the first and second checked bags in 2008.',\n",
       " 'Passengers trying to avoid those fees have been stuffing as much as they can into carry-on baggage stashed in overhead bins, meaning those bins often run out of space.',\n",
       " 'Fees are one way to get passengers to bring less on board.',\n",
       " \"O'Malley said the new charge is not really about raising money.\",\n",
       " \"It's about Frontier's most loyal customers making it very clear that finding overhead bin space has become increasingly difficult.\",\n",
       " \"Passengers who buy their tickets on the airline's website won't have to pay.\",\n",
       " 'That means one passenger in line at a Frontier gate might get to bring a bag on for free, while the next person in line might owe $100 for a similar bag.',\n",
       " \"O'Malley said Frontier's website and check-in procedures are being changed to make sure passengers know about the fee before they get to the gate.\",\n",
       " \"Frontier's new carry-on fee won't start until summer, though a date hasn't been set.\",\n",
       " 'Passengers often grumble about baggage charges and other fees, but airlines love them.',\n",
       " 'They argue that luggage costs money to handle, and passengers who want the service should pay for it.',\n",
       " 'Many on Wall Street view the addition of baggage fees as a sign that airlines are charging enough money to cover the cost of air travel after years of losses.',\n",
       " \"Most haven't touched carry-on bag fees, though.\",\n",
       " 'Spirit Airlines Inc. started the first carry-on fee three years ago, and fellow discounter Allegiant Air later followed.',\n",
       " \"The only other airline with such a fee is Hungary's Wizz Air, said airline consultant Jay Sorensen, who closely tracks add-on fees.\",\n",
       " \"He estimated in a December 2011 report that Spirit's carry-on fee brings in $50 million a year.\",\n",
       " \"Sorensen, a former executive with Midwest Airlines, flew Spirit recently and wondered what he'd find at the gate as passengers encountered Spirit's unusual carry-on bag fee.\",\n",
       " '\"The boarding process was the smoothest I had seen in my airline career,\" he said.',\n",
       " 'I was expecting to see gnashing of teeth and a fight breaking out at the gate.',\n",
       " 'The plane was full, he said, \"and it boarded lickety-split.\"',\n",
       " \"Frontier is also following Spirit's $2 charge for coffee, tea, soda, or juice.\",\n",
       " 'Frontier said passengers who get soda or juice can keep the whole can, and it will give coffee refills for free.',\n",
       " 'It will still give away water.',\n",
       " 'US Airways briefly tried charging for beverages in 2008 but backed down seven months later after passengers complained and no other major airline followed.',\n",
       " \"Frontier's move to charge the carry-on fee if passengers don't buy direct from the airline is its latest effort to steer customers toward its own website.\",\n",
       " 'Airlines pay online travel sellers such as Orbitz $10 to $25 for each ticket sold.',\n",
       " 'That has given all airlines an incentive to steer passengers to buy directly from them instead of going through an online travel agency.',\n",
       " 'Frontier has gone the furthest in this area, though.',\n",
       " 'In September it began giving half as many frequent flier miles to customers who bought through an online travel agency.',\n",
       " 'On Wednesday it slashed the mileage award to 25 percent of the miles of the trip.',\n",
       " 'So, a 1,000 mile Frontier trip purchased from an online travel agency would earn 250 miles.',\n",
       " 'It also allows passengers to choose their seat in advance only if they buy directly from the Frontier website.',\n",
       " 'Frontier has a loyal base of customers in its home city of Denver, but its business is shrinking and losing money.',\n",
       " 'Revenue dropped 9 percent and its flying capacity shrank almost 13 percent in the first quarter, according to financial results released Wednesday by corporate parent Republic Airways Holdings Inc.',\n",
       " \"Republic has been trying to fix Frontier's finances as part of selling the airline.\",\n",
       " 'NSA Blames \"Internal Error,\" Not Hackers, For Website Crash',\n",
       " 'The shadowy National Security Agency said late Friday that it was a glitch that brought down its public website for a few hours, not hackers as some claimed online.',\n",
       " '\"NSA.gov was not accessible for several hours tonight because of an internal error that occurred during a scheduled update,\" the spy agency said in an emailed statement.',\n",
       " 'The issue will be resolved this evening.',\n",
       " 'Claims that the outage was caused by a distributed denial of service [DDoS] attack are not true.',\n",
       " \"Earlier this evening online server trackers noted the NSA's website had been down for at least six hours, and the site continues to be inaccessible for some users.\",\n",
       " 'Earlier an NSA spokesperson told ABC News the agency\\'s internal, sensitive network was \"not at all\" compromised.',\n",
       " 'No classified information is in danger, the spokesperson said.',\n",
       " 'At least one hacktivist group online claimed that they were responsible for bringing down the NSA site with a DDoS attack.',\n",
       " 'DDoS attacks are designed to flood a target website with traffic until the servers are overloaded and the site collapses.',\n",
       " 'The cyber tactic is a relatively unsophisticated one and the attacks are not meant to penetrate the internal network of the target system.',\n",
       " 'The formerly super secretive NSA, once nicknamed No Such Agency, has found itself in very public light, and amid vicious criticism, in past months following a stream of revelations about is vast foreign and domestic surveillance programs - collectively the product of secret NSA files stolen from the agency and leaked by disenchanted former NSA contractor Edward Snowden.',\n",
       " \"Such growing controversy surrounding the agency prompted early speculation that tonight's incident was the result of a targeted cyber operation.\",\n",
       " 'Delta Centre-Ville Closes',\n",
       " 'Delta Centre-Ville Hotel in Montreal closed its doors on Thursday after 36 years of existence.',\n",
       " 'The investment fund that owned the building sold it to developers who will convert it into student residences.',\n",
       " 'The hotel had three hundred and fifty employees.',\n",
       " 'Of these, 200 have still not found a new job.',\n",
       " 'Delta has promised not to abandon its employees.',\n",
       " 'Employers have come to meet employees on site and have met with the employees individually to assess their needs.',\n",
       " '\"That support will continue for the next six months,\" explains the regional labour relations director at Delta hotels, Felix Bisson.',\n",
       " 'The closure of the Delta comes at a time of great competitiveness in the hotel market.',\n",
       " 'The investment fund that owned the building had to make a choice.',\n",
       " 'It had to either reinvest in the building to continue using it, which would require investments worth tens of millions of dollars while competition is fierce as a lot of new hotels have appeared in Montreal.',\n",
       " 'or sell it to someone else, which is what happened,\" explains Paul Arsenault, holder of the Transat Chair in Tourism at the School of Management at the UQAM.',\n",
       " 'Other hotels in Montreal will also be converted in the coming months, such as the Crown Plaza, which will become a home for the elderly.',\n",
       " 'Meanwhile, four hotel projects totaling almost 600 rooms will be implemented in the next two years.',\n",
       " '\"Plan to buy Goodyear Amiens will begin with zero employees,\" Titan CEO says',\n",
       " \"After dramatically throwing in the towel in January over the partial taking over of the Goodyear site in Amiens North, which is due to close, Maurice Taylor, CEO of American tire manufacturer, Titan, now says that he is ready to save 333 of the factory's 1,137 employees.\",\n",
       " 'Arnaud Montebourg, Minister of Industrial Recovery, had already announced this on Monday October 21.',\n",
       " 'After giving up the plan to buy the factory in January, today you are back.',\n",
       " \"You had fired violent attacks and insults, talking of 'so-called workers' who 'work three hours' a day, and 'mad' unions, targeting the CGT.\",\n",
       " \"It's hard to understand this U-turn.\",\n",
       " 'Is this meant to please Mr. Montebourg?',\n",
       " \"I'm not trying to please anyone.\",\n",
       " 'Except my wife.',\n",
       " 'Mr. Montebourg is a charming young man who is trying to save some of the best paid industrial jobs.',\n",
       " \"I'm sorry if my words have offended anyone.\",\n",
       " 'But there are high levels of tax and unemployment in France too.',\n",
       " 'Does the truth offend you?',\n",
       " 'Working seven hours a day when people in other countries are working eight hours is holding France back.',\n",
       " 'In India, China and many other countries, people work ten to twelve hours a day.',\n",
       " \"But I don't have prejudices about France.\",\n",
       " 'What I see is a factory which manufactures good agricultural tires, has good equipment, a good location and plenty of room for growth.',\n",
       " 'Why does Titan need this factory so much?',\n",
       " \"Titan doesn't need to buy this factory.\",\n",
       " \"But, if the price is right and the workers are qualified, it's worth trying.\",\n",
       " 'What sort of agreement do you expect between the CGT and Goodyear?',\n",
       " 'If Goodyear had offered the employees a good severance package after announcing that the factory was closing, I think 100% of the employees would have accepted it.',\n",
       " \"Now, let's imagine that Titan buys a closed factory from Goodyear.\",\n",
       " 'At that point, Titan could choose to move the machinery to Poland or any other country in the European Union that still has its own currency.',\n",
       " 'I think Mr. Montebourg knows that.',\n",
       " 'However, he wants to keep the factory in Amiens with at least 333 well-paid employees.',\n",
       " 'Titan has agreed to recruit them from the 1,200 or so people currently working for Goodyear.',\n",
       " 'Also, Mr. Montebourg needs a commitment from Titan before trying to get the CGT to sit down with Goodyear.',\n",
       " 'The first step is for the CGT and Goodyear to seal an agreement on severance pay for all the employees.',\n",
       " \"Then there won't be any employees left in the factory.\",\n",
       " 'Mr. Montebourg has said that you were prepared to guarantee these 333 jobs for four years.',\n",
       " 'Can you confirm that?',\n",
       " 'The only number I mentioned to the minister is 333.',\n",
       " 'I know he would like a four-year guarantee.',\n",
       " 'But, as I said to you, the CGT and Goodyear must first reach an agreement on the severance pay.',\n",
       " 'If all the employees accept it, the project of buying Goodyear Amiens will begin with zero employees.',\n",
       " 'How can we give guarantees on the length of employment when there are no employees left on site?',\n",
       " 'If Mr. Montebourg gets the CGT and Goodyear to reach an agreement and Titan buys the factory, we have every intention of staying in Amiens North for more than four years.',\n",
       " 'Bombardier profit dips as plane deliveries, orders fall',\n",
       " 'Canadian plane and train maker Bombardier Inc reported a 15 percent fall in net profit on Thursday, pressured by fewer aircraft orders and deliveries in the third quarter and contract issues in its train unit.',\n",
       " 'Montreal-based Bombardier also did not release any flight test data for its brand-new CSeries aircraft or offer an update on whether the plane will meet its ambitious schedule of going into commercial service by next September.',\n",
       " \"After the test plane's inaugural flight about a month and a half ago, it has only flown three more times, raising questions over whether the testing phase is on track.\",\n",
       " 'Results fell short of forecasts and sent shares sliding more than 8 percent on the Toronto Stock Exchange.',\n",
       " 'Cameron Doerksen, an analyst with National Bank Financial, lowered his rating to \"sector perform\" from \"outperform\" on Thursday with the view that the stock has limited upside over the next one or two quarters.',\n",
       " '\"While the weaker aircraft deliveries were mostly anticipated, we are clearly disappointed by the margin performance in transportation,\" Doerksen said in a client note.',\n",
       " 'We believe that Bombardier will receive new orders for the CSeries as the flight test program progresses.',\n",
       " 'However, if no new orders are announced in the coming months, we suspect that the market will become more skeptical of the program.',\n",
       " 'Bombardier hopes the CSeries aircraft family can catapult it into the low end of a market now dominated by Boeing and Airbus.',\n",
       " 'The first test plane was unveiled in March and took flight for the first time in September after months of delays.',\n",
       " \"But firm orders for the CSeries are moderate so far at 177 as potential buyers wait for flight test results to validate the company's claims about the new jetliner's fuel efficiency and cost savings potential.\",\n",
       " 'There are currently 403 total orders and commitments with 15 customers and operators.',\n",
       " 'Chief Executive Officer Pierre Beaudoin was confident Bombardier would meet its 300 firm order target by the time the first jet is put into commercial use.',\n",
       " 'Executives also reassured analysts and media on Thursday the program was progressing according to schedule.',\n",
       " '\"The test plane didn\\'t stay on the ground longer than anticipated,\" Beaudoin said in a conference call, adding that ground tests and software updates were scheduled during the plane\\'s downtime.',\n",
       " 'Every manufacturer schedules it in a different way.',\n",
       " \"We had decided to do a first flight and to do an update period and that's what we have done.\",\n",
       " 'That will happen all through the flight program.',\n",
       " 'The second of five test planes is expected to take flight in the coming weeks, with the remainder following shortly after, the company said.',\n",
       " 'Still, analysts are skeptical the first customer can begin operating a CSeries plane 12 months after its maiden flight.',\n",
       " 'Bombardier said it was evaluating the entry-into-service (EIS) schedule and will provide an update in the next few months.',\n",
       " '\"This slow pace of flight testing - although in line with Bombardier\\'s internal schedule apparently - reinforces our view that entry-into-service will be pushed to Q1/15,\" said Doerksen.',\n",
       " \"For the third quarter ended September 30, Bombardier's net profit fell to $147 million, or 8 cents per share, from $172 million, or 9 cents per share a year earlier.\",\n",
       " 'Adjusted earnings per share were unchanged at 9 cents.',\n",
       " 'Revenue dipped marginally to $4.1 billion from $4.2 billion.',\n",
       " 'Analysts had expected earnings of 10 cents per share and revenue of $4.56 billion, according to Thomson Reuters I/B/E/S.',\n",
       " \"The world's fourth-largest planemaker said it delivered 45 aircraft during the quarter, down from 57 a year earlier.\",\n",
       " 'Net orders fell to 26 aircraft, from 83.',\n",
       " 'The backlog in the aerospace division was $32.9 billion as of September 30, unchanged from December 31.',\n",
       " '\"In aerospace, results were in line with our guidance, but the low order intake and overall market conditions were a disappointment,\" Beaudoin said.',\n",
       " 'Aerospace revenue fell 13 percent to $2 billion.',\n",
       " \"Bombardier, the world's largest trainmaker, said revenue in that division rose nearly 11 percent to $2.1 billion.\",\n",
       " 'The order backlog in the transportation unit was $32.6 billion as of September 30, up marginally from December 31.',\n",
       " \"The transportation division's margins were affected by execution issues in a few large contracts.\",\n",
       " 'Executives said new guidance would be provided in the fourth quarter.',\n",
       " 'Shares of Bombardier, which also announced that Google Inc Chief Financial Officer Patrick Pichette would join the board, were down 8.5 percent at C$4.83 in mid afternoon trading on Thursday.',\n",
       " \"Brazil's Embraer SA, the world's third-largest commercial planemaker and Bombardier's closest rival, reported a 10 percent fall in quarterly profit on Thursday.\",\n",
       " 'Two potholders aged 23 and 27 went missing in a cave under the Dent de Crolles on Thursday evening, according to a report from the Isère cave rescue organization on Friday.',\n",
       " 'They were found on Friday afternoon.',\n",
       " 'The two men, one experienced, the other not, set off underground on Thursday at around 9.30pm, in an attempt to cross the Dent des Crolles, which is in the district of Saint-Pierre-de-Chartreuse.',\n",
       " 'There was no news of them after this, said the same source.',\n",
       " '\"The potholders were due to return at around 5am,\" said Thierry Larribe, technical consultant at the cave-rescue organization who organized the rescue efforts.',\n",
       " 'Dozens of people on site',\n",
       " 'Twenty or so rescuers, ten civilian members of the French cave-rescue organization, as well as the police, mountain rescue services and firefighters were on hand.',\n",
       " 'The two potholders were found late on Friday afternoon.',\n",
       " '\"Another group of potholders found them in the hollow exhausted but in good health and got a message to one of the rescue teams working in the network of tunnels,\" explained local newspaper, Le Dauphiné.',\n",
       " 'The two men, who are soldiers in the 13th Battalion of French Alpine Troops stationed in Chambéry, were found \"exhausted but uninjured\".',\n",
       " 'They got lost in the network, but retraced their steps while waiting for assistance, said the police.',\n",
       " 'After being given supplies, they are expected to exit the cave in the evening with the help of the rescuers.',\n",
       " 'German Journalists Urged to Shun Google and Yahoo',\n",
       " 'The union of German journalists urged its members to stop using Google and Yahoo online services on Thursday, following new revelations concerning the activities of the American and British intelligence services.',\n",
       " '\"The German Federation of Journalists is recommending that journalists avoid using the Google and Yahoo search engine and messaging services until further notice,\" it said in a press release.',\n",
       " 'It calls the reports in the Washington Post \"scandalous\". According to these, the National Security Agency (NSA) in America and the Government Communications Headquarters (GCHQ) in Britain have gathered loads of information by infiltrating international networks, enabling the two bodies to synchronize their servers.',\n",
       " '\"The research carried out by journalists is just as confidential as the details of their sources and the nature of their communication with them,\" added Michael Konken, president of the union, which has 38,000 members.',\n",
       " 'Repainted Traffic Lights: MP Asks Brigitte Grouwels to Resign',\n",
       " 'Not everyone is pleased with Minister Brigitte Grouwels\\' plan to give traffic light posts in Brussels a \"face-lift\".',\n",
       " 'The Minister of Public Works and Transports in Brussels had launched a test project in the centre of Brussels on Thursday, consisting in repainting 16 traffic light posts in the yellow and blue colours of the Brussels region.',\n",
       " 'The aim of this is to both \"increase safety\" and \"enhance the identity of Brussels\".',\n",
       " 'The idea is to eventually repaint all the traffic lights in Brussels, at an estimated cost of one million Euros.',\n",
       " 'But the blue chosen by the Minister is \"too dark\", according to Brussels MP Emmanuel De Bock, who talks of the \"Flemishing\" of the capital and is demanding the resignation of Brigitte Grouwels.',\n",
       " '\"Not content with spending Brussels residents\\' money like water on this scheme of giving traffic light posts a face-lift with the colours of the Brussels region, Brigitte Grouwels is continuing her efforts to turn the capital Flemish,\" says an angry De Bock in a press release.',\n",
       " 'After her mango yellow and black taxis, she has ended up repainting the posts in Brussels yellow, dark blue and black.',\n",
       " 'According to the MP, there is now \"no difference in visual continuity between Flanders and Brussels.',\n",
       " 'The residents of Brussels deserve better than to see their money wasted by a Christian Democratic and Flemish Minister, who is carrying out the New Flemish Alliance program herself.',\n",
       " 'It is high time the Flemish Trojan Horse was stopped.',\n",
       " 'Let\\'s not forget, Brigitte Grouwels was elected by 2,245 votes, that is 0.5% of Brussels inhabitants!\" De Bock concludes.',\n",
       " 'Pont-de-Buis Portico Dismantled',\n",
       " 'The ecotax portico in Pont-de-Buis, around which a violent demonstration against the tax took place on Saturday, was taken down on Thursday morning.',\n",
       " 'Cranes arrived on the site just after 10am, and traffic on the main road was diverted afterwards.',\n",
       " 'The decision to take the portico down, which was announced by the Finistère police department on Wednesday, was taken by Ecomouv, the company managing the portico.',\n",
       " 'This was the last of three ecotax porticos still operating in the department of Finistère, the other two having been taken down or sabotaged.',\n",
       " 'Google Glass Accessories Shop Launched',\n",
       " 'An online shop offering a range of accessories for Google Glass has just been launched for the thousands of developers who own a prototype of the Google-branded, web-enabled glasses.',\n",
       " 'It means they can now get headphones, a charger or even a storage case.',\n",
       " 'The shop, which is strictly reserved for developers who already have Google Glass, offers some accessories, such as a charger and USB cable, for $50.',\n",
       " 'It is also possible to get a micro-fiber protective cover or in-ear headphones for the same price.',\n",
       " 'Although Google is currently working on a model of Google Glass equipped with corrective lenses, no date for a full-scale launch has yet been announced.',\n",
       " 'Five years ago, my father passed away.',\n",
       " 'At first, I was in denial about his death. I spoke of him in the present tense.',\n",
       " 'I was afraid of forgetting him, or perhaps I did not know how I was going to continue to \"spend time\" with him.',\n",
       " 'There is no formula, no method for passing through the wall of the invisible to be with your loved ones.',\n",
       " 'Then signs started to appear.',\n",
       " 'The first time I had this very strong feeling of his presence, he was in the passenger seat while I was driving.',\n",
       " 'Another time is when I quietly woke up in the middle of the night and went to look at his watch, which I always have with me, lying on the bedside table.',\n",
       " 'The smiling image of my father stays with me during my everyday activities.',\n",
       " 'Our mother left us after an exhausting fight against cancer.',\n",
       " 'At least, that is what I thought when I saw the shell of her stiff body under the crumpled sheets of the hospital bed.',\n",
       " 'Similarly, her funeral was a cold goodbye focused on the dim light of the candles surrounding her coffin.',\n",
       " 'I thought she had gone.',\n",
       " 'Gradually, by way of tiny and slightly faint or faded appearances during the day and night, she soon came back into my life, evolving as she took back her place in the landscape of my mind which thought it was still in mourning.',\n",
       " 'And then she revealed herself by showing me aspects of myself I had never seen before, that were hidden by my relationship with her.',\n",
       " 'Thus, I learnt and understood that I had not lost my mother herself at all, just a woman that I did not know very well, a woman who embodied her during her stay on this earth.',\n",
       " 'In dying, this woman had completed her life and freed the person that I loved, and now she was back, whole and complete.',\n",
       " 'This detour in the path of my life is still the most unexpected and beautiful thing.',\n",
       " 'It is a privilege to know that the people we love never leave us.',\n",
       " 'I am like my father, \"inside and out\", it seems.',\n",
       " 'I have always been told that.',\n",
       " 'I never believed it at the time.',\n",
       " 'I had a difficult relationship with him until he became old and ill.',\n",
       " 'At that point I was no longer afraid of him and I was able to love him.',\n",
       " 'One day, he died.',\n",
       " 'For a long time, he stayed with me - when I stopped smoking, when I was afraid, when I was ill...',\n",
       " 'He would speak to me, constantly encourage me, he lived in my body.',\n",
       " 'I would see his hands when I looked at mine; I lent him my body.',\n",
       " 'But this was never indiscreet.',\n",
       " 'I could still lead a personal life.',\n",
       " 'He allowed me my privacy.',\n",
       " 'That lasted a long time, then one day he was gone.',\n",
       " 'In the end, it felt comfortable and reassuring to be understood, encouraged, advised.',\n",
       " \"I don't know who it was that said that those who die are not forgotten but invisible.\",\n",
       " 'My parents are no longer here but I feel them close to me constantly.',\n",
       " 'In every event, every moment of my life, I feel their presence, and I am always referring to them: what would they say, what would they think, what would they do?',\n",
       " 'I constantly dream of them, perhaps not every night, but several times a week for sure.',\n",
       " 'I often dream of the last moments I shared with them before it was too late, except that there is still one thing that prevents me from enjoying the moment.',\n",
       " 'I often wake up distressed because it hits me and I feel their absence deeply.',\n",
       " 'Sometimes, some dreams affect me differently and make an impression on my mind, so, in effect, they continue to live and be a part of my life.',\n",
       " 'On the day before my ultrasound, when I was going to find out the gender of my baby, I dreamt that I woke up and hauled myself out of bed, and my father was waiting for me on the landing. He was smiling at me and was happy that I was expecting a little boy.',\n",
       " 'The following day, I had the feeling that he had come to visit me in my dream to tell me that he was sharing the joy I was feeling.',\n",
       " 'And, yes, I was indeed carrying a boy.',\n",
       " 'I loved sharing that moment with him and enjoy talking of that shared memory that happened after his death.',\n",
       " 'Exactly five years ago, my grandmother died of cancer.',\n",
       " 'One year previously, she had travelled with my family to Cuba.',\n",
       " 'Hence the shock that her loss provoked in the young graduate I was then.',\n",
       " 'In spite of everything, I said my goodbyes fairly quickly.',\n",
       " \"But she continues to influence my life, particularly in when I'm going through hard times, or when I have to make an important decision.\",\n",
       " 'Deciding to learn Arabic and pursuing an interest in the Middle East, to the point of doing a Masters at a major university, in hindsight, were not trivial decisions.',\n",
       " 'Actually, I often used to listen to her speak Arabic during my childhood and talk about Morocco where she had lived for decades before coming back to France when it became independent.',\n",
       " 'The values she instilled in me are still there, so I often end up wondering what she would want me to do at a given moment.',\n",
       " \"It's the same with my opinions: I try to live up to the generosity and correctness of her mind as a fervent believer.\",\n",
       " 'Nowadays I feel her as a daily presence, a benevolent force, a saving spirit.',\n",
       " 'I see her eyes resting on me.',\n",
       " 'My mother died nineteen years ago now.',\n",
       " 'She died after talking to me on the telephone.',\n",
       " 'I went through all the stages: incomprehension, anger, grief, tears that would come on their own, anywhere, anytime, in unusual places, at incongruous moments.',\n",
       " 'But time eased the pain.',\n",
       " 'Now there is just the gap, the silent emptiness, the need for her to entrust me, to reassure me in the palm of her gentleness.',\n",
       " 'Yet, she is there, a silent presence, watching me.',\n",
       " 'Every morning I see her worried eyes looking at me, I see the dark rings giving her a burdened look, the wrinkles around the lips dug by cigarettes, the lines that mark the forehead on days of worry.',\n",
       " 'My mother has taken possession of my face, and every morning she looks back at me in the mirror.',\n",
       " 'And every morning, I look away.',\n",
       " 'My wife and the mother of my three children died of cancer at 43.',\n",
       " 'We always feel her protecting us, nothing bad will happen to us.',\n",
       " 'This was her promise on her death bed; so, gradually, we learnt to smile again, and saying her name is no longer taboo but a comfort.',\n",
       " 'Of course, I talk to her at the dead of night when the absence hurts too much, and she comes into my dreams when my spirits are a little low.',\n",
       " 'We feel supported and protected in difficult moments, and the passage of time has made us realise that she was the conductor, with us trying to stay on the path she had drawn for us.',\n",
       " 'If somebody truly loved you, their absence cannot tear them out your heart or your memories.',\n",
       " 'In a way, the person you loved becomes your inner energy.',\n",
       " 'I lost my father on 22 August 2008 to asbestos-related cancer.',\n",
       " 'I was very close to him, I always acted according to what he would have thought or would have appreciated.',\n",
       " 'I was unable to attend his burial, and three weeks after his death, I gave birth to a little boy.',\n",
       " 'Sometimes my beliefs are different from his, so I am always asking myself if what I am doing conforms with his way of seeing things.',\n",
       " 'I have even had problems at work because of these convictions.',\n",
       " \"However, I can't do otherwise; I lose sleep and constantly ask myself what he would think.\",\n",
       " \"I don't know if I have adopted his way of thinking or if I am simply like him - is it genetic?\",\n",
       " 'Whatever the case, he will always be my point of reference.',\n",
       " \"He was a bit like an alter ego, we didn't even need to speak.\",\n",
       " 'In short, he is there every day.',\n",
       " 'I feel his presence and it makes me happy.',\n",
       " 'Almost thirty years ago, my husband died aged 33.',\n",
       " 'I was 28 and our son was 6.',\n",
       " 'The immense pain that engulfed me has eased of course, but he is still close to me.',\n",
       " 'He very often \"turns up\" in my dreams, in a very specific way, so vivid that when I wake up I am sad again when I realise that it was just a dream.',\n",
       " 'The other night, he asked me how I was; I said not good, and he said \"I\\'m coming down\", but in a voice so real that I woke up with a start, upset, and I switched on the bedside lamp and looked around, convinced that he would come.',\n",
       " \"I still live in the same house and, frequently, I feel he is watching me; I turn round and see he isn't there, but I know it's him and I talk to him.\",\n",
       " 'I feel his presence in every room and it makes me happy.',\n",
       " \"I wouldn't leave this house for anything in the world. We were happy here and his spirit lives here with me.\",\n",
       " \"I'm 58 and I have always lived alone since losing him. He is and will remain the love of my life.\",\n",
       " \"I should say that I am rather sociable and have a job with responsibilities. I laugh and sing, I go out, I'm a grandmother, I have lots of friends, but my heart and my soul belong to him. I never talk about him except with my son, and I never go to the cemetery.\",\n",
       " 'October: Bloodiest Month in Iraq Since 2008',\n",
       " 'October was the bloodiest month in Iraq since April 2008',\n",
       " 'Baghdad published official figures on Friday: 964 people lost their lives last month - 855 civilians, 65 police and 44 soldiers.',\n",
       " 'The publication came on the day the Iraqi Prime Minister met the American President.',\n",
       " 'Noury al-Maliki is seeking aid from the United States.',\n",
       " '\"We are not asking the world to stand by our side and support us, but we have the right to ask the world because we are part of it,\" declared Al-Maliki in Washington this Thursday.',\n",
       " '\"And because if what is happening in Iraq is not handled, it will spread, as will what is happening in Syria.',\n",
       " 'And what happens when the virus of terrorism is alive? It spreads.\"',\n",
       " 'Noury al-Maliki was speaking at the United States Institute of Peace, an independent institution created by Congress.',\n",
       " 'Outside the building, demonstrators were protesting against the Iraqi leader.',\n",
       " 'They were brandishing placards accusing him and others of being murderers and appealing to the United States to refuse to give him aid.',\n",
       " 'Cocaine-addict lawyer who tipped off Mr Big about police investigation is jailed',\n",
       " 'Basharat Ditta, 42, would feed information to crime lord Neil Scarbrough',\n",
       " 'The solicitor feared his secret drug addiction would be exposed',\n",
       " 'Was given a three-year prison sentence at Liverpool Crown Court',\n",
       " 'A top defence lawyer who told a drugs Mr Big about a major police investigation, because he feared his secret drug addiction would be exposed, has been jailed for three years.',\n",
       " 'Basharat Ditta, 42, would feed sensitive intelligence to crime lord Neil Scarbrough about inquiries into his drug trafficking activities after he became compromised by his cocaine habit.',\n",
       " 'The solicitor, who was nicknamed \"Bash\" and hailed by criminals as a \"top brief,\" was arrested at his home in 2011 following a police surveillance operation into Scarborough, who he had represented in a previous narcotics trial.',\n",
       " \"Officers spotted Sarborough, 32, dropping off three bags of cocaine at the lawyer's home in Blackburn, Lancashire, while he was out at a Law Society dinner with colleagues.\",\n",
       " 'Inquiries revealed Ditta was a \"regular user\" of the Class A drug after tests found traces of cocaine in his hair, on his wallet and on his credit cards.',\n",
       " 'Over an eight month period between January and August 2011 he sought to illicitly obtain information on the arrests of two men on behalf of Scarborough as well as one of his associates.',\n",
       " 'All four suspects were being watched by police at the time as part of a major investigation into a heroin and cocaine racket operating across Lancashire, Cumbria, Merseyside, Berkshire and West Yorkshire.',\n",
       " 'They and 32 other men were later jailed after police seized heroin and cocaine worth £1.5million along with more than £200,000 in cash during a series of raids.',\n",
       " 'Ditta, 42, fed information to criminals because of fears his cocaine addiction would be exposed',\n",
       " 'Today at Liverpool Crown Court Ditta, who works at law firm Forbes Solicitors, based in Blackburn, was facing disgrace after being found guilty of two counts of perverting the course of justice following a three week trial at Liverpool Crown Court.',\n",
       " 'He admitted cocaine possession at an earlier hearing.',\n",
       " \"The lawyer's downfall came after police investigating Scarborough discovered he had been in regular phone contact with Ditta in February 2011.\",\n",
       " \"Two detectives trailed the suspect and spotted him arriving at Ditta's house in and was seen to place the drugs which had a purity of 60 per cent under the lawyer's bins in a black golf glove.\",\n",
       " 'Soon after the drop off, Scarborough was in regular phone contact with Ditta who had been out at the dinner at the Blackburn Rovers football stadium, Ewood Park.',\n",
       " 'The lawyer returned home to discover the drugs and there were nine communications between them.',\n",
       " 'The court heard Ditta was a \"regular user\" of cocaine after tests found traces of the Class A drug in his hair, wallet and on his credit cards',\n",
       " 'Ditta was arrested later but denied using cocaine and and said he had been speaking to the suspected dealer because he was his client and argued their discussions were subject to \"legal privilege.\"',\n",
       " 'During his arrest Ditta picked up his wallet and tried to remove several credit cards but they were all seized and a hair sample was taken fom him.',\n",
       " 'In a police interview he said he ran an office at his home address as well as work place and clients would call at his house on legal business.',\n",
       " 'But the court heard he would call major players in the drugs supply chain, some of whom he had previously represented, after key arrests to tell them what detectives knew about them.',\n",
       " 'Prosecuting, Anne Whyte said: \"If anyone should know not to the break the law, it is a criminal solicitor.\"',\n",
       " 'Mr Ditta is accused of abusing his position as a criminal solicitor, having become too involved with specific clients.',\n",
       " 'The relationship we are talking about is not simply a drug dealer, but a drug dealer providing his own lawyer with drugs.',\n",
       " 'Some of his communications will undoubtedly have been legitimate ones because he was their lawyer.',\n",
       " 'But this went way beyond the ordinary confines of a lawyer-client relationship.',\n",
       " \"He thwarted the police's investigation as much as possible to enable them to continue in their criminal activities.\",\n",
       " 'Mr Ditta was not honouring his profession, but dishonouring it.',\n",
       " 'He got too close to certain clients, in particular Scarborough, and he allowed his independence to be compromised.',\n",
       " 'Ditta denied wrongdoing and claimed: \"If I was a corrupt lawyer, which I am not, and I wanted to feed information to Mr Scarborough, I would not wait 15 hours, I would do it immediately.\"',\n",
       " 'But after the hearing Supt Lee Halstead from Lancashire Police said: \"Mr Ditta turned from criminal solicitor to a criminal himself the moment he started obtaining drugs from organised criminals.\"',\n",
       " 'His addiction to cocaine left him hopelessly compromised and vulnerable to the motives of leading members of organised crime groups who tasked him to obtain valuable information regarding police investigations.',\n",
       " 'Solicitors should uphold the highest standards of integrity and should instil trust and confidence in the public.',\n",
       " 'Mr Ditta has betrayed this trust and attempted to hide behind the veneer of his profession.',\n",
       " \"Lancashire's Serious and Organised Crime Unit led the investigation into Mr Ditta which has also seen him convicted of three counts of possession of cocaine and now perverting the course of justice, demonstrating our commitment to bringing criminals to justice.\",\n",
       " 'Let this case serve as a warning to criminals that no one is beyond the reach of the law.',\n",
       " 'We will find you and put you before the courts.',\n",
       " 'Scarborough himself was jailed for 14 years after pleading guilty to conspiracy to supply heroin, cocaine and cannabis.',\n",
       " 'Thirty five other men involved in the racket were jailed for a total of 153 years for drugs offences.',\n",
       " 'On his website Ditta gave a question and answer session about himself in which he says his fantasy job would be a lawyer representing clients on Death Row in America, his ultimate dinner guest as being Mohammed Ali and inequality as his motivation for work.',\n",
       " 'Aretha Franklin Back on Stage in December',\n",
       " 'According to Detroit News, the queen of Soul will be performing at the Sound Board hall of MotorCity Casino Hotel on 21 December.',\n",
       " 'Mrs Franklin has been busy in November recording an album for Clive Davis and Sony Music, produced by Don Was and Kenny \"Babyface\" Edmonds.',\n",
       " 'Without specifying the illness she was suffering from, the star performer of \"Respect\" confirmed to the media on 16 October that the side effects of a treatment she was receiving were \"difficult\" to deal with.',\n",
       " 'She said she was \"happy to be back\".',\n",
       " 'Menton Reduces Cost of Christmas Lights',\n",
       " 'With 420 patterned designs and 2.2 kilometers of seafront draped in a mantle of light, the bill for the illuminations in Menton could give you a bit of a shock.',\n",
       " \"What's more, unlike in many communes, the bill is met by taxpayers rather than by business associations.\",\n",
       " 'The town has decided to use LEDs to reduce costs.',\n",
       " 'There has also been a change in the management of the public lighting network and Christmas decorations.',\n",
       " 'Los Angeles Airport Evacuated After Shooting',\n",
       " 'There was a shooting in Los Angeles International Airport.',\n",
       " 'A man opened fire at 10am local time.',\n",
       " 'At least two people were injured, according to local police.',\n",
       " 'One was an employee working for the United States Transportation Security Administration (TSA), and the other was the gunman.',\n",
       " 'The incident occurred in terminal 3, provoking a wave of panic.',\n",
       " 'Travelers and staff rushed for the exits or onto the tarmac.',\n",
       " 'The police intervened very quickly and the suspected gunman was arrested on the roof of an airport car park.',\n",
       " 'The airport is currently being evacuated and air traffic has been suspended.',\n",
       " 'Classical Singing for Teenagers',\n",
       " 'The student body has, each time, been the target of an initiative that had a lot of success last season.',\n",
       " 'Teenagers have been given the chance to get to grips with classical singing through five short plays created and performed by regional artists - performances containing a large dose of humour.',\n",
       " 'Besides this show, the Société d\\'Art Lyrique du Royaume will be bringing back \"Destinations Lyriques\", a program that has been a crowd-puller at La Pulperie in Chicoutimi.',\n",
       " 'Two other concerts will be held in the summer of 2014, giving regional artists the chance to show what they are capable of.',\n",
       " 'In addition to these events, there was the Apéro Lyrique, the benefit concert held last August, with the support of coloratura soprano, Marie-Eve Munger.',\n",
       " 'This, in parallel with the artistic dimension, was a benefit event which helps the non-profit organisation achieve financial balance-sheet that sounds as soothing to the ear as a tune from Die Fledermaus.',\n",
       " 'Without giving precise figures, the Chairperson of the Board of Directors, Yves Bergeron, used the press conference held at Chicoutimi yesterday to give assurances.',\n",
       " 'Despite the precarious situation that so many cultural institutions face, the future looks bright, even in the long term.',\n",
       " 'We have more solid and stable support.',\n",
       " '\"Finances are on an even keel and we hope to see the 50th anniversary of the operetta, a milestone we will reach in seven years,\" the administrator remarked.',\n",
       " '\"I would even say beyond that,\" added the general manager, Helene Gaudreault, with a smile.',\n",
       " 'A 38-year-old man who took a child hostage at the Gabrielle Roy school in Surrey is facing six charges, according to the Royal Gendarmerie of Canada.',\n",
       " 'Omar Moustapha Hassan stands accused of hostage-taking, hostage-holding, making of verbal threats, carrying a weapon with dangerous intent, abduction and failure to follow an order.',\n",
       " '\"The fast response by the police officer involved and their ability to defuse the situation immediately were critical to the safe ending of this incident,\" said Lance Corporal Bert Paquet in a press release.',\n",
       " 'Omar Hassan is still in detention and is due to appear in court on Friday.',\n",
       " 'New Class Action Claim Against Holy Cross Brothers',\n",
       " 'A new class action claim has been filed against the brothers of the Congregation of the Holy Cross involving sexual assaults, allegedly carried out, this time, at the Saint-Joseph Oratory and several orphanages, colleges and schools.',\n",
       " 'The claim is based on the testimony of an applicant identified as \"J. J\", who would have been masturbated in the 1950s, first at Notre-Dame-des-Neiges by his teacher, Brother Soumis, then by his confessor, Father Bernard, at the Saint-Joseph Oratory, where he was an altar boy and where his father worked as a painter.',\n",
       " '\"The first action involved only three institutions, and when the ruling was announced, many people said to us: \\'I was assaulted at so and so place, can I add my name?\" says lawyer Alain Arsenault, who is defending the victims in the two actions.',\n",
       " 'The class action that has just been filed specifically enables the inclusion of plaintiffs from any institution where members of the Congregation of the Holy Cross may have been involved in abuses.',\n",
       " 'Currently, the action combines the complaints of 25 individuals who claim to have been assaulted by the brothers of the Holy Cross.',\n",
       " 'The alleged deeds generally took place before those cited in the first action as many of the institutions concerned were closed in the 1960s.',\n",
       " 'Moreover, the action specifies that the Congregation of the Holy Cross and the Saint-Joseph Oratory, which is a separate entity, \"allowed acts of sexual abuse to be committed against children\", that they \"exercised moral, religious and psychological constraint over the victims,\" and that they \"knew about sexual assaults committed but kept quiet\" and \"deliberately and consciously chose to ignore the problem\".',\n",
       " 'The latter accusations are partly based on letters written by the lawyer of the brothers of the Holy Cross, Mr Emile Perrin QC, in the 1990s, as well as through research carried out in the archives on this subject by Brother Wilson Kennedy, a former brother of the Holy Cross who has publicly denounced the abuses.',\n",
       " 'The class action must first be deemed admissible by the Superior Court.',\n",
       " 'Once the Court has declared it admissible, it will proceed to the second stage, the preliminary hearings.',\n",
       " 'In the first action, the Congregation of the Holy Cross agreed to settle out of court before preliminary hearings were conducted.',\n",
       " 'Serious Fire in Shop',\n",
       " 'A fire caused serious damaged to a shop in the LaSalle district of Montreal on Thursday night.',\n",
       " 'The emergency services were called at around 1am on Friday for a fire which had broken out in the basement of an Indian restaurant on Dollard Avenue, near the junction with Rue Rejane.',\n",
       " 'It tool the thirty-something firefighters who rushed to the scene almost an hour to bring the flames under control.',\n",
       " 'The fire \"caused significant damage to the structure of the building\", said the chief of operations of the Montreal Fire Department, Richard Bordeaux.',\n",
       " 'The cause of the fire is unknown, however there was nobody in the restaurant when the firefighters arrived on the scene.',\n",
       " 'There were no casualties, but close to twenty flats on the first and second floors of this row of shops had to be evacuated.',\n",
       " 'The Red Cross was called in given that the residents of one of the apartments might need temporary accommodation, according to the Fire Department.',\n",
       " 'Great Opposition to Medically-Assisted Death at Palliative Care Congress',\n",
       " 'The Canadian Palliative Care Congress, holding in Ottawa this week, comes several days after the vote in favour of the bill on medically-assisted death in Quebec.',\n",
       " 'Several palliative care associations used the opportunity to restate their disapproval.',\n",
       " '\"If every ill person had access to effective care to relieve their suffering, in addition to being able to stay at home, very  few of them would wish to end their lives,\" said a spokesperson for the Canadian Palliative Care Association, Maryse Bouvette.',\n",
       " '\"If emphasis was put on palliative care in Canada, the call for euthanasia would become minimal,\" she added.',\n",
       " 'The Chairperson of the Quebec Palliative Care Network also rejects the bill on medically-assisted death.',\n",
       " 'Alberte Déry is concerned about the consequences for future generations if it is adopted.',\n",
       " '\"What is the meaning of life?\" she laments.',\n",
       " 'The majority of palliative care homes will refuse to help patients die, according to the vice-president of the Alliance of Palliative Care Homes, Suzanne Fitzback.',\n",
       " 'Mrs Fitzback, who is also the director of the Mathieu-Froment-Savoie Home in Gatineau, thinks the service would be useless anyway.',\n",
       " '\"Nobody ever says to us: \\'I want to die, give me an injection.\"',\n",
       " 'The director of the Palliative Care Association of Ontario, Rick Firth, believes that the Quebec bill is confusing people with regard to the purpose of palliative care.',\n",
       " 'He does not believe that Ontario will follow suit.',\n",
       " 'Meanwhile, the liberal MP of Gatineau, Stephanie Vallee, thinks that the concept of termination of life needs to be clarified before the bill can be adopted.',\n",
       " 'Kenyan press outraged at controversial media law',\n",
       " '\"It is a frightening place, and it is valid to ask: what is there to prevent Parliament from simply sweeping away the independence of the judiciary tomorrow?\" the paper said, challenging the bill as unconstitutional.',\n",
       " '\"This law is draconian and very punitive and we reject it,\" said Cyrus Kamau, managing director for Capital Group - home to CapitalFM, one of Kenya\\'s most respected independent radio stations and news websites.',\n",
       " 'He said the new media tribunal \"will always be biased because it\\'s an extension of the government,\" and that restrictions on content and advertising would damage Kenya\\'s place in the global economy.',\n",
       " '\"I hope the president will listen to us, and we appeal to him to reject this bill and return it to the MPs,\" he said.',\n",
       " 'According to The Star newspaper, the new bill will effectively hand the government \"a stranglehold over the media,\" while The Standard said democracy and free speech in Kenya had been \"dealt a major blow\" and lambasted the bill as \"draconian.\"',\n",
       " \"The passing of the bill comes amid a string of measures to reinforce national security in the wake of the September's attack by Islamist gunmen on the Westgate shopping mall.\",\n",
       " 'Kenya media drew the ire of authorities by broadcasting security camera footage of troops who were dispatched to the scene of the attack purportedly robbing the upmarket mall.',\n",
       " 'Police chief David Kimaiyo reacted by summoning two journalists and a media executive for questioning, although the summons was retracted following a media outcry.',\n",
       " 'Under the new bill, media houses can be fined up to 20 million Kenyan shillings and individual journalists up to one million with the additional risk of being \"de-listed,\" or barred from receiving official press accreditation.',\n",
       " 'The tribunal also has the power to seize the property of an offender if a fine is not paid.',\n",
       " 'According to the Daily Nation, \"even one fine is enough to cripple most FM stations.\"',\n",
       " 'It also said the measures could have a devastating effect on what it described as Kenya\\'s \"lively blogosphere.\"',\n",
       " 'By silencing the media, politicians know they can do whatever they like with impunity.',\n",
       " '\"No one will ever know,\" wrote Nation journalist Mutuma Mathiu, describing the Kenyan media as a key source of checks and balances in public life.',\n",
       " '\"Left to themselves, politicians would bankrupt the country and take us back to hunting and gathering,\" he wrote.',\n",
       " 'Kenyan lawmakers have been the target of public anger in the past.',\n",
       " 'In May they voted to overturn cuts ordered by the national salaries commission and reinstate their hefty salaries of around 532,000 shillings a month tax-free - ranked among the highest in the world.',\n",
       " 'Difficult Year for Pharmacists',\n",
       " 'The departure of almost 10 pharmacists from the Centre for Health and Social Services (CSSS) in Laval has caused turmoil amidst the managers of the Cité-de-la-Santé hospital in the year 2012-2013.',\n",
       " 'The pharmacy department has been left seriously short-staffed following multiple departures due to retirement, maternity leave or, simply, resignations.',\n",
       " 'There is a staff shortage of almost 30%, making the financial year \"very difficult\" according to department head, Gillian Beaudet.',\n",
       " 'Even so, the CSSS has decided not to employ independent labour, which could be up to three times more expensive than taking on a full-time pharmacist.',\n",
       " '\"We didn\\'t resort to a stop-gap solution,\" explained Beaudet.',\n",
       " '\"We consolidated or reduced some of our activities within the institution to get around while waiting for things to fall back in place.',\n",
       " 'We clearly worked hard on trying to persuade our young [pharmacy residents] to come and stay here.',\n",
       " 'A combination of circumstances put us in a difficult situation last year.\"',\n",
       " 'Improved situation',\n",
       " 'After this difficult period, 2013-2014 looks like a definitely easier one for the pharmacy department at the CSSS.',\n",
       " 'Three pharmacists have already returned to work after maternity leave and three others have been taken on in recent months.',\n",
       " 'In addition, the efforts made by the department to hold on to staff have paid off, as the four students currently in residence in Laval have also decided to stay on at the CSSS.',\n",
       " '\"Things are going much better now,\" stressed the pharmacist.',\n",
       " '\"By the end of the financial year, we will have seven new pharmacists and three back from maternity leave.',\n",
       " 'So that will fill the gaps we had last year.\"',\n",
       " 'Need still growing',\n",
       " 'However, the situation is still precarious.',\n",
       " 'Several factors, such as the shortage of pharmacists in hospitals or a predominance of young women in the profession, make situations like that experienced in 2012 difficult to predict.',\n",
       " '\"For us [the number of staff] is always precarious as this is a young environment where a lot of young women are being employed. So in terms of pregnancies, you can always count on three people being on maternity leave when things are going well,\" she added.',\n",
       " '\"Last year there were many more and there were no pharmacists available to replace them, so it was more difficult.\"',\n",
       " '22-year-old Top Model Starts Acting Career in Grand Style.',\n",
       " 'The director Lars von Trier chose her to play the young Charlotte Gainsbourg in his next film, Nymphomaniac.',\n",
       " 'This pornographic drama in eight chapters that will be released in two parts (on January 1st and 8th) deals with the erotic memories of a forty-year-old hooked on sex since her adolescence.',\n",
       " \"Stacy Martin's resemblance to her elder sister is striking: a twig-like figure, a transparent complexion and Franco-English origins.\",\n",
       " 'And she likes taking risks - the girl who did not hesitate to pose naked on glossy paper will be exposing herself in much more nefarious situations on the big screen.',\n",
       " 'An excerpt from Nymphomaniac caused a lot of excitement on the Internet: it shows Stacy Martin in the middle of a climax in bed with Shia LaBeouf.',\n",
       " 'The provocative filmmaker may have asked his actors to put their shame to one side, but he had to use X-rated film professionals for the most daring sex scenes, before merging the bodies digitally: the top half is the star, the bottom half is the double.',\n",
       " 'From Björk to Charlotte Gainsbourg through Nicole Kidman, Lars von Trier has a habit of pushing his actresses to the limit, always in a bid to achieve the best.',\n",
       " 'Stacy Martin is not done being the topic of conversations.',\n",
       " 'CGR Theatre in Narbonne Evacuated on Thursday Evening',\n",
       " 'The first showing of a film at the Mega CGR theatre in Narbonne was interrupted on Thursday evening out of precaution after viewers reported a tingling sensation in the throat.',\n",
       " 'The theatre director immediately began an evacuation procedure and called the fire brigade to check out a suspicious smell.',\n",
       " 'Around 70 people were evacuated from the viewing.',\n",
       " 'They were examined, and a thorough check of the cinema revealed nothing.',\n",
       " 'Was it a bad joke involving tear gas?',\n",
       " 'Or was it an involuntary incident?',\n",
       " 'Either way, the management of the theatre decided to implement the principle of precaution and put the safety of its customers first.',\n",
       " 'The cinema was ventilated and everyone returned in good order.',\n",
       " 'The cinema was able to show itself in a good light and the customers could continue enjoying events unfolding...',\n",
       " 'but, on the screen only.',\n",
       " 'Woman Tries Smuggling 2kg of Cocaine Inside Pumpkins',\n",
       " 'Taking advantage of Halloween, a woman tried to smuggle two kilos of cocaine hidden inside pumpkins into the country through Montreal-Trudeau Airport on Thursday morning.',\n",
       " 'The drugs were detected when passenger luggage was checked.',\n",
       " 'The cocaine was split between three pumpkins that had been previously hollowed out.',\n",
       " 'The drugs were subsequently taken to the office of the Royal Gendarmerie of Canada (GRC), which then took over the investigation.',\n",
       " 'The Canada Border Services Agency (CBSA) did not reveal where the woman had been travelling from when she was intercepted.',\n",
       " '\"That is part of the investigation,\" indicated Jacqueline Roby, spokesperson for the CBSA.',\n",
       " '\"What I can tell you is that she was entering the country.\"',\n",
       " 'Since the start of 2013, the Canada Border Services Agency at Montreal-Trudeau Airport has conducted 173 drugs seizures, of which 10 involved seizures of cocaine totaling 44 kilograms.',\n",
       " 'In 2012 the Border Services Agency for the province of Quebec made 1,653 seizures of narcotics.',\n",
       " 'Air Raid Against Military Installations in Syria',\n",
       " 'Israeli aircrafts entered Lebanese air space early on Wednesday afternoon, but did not carry out attacks until the evening, according to the Lebanese army.',\n",
       " 'A cargo of short range SA-8 ground-to-air missiles was targeted and destroyed.',\n",
       " 'This latest raid by the Israeli air force in Syrian territory (the sixth since the start of the year, according to the Israeli daily newspaper, Haaretz) has been confirmed neither by Israel nor Syria.',\n",
       " 'The raid took place under circumstances almost identical to that of July 5: on that occasion, it was also an unnamed American official who confirmed to CNN an Israeli attack that targeted Yakhont ground-to-air missiles supplied to Damascus by Russia.',\n",
       " 'Israeli officials made no attempt to hide their anger when Washington revealed the attack, at the risk of forcing President Assad to respond.',\n",
       " 'Ukraine Close to Economic Collapse',\n",
       " \"Rating agency, Standard & Poor's, reduced Ukraine's credit rating on Friday, casting a doubt on the ability of the former Soviet republic, which has been in recession for a year, to meet its financial obligations.\",\n",
       " 'The government debt rating moved to B-, further down into the category of speculative investments.',\n",
       " 'This rating is accompanied by a negative outlook, with S&P seeing at least one chance in three that it will downgrade the rating again in the next year.',\n",
       " '\"It is increasingly unlikely that the government\\'s strategy will make it possible to sufficiently guarantee foreign currencies to meet its increased external financial commitments,\" explained the American agency.',\n",
       " \"The agency notes that Ukraine's foreign exchange reserves fell by 26% between September 2012 and September 2013, and the trend is expected to continue.\",\n",
       " 'This complicates the repayment of credit from abroad.',\n",
       " \"These reserves, which the authorities have had to use extensively to support the local currency, the hryvnia, are collapsing, leading to the agency considering devaluation more and more likely, which would inflate the country's foreign debt.\",\n",
       " 'Moreover, Kiev needs liquid assets to pay for its gas imports from Russia, which accuses it of not having paid a bill of 882 million dollars.',\n",
       " \"The announcement comes as bad news for the Ukrainian government in a period of serious tension with its Russian neighbour, which is furious with Kiev's willingness to sign an association agreement with the EU at the end of November.\",\n",
       " \"This was made public the day after the publication of official statistics showing that the country's economy had suffered its fifth consecutive quarterly drop between July and September.\",\n",
       " 'Its debt, which is still relatively modest, has exploded in recent years. S&P estimates it as 33.5% of the GDP, as opposed to 10% prior to the crisis of 2008-2009.',\n",
       " 'Experiencing a budgetary deficit, the country has been asking for aid from the International Monetary Fund for months. The latter, in 2010, had given the former a 15,300 million dollars loan, but this time it has released just 3,400 million.',\n",
       " 'The IMF is refusing to pay any further installments until the country has adopted unpopular reforms to reduce its deficit, especially by increasing the price of gas for the population.',\n",
       " 'Following a fruitless mission to the country, the IMF noted this week that \"the significant need for external finance\" represented \"a weakness\", even though there were \"signs of economic improvement\".',\n",
       " 'However, for the economist, Oleksandr Joloud, from the Centre for Political Studies, \"no improvement can be expected in the short term\".',\n",
       " '\"There is little hope of unpopular reforms being made in a pre-election year,\" said the expert in an AFP interview. Presidential elections are planned for 2015.',\n",
       " 'The only hope is for an improvement in international circumstances.',\n",
       " 'S&P notes, furthermore, the \"uncertainty\" linked to the possible signing of an association agreement between Ukraine and the EU, which for Brussels is conditional on the release of opposition leader Yulia Timochenko.',\n",
       " '\"Signing the agreement would be good for business in the long term, but it might have negative consequences in the short term in relation to Russia\\'s reaction,\" explained S&P, which is concerned Moscow may introduce \"trade restrictions\".',\n",
       " 'Russia, which is responsible for a quarter of Ukrainian exports, has warned that if a free trade area is created between the EU and Kiev, it will have to reinforce its border controls for imported goods.',\n",
       " 'US Green-lights Publicis-Omnicom Merger',\n",
       " \"Publicis and Omnicom said on Friday that they had not received any objection from the American authorities to their plans to merge, thus bringing closer the creation of the world's biggest advertising agency.\",\n",
       " \"The merger brings together the world's second largest agency, Omnicom, and the third largest, Publicis.\",\n",
       " '\"The Omnicom Group and Publicis Group today announced the expiry of the period of investigation into the previously announced merger of the Publicis Group and Omnicom, under the Hart-Scott-Rodino Antitrust Improvements Act of 1976, as amended,\" the two groups announced in a press release.',\n",
       " 'They specified that they had also received the necessary authorisations from Canada, India and Turkey, in addition to those from South Africa and South Korea.',\n",
       " 'The expiry of the period of investigation provided for by the HSR in the United States and the authorisation decisions issued in the other jurisdictions satisfy many of the conditions necessary for the move to take place.',\n",
       " '\"The merger is also conditional upon obtaining other regulatory authorisations and the approval of the two groups\\' shareholders,\" they add.',\n",
       " 'Congolese Army Hunts Down M23 Rebels',\n",
       " 'The Congolese army (FARDC) announced on Thursday that its units would be hunting down M23 rebels right up to their bases located in the forests and mountains of North Kivu, which borders Rwanda and Uganda.',\n",
       " 'The M23 appears to be on the verge of defeat, having been driven out of the towns in the northeast of the Democratic Republic of Congo (RDC), which it had been in control of since the start of the uprising 20 months ago.',\n",
       " '\"We will pursue the M23 and drive it out of wherever it is hiding because they are criminals,\" Colonel Olivier Hamuli, spokesman for the FARDC, declared to Reuters.',\n",
       " '\"We must not allow them to regroup because they have been making the Congolese people suffer for too long.',\n",
       " 'The time has come for peace to be restored.\"',\n",
       " 'Leaders of the M23 say they evacuated the towns under diplomatic pressure and Bertrand Bisimwa, political leader of the rebellion, asserted on RFI that these military setbacks would not change its demands at the peace talks in any way.',\n",
       " 'According to the Ugandan mediators,talks between the government in Kinshasa and the M23 resumed in Kampala on Wednesday,.',\n",
       " 'Skirmishes were reported in the hills above Bunagana, the last town in the hands of the rebels to fall this week, and around Runyoni, a hill where the M23 rebellion started in 2012.',\n",
       " 'At their peak in November, the insurgents occupied Goma, the capital of the province of North Kivu, taking advantage of the retreat of the government garrison and the inaction of the Monusco blue berets.',\n",
       " 'The fall of Goma led the United Nations Mission in the Democratic Republic of Congo, the largest in the world in terms of numbers, to reinforce its mandate and form a rapid intervention force consisting of soldiers from South Africa, Malawi and Tanzania.',\n",
       " 'Meanwhile, FARDC staff has been reshuffled and the army has gone on the offensive against the M23, changing the course of the war.',\n",
       " 'The rate of progress of the government troops today is unprecedented.',\n",
       " '\"The M23 seems to be nearing its end,\" predicted an expert in Congolese affairs, Jason Stearns, on his blog Congo Siasa.',\n",
       " 'This would be historic - it would be the first time that the government in Kinshasa has succeeded in quashing a major insurrection.',\n",
       " 'And it would also be the first time since 1996 that there is no armed group allied to Rwanda present in the east of the RDC.',\n",
       " 'United Nations experts accuse Rwanda of providing military support to the M23, which has initially made up of mutinous former Congolese soldiers. Rwanda vehemently denies this.',\n",
       " 'The British Foreign Secretary, William Hague, called on the Rwandan President Paul Kagame to show restraint, a Foreign Office spokesman announced.',\n",
       " 'Last week, Kigali raised the possibility of military retaliation after shells landed in Rwandan territory.',\n",
       " 'On Wednesday, the inhabitants of Bunagana took to the streets of the town to welcome the entry of the FARDC troops.',\n",
       " '\"We have been living with the M23 for a year and it seemed unimaginable that we would one day be freed by the army,\" said an inhabitant of the town on the border with Uganda.',\n",
       " '\"We have been living in terror [of the M23], we are traumatised,\" the man added.',\n",
       " 'Tests carried out by the Pasteur Institute on a patient suspected of being infected by the coronavirus turned out negative, the Ministry of Health has announced.',\n",
       " 'It specified that \"the two cases identified in May 2013 remain the only confirmed cases in France to date.\"',\n",
       " 'The 43-year-old patient had been suspected of being infected on Tuesday, after returning from a trip to Saudi Arabia, where the disease has already killed about fifty people.',\n",
       " \"Chevron, the second largest oil company in America, announced a drop in quarterly profits on Friday, as a result of a reduction in its refining margins, although its production of oil and gas increased while still being below the group's target.\",\n",
       " 'Its net profit for the third quarter went down to $4,950 million, or $2.57 per share, as opposed to $5,250 million, or $2.69 per share, the previous year.',\n",
       " 'Analysts questioned by Reuters were counting on an average profit of $2.71 per share.',\n",
       " 'The group produced 2.59 million oil-equivalent barrels per day during the course of the quarter, an increase compared to the 2.52 million barrels per day produced a year before.',\n",
       " 'The company is targeting 2.65 million barrels per day for this year, with an increase of 25% in production planned by 2017.',\n",
       " 'The majority of the growth in the years to come will come from its liquefied natural gas schemes in Australia.',\n",
       " 'Because of the cost of these schemes, annual investment costs have gone up by seven thousand million dollars in two years and are expected to reach 36,700 million dollars in 2013.',\n",
       " 'The profits from production activities went down slightly in the third quarter, while profits from downstream activities (including refining and chemical production) fell 45% to 380 million dollars.',\n",
       " 'The reduction in refining margins is affecting the entire sector.',\n",
       " \"Chevron's main competitor, Exxon, also announced a drop in net profits on Thursday, despite an increase in its gas and oil production.\",\n",
       " 'School Transport: Complaint Judged Admissible',\n",
       " 'Since the beginning of the academic year, the Sherbrooke Region School Board (CSRS) has been demanding a $150 fee per student (to a maximum of $300 per family) for students using school transport to get to two addresses, a service that the organisation offers when it is able to.',\n",
       " 'No financial contribution had been demanded prior to the changes made to the last budget.',\n",
       " '\"The Board proposed a mediation service and I was interested,\" says Mrs Lefevre.',\n",
       " 'According to her, the CSRS was invited to a mediation and she asked for an additional period for consideration.',\n",
       " '\"It is always better to discuss, consult and find solutions such issues,\" Mrs Lefevre believes.',\n",
       " 'The Sherbrooke Region School Board (CSRS) did not wish to comment on the issue.',\n",
       " 'The organisation merely indicated that the mediation was part of a process arising from a complaint.',\n",
       " 'Row Over Closure of Emergency Unit at Hôtel-Dieu',\n",
       " 'In light of the rebellion that has been running for several months involving a section of the staff and several unions, including the CGT, the Minister of Health, Marisol Touraine, decided on July 10 to \"put back the schedule for implementing the project and, in particular, the date for closing the emergency unit which cannot take place on November 4\".',\n",
       " 'This was an official request made so as \"not to run any risks when dealing with emergency services in Paris at the start of winter\", but also aimed at avoiding to hinder the Socialist Party\\'s campaign a few months before local elections.',\n",
       " \"Despite the minister's instructions, the closure is nevertheless expected to take effect on this date.\",\n",
       " 'At the APHP, officials prefer the term \"transformation\" or \"change in continuity\" to closure.',\n",
       " 'From November 4, the units of the fire brigade, which accounted for a quarter of the 40,000 cases brought to the emergency unit of the Hôtel-Dieu each year, will all have received instructions to take their about thirty serious cases per day to the emergency units of other hospitals in Paris.',\n",
       " 'November 4 is also the day on which hospital training resumes.',\n",
       " 'At the Hôtel-Dieu, interns specialising in emergencies will make way for five general medicine interns on Monday.',\n",
       " 'The transfer of internal medicine beds is scheduled for some point during the month.',\n",
       " '\"The Hôtel-Dieu emergency service has to close as soon as possible, and for us, that\\'s November 4,\" Loïc Capron, the chairperson of the medical committee (CME) at the APHP which supports the management project, says straightforwardly.',\n",
       " '\"On November 4, patients will no longer be brought by the fire brigade, there will only be people arriving by their own means,\" confirms Professor Jean-Yves Fagon, chief medical officer at the new Hôtel-Dieu.',\n",
       " '\"However, we will continue accepting emergency cases,\" he tempers, emphasising the permanent presence of emergency medical service vehicles on site to move critical cases.',\n",
       " '\"Senior emergency doctors will remain on site,\" he also assures.',\n",
       " 'But the decision to close the emergency service resides with the regional health agency (ARS).',\n",
       " '\"Things are moving gradually,\" says Nicolas Péju, spokesman for the ARS, for whom \"there will be no change in terms of the service offered\", come November 4.',\n",
       " '\"The minister has either lied to us or has been lied to,\" laments emergency medical officer, Gérald Kierzek.',\n",
       " 'Dismissed from his position as head of emergency services in early July for taking a stand against the reorganisation project, he defines himself as a \"whistle-blower\" in the face of a \"cynical\" decision taken by the \"technical medical administration body\".',\n",
       " '\"They are in the process of abandoning and killing off emergency units that were reformed less than five years ago,\" he believes.',\n",
       " 'For him, \"if the other emergency services in Paris were able to absorb the surplus, there wouldn\\'t be a problem.\"',\n",
       " 'But they are regularly saturated.',\n",
       " 'For example, there is sometimes a nine hour wait at the emergency unit at Lariboisière.',\n",
       " 'The ARS stresses that thirty patients \"despatched\" to several locations does not run the risk of becoming an \"avalanche\" for the other emergency services, where human resources would have been reinforced anyway.',\n",
       " 'The ARS, like the APHP, is defending the \"new hospital model\" which started being implemented on October 7 and is expected to continue taking 30,000 to 35,000 patients a year.',\n",
       " 'By the end of the year, self-employed GPs are also expected to participate in the implementation of an \"ambulatory care service\".',\n",
       " '\"Where are we heading if we start asking people to self-diagnose?\" asks Gérald Kierzek, for whom \"the concept of a non-major emergency\" is \"dangerous\" and marks a \"medical step backwards\".',\n",
       " '\"The same thing will happen as with level 3 maternity units.',\n",
       " 'People are not stupid, they will go wherever the best care is offered.\"',\n",
       " '\"If the minister does not take a step by Monday, we will take a different approach,\" warns Christophe Prudhomme, emergency medical officer and member of the healthcare CGT.',\n",
       " '\"We will have a greater presence in the local election campaigns and we will think about putting up a list.\"',\n",
       " 'In Nathalie Kosciusko-Morizet\\'s team, Vincent Roger, a UMP councillor in Paris and MP of the 4th arrondissement, states clearly that \"even if the UMP in Paris supports the continuation of emergency services at Hôtel-Dieu, it would be technically and financially impossible to reopen them if you look at the duties.\"',\n",
       " \"Ann Hidalgo, the Socialist Party's candidate, repeated on Monday morning on France Inter that she was in favour of a moratorium to prevent the closure on November 4.\",\n",
       " 'If it went ahead, she would register her clear disagreement, stresses Bruno Juillard, her spokesman.',\n",
       " '\"Even though the reorganisation of the Hôtel-Dieu has an underlying justification, we cannot let this happen without an acceptable plan for the transfer of patients to other hospitals.\"',\n",
       " 'Obama Ends Spying on IMF and World Bank',\n",
       " 'Barack Obama has ordered the National Security Agency (NSA) to stop tapping the lines of the International Monetary Fund and the World Bank as part of its intelligence activities, said an American official on Thursday.',\n",
       " 'This decision is part of attempts by the White House to resume control of the NSA phone-tapping affair following revelations by the former analyst, Edward Snowden, who has taken refuge in Russia.',\n",
       " 'This is the first time that surveillance of the IMF and World Bank by the intelligence agency has been mentioned since the start of the scandal.',\n",
       " 'When asked about this, an official of the American administration replied: \"The United States is not conducting electronic surveillance aimed at offices of the World Bank and IMF in Washington.\"',\n",
       " 'Talking under the cloak of anonymity, the official did not specify whether such surveillance had taken place in the past.',\n",
       " 'Another official indicated that Barack Obama had given the order to stop these practices during recent weeks.',\n",
       " 'The instruction was given at almost the same time as that putting an end to phone-tapping of the UN headquarters in New York.',\n",
       " 'In this regard, the Senate Intelligence Committee approved strengthening of the controls on government surveillance programmes on Thursday, but still authorised them to proceed.',\n",
       " 'The committee introduced new restrictions on the data that the intelligence services were authorised to collect and imposed a limit of five years on the length of time they could hold such data.',\n",
       " 'UN hails new goals to tackle poverty',\n",
       " 'The United Nations is to start work immediately on a new set of goals to replace the millennium development goals, which were put place 12 years ago to tackle global poverty.',\n",
       " 'Australian diplomats played a key role in pushing for \"sustainable development goals\" to replace the MDGs, which expire in 2015, ahead of the UN sustainable development summit that began in Rio de Janeiro overnight.',\n",
       " 'They were included in the final draft of the document, which will be endorsed by world leaders including Ms Gillard during the summit.',\n",
       " 'UN Secretary-General Ban Ki-moon told the summit overnight that now is the time to \"rise above national interests.\"',\n",
       " '\"I am pleased that member states have agreed to launch and take ownership of a process to establish universal sustainable development goals - SDGs,\" he said.',\n",
       " 'These SDGs will build on our advances under the millennium development goals, and they will be an integral part of the post-2015 development framework.',\n",
       " 'I will spare no effort to implement the mandate given to me by member states to realise our vision of sustainable development goals that build on the success of the MDGs.',\n",
       " 'Mozambique security concerns mount as powerful personalities clash',\n",
       " \"With a statue of Samora Machel, Mozambique's founding president, staring down on them, thousands of people gathered in central Maputo to chant peace slogans in a rare public demonstration.\",\n",
       " '\"We want peace back; we want stability,\" said Vanessa de Sousa, chief executive of an investment company.',\n",
       " 'Fearful about the future of her country, she swapped her corporate attire for a T-shirt emblazoned with \"we demand security\" in Portuguese as she joined the crowds in the capital\\'s Independence Square on Thursday.',\n",
       " 'For two weeks, there have been almost daily reports of clashes between government forces and Renamo, some of the worst skirmishes since a peace deal more than 20 years ago.',\n",
       " \"Renamo was once a notorious rebel movement, initially backed by white-ruled Rhodesia and then South Africa's apartheid government as part of efforts to destabilise the country's independent government.\",\n",
       " 'After a 1992 peace deal, it became an opposition party.',\n",
       " 'Analysts believe the country is unlikely to slide back into full-blown conflict, but recent events have unnerved foreign investors and locals.',\n",
       " 'The stakes are high for the fast-growing economy as the discovery of huge offshore gas reserves and coal deposits in the northwest could bring in more than $50bn of investment over the next few next years from companies including Rio Tinto, Vale of Brazil, Eni of Italy and Anadarko of the US.',\n",
       " 'The ruling Frelimo party, the dominant political force since 1975, and Renamo blame each other for the tension.',\n",
       " 'Renamo says the government initiated the latest clashes by launching an attack on its members in Sofala province, traditionally a Renamo stronghold, on October 17.',\n",
       " \"Assaults on the former rebels then escalated as government forces attacked Renamo bases and attempted to kill Afonso Dhlakama, the group's leader, Fernando Mazanga, Renamo's spokesman, told the Financial Times.\",\n",
       " 'The government blames Renamo for triggering the clashes, accusing it of attacking soldiers.',\n",
       " 'President Armando Guebuza has sought to play down concerns about instability.',\n",
       " 'Mr Guebuza told AFP, the French news agency, on Wednesday that Mr Dhlakama saw himself as a \"loser\" who wanted to use \"whatever remains of his forces to try to prove that he can impose on the government his own decisions.\"',\n",
       " 'Both Frelimo and Renamo insist they want to avoid war.',\n",
       " 'But concerns have grown after Mr Mazanga was quoted as saying Renamo was abandoning the 1992 peace accord.',\n",
       " 'He told the FT that he meant the agreement was no longer being respected by Frelimo.',\n",
       " '\"Our vision is to come back to negotiations, but with seriousness,\" Mr Mazanga said.',\n",
       " 'Previous talks between the parties have done little to ease tensions fuelled by a series of clashes this year.',\n",
       " '\"It\\'s two big men (Guebuza and Dhlakama) butting heads together,\" said Joseph Hanlon, a lecturer at the Open University and Mozambique expert.',\n",
       " 'Neither of them are good negotiators and neither of them are prepared to make the kind of concessions that are necessary.',\n",
       " 'Renamo, which has been pushing for electoral reforms, had already said that it would boycott municipal elections due in November.',\n",
       " 'Presidential and parliamentary polls are scheduled for next year.',\n",
       " 'Some commentators have interpreted its use of force as the attempt of an ailing movement to win concessions and financial spoils from the government.',\n",
       " \"Renamo's share of the vote has been declining since 1992, while a newer party, the Democratic Movement of Mozambique (MDM) which was formed by a former Renamo member, is expected to improve its showing at the elections.\",\n",
       " \"Mr Mazanga says Mr Guebuza - who is due to step down when his second term ends next year - wants to destroy the country's democracy.\",\n",
       " '\"He does not want multi-party democracy, he does not want transparent elections he does not want peace because he does not want to leave the presidency,\" Mr Mazanga said.',\n",
       " 'It is unclear how much capacity Renamo has, but it has carried out disruptive hit-and-run attacks on police stations and vehicles on a key north-south highway.',\n",
       " 'Most of the skirmishes have taken place in Sofala province, which is several hundred kilometres north of Maputo, but hosts Beira, the port that miners, including Rio Tinto and Vale, rely on to export coal.',\n",
       " 'In June, Rio suspended its use of the railway for about a week after Renamo threatened to attack the line.',\n",
       " 'Mr Mazanga was coy when asked about whether Renamo would repeat this threat.',\n",
       " 'Renamo wanted to \"warn the international community that things were not going well in Mozambique,\" Mr Mazanga said.',\n",
       " 'The instability has added to frustrations with the government, says Fernando Lima, head of Mediacoop, an independent media company, with many people also concerned about corruption, the slow pace of development and a recent spate of kidnappings.',\n",
       " '\"People think the ones responsible for the future of the country are the government and the president, and he should be the one to find solutions for the problems,\" he says.',\n",
       " 'Omar Sultuane, a demonstrator, said people just wanted stability.',\n",
       " '\"No one cares about Renamo and Frelimo, they just want peace again, they want free access to the roads,\" he said.',\n",
       " 'Children should be taught myths and legends as \"models for a way of life\", author says.',\n",
       " 'Tales of Thor could show \"brute strength is no match for subtle trickery,\" while the Arthurian legends reveal the importance of having a dream.',\n",
       " 'Saying many of the myths would be \"far too wild, far too scandalous and in some cases far too filthy to be taught in schools,\" Crossley-Holland advocated a \"careful selection\" of age-appropriate works.',\n",
       " '\"I find it wonderful that in America, myth and folklore already has a part in education,\" he said.',\n",
       " 'I have been advocating it as a plan for twenty years.',\n",
       " 'He added authors and teachers being \"overtly didactic\" is a \"total switch-off\" for children, with messages being \"subliminated\" in enjoyable stories.',\n",
       " 'Crossley-Holland, who has translated Beowulf from Anglo-Saxon as well as writing the Penguin Book of Norse Myths and British Folk Tales, said: \"You may well have intentions but you do better to keep them well out of sight.\"',\n",
       " 'Perhaps the big difference between an adult author writing for an adult and an adult author writing for a child is the necessity for some sense of hope.',\n",
       " 'Not that everything has to be simplified or come to a happy ending, but that there is an innate sense of good and evil.',\n",
       " 'And that must be subliminated; revealed through a story rather than stated.',\n",
       " 'The old basis of showing not telling.',\n",
       " \"A fighter of Hamas' armed wing was killed this evening and another wounded by Israeli tank fire in the Gaza Strip, medical and security sources in Gaza report.\",\n",
       " 'According to these sources, the activists were conducting a surveillance operation in the border area between the Palestinian territory and Israel, when they were shelled by an Israeli tank.',\n",
       " 'NSA Spying: The United States \"went too far,\" Kerry admits',\n",
       " 'The United States sometimes went \"too far\" with its espionage activities, Secretary of State John Kerry recognised in the first admission from Washington, which is deep in controversy with Europe over the massive collection of data by the National Security Agency (NSA).',\n",
       " \"After ten days of scandal, revelations and denials between the United States and its European allies, this is the first time that an official of the American government has explicitly admitted controversial activities in the NSA's interception of communications and data in Europe.\",\n",
       " '\"In certain cases, I acknowledge, as does the President, that some of these activities went too far and we guarantee that this will not happen in the future,\" declared John Kerry at a conference in London that he was participating in from Washington via a video link on Thursday October 31.',\n",
       " 'In his relayed speech, and in the presence of his British counterpart, William Hague, the head of the American diplomatic service justified at length the intelligence practices and collection of data as part of the necessary fight against terrorism and the prevention of possible attacks.',\n",
       " 'Citing the attacks of 11 September 2001, the attacks in Madrid in March 2004 and those in London in July 2005, John Kerry assured that the American authorities had since thwarted numerous planned attacks thanks to the interception of communications and the collection of data.',\n",
       " '\"We have prevented planes being brought down, buildings being blown up and people being murdered, because we have been able to stay informed prior to these attacks,\" the head of the American diplomatic service argued.',\n",
       " 'Furthermore, John Kerry stated in his address to the Europeans, \"I assure you that no innocent person has been misled during this process.\"',\n",
       " 'Yet America strives to collate data.',\n",
       " '\"Yes, in certain cases, this went too far in an inappropriate manner,\" the Secretary of State again admitted, having already had to make a statement on the international scandal during a tour in Paris, London and Rome last week.',\n",
       " 'On Thursday evening, he asserted that President Obama had \"resolved to try to clarify the matter and had initiated a re-examination of these practices to ensure that no-one felt misled\".',\n",
       " 'But the controversy between the Americans and Europeans continued to grow this week with new revelations in the press.',\n",
       " 'According to the Washington Post, the NSA has been intercepting data of hundreds of millions of Google and Yahoo users.',\n",
       " 'The newspaper, which quotes documents obtained by the former NSA consultant, Edward Snowden, stated that the programme dubbed \"MUSCULAR\" and conducted in conjunction with the British counterpart of the NSA, the GCHQ, enabled the two agencies to gather data from the fibre-optic cables used by Internet giants.',\n",
       " 'According to one of the documents, some 181 million items were collected during the month of January alone - ranging from meta data on emails to text elements or audio and video files.',\n",
       " 'These interceptions apparently took place outside the USA.',\n",
       " 'However, Yahoo and Google have denied any involvement in these practices.',\n",
       " 'For ten days now, a number of major newspapers in France, Germany, Spain and Italy have been revealing that the NSA had intercepted massive quantities of data and communications emanating from allies of the United States and their leaders, in particular the German Chancellor Angela Merkel.',\n",
       " 'Following the outrage of the European states, and even though leaks to the American press stated that the American President was not up-to-date with these spying activities, Barack Obama has refused to comment on the matter, citing national security.',\n",
       " 'On the other hand, the head of the powerful NSA, General Keith Alexander, denied that his intelligence agency had captured tens of millions of communications from European citizens.',\n",
       " 'He even pointed the finger back at the European intelligence services who allegedly got hold of these communications before passing them on to the NSA.',\n",
       " 'This concerned \"military operations\" in countries where the NATO allies are cooperating with the United States and this absolutely did not target Europe, according to General Alexander.',\n",
       " 'The discord spread to Asia on Friday.',\n",
       " 'Indonesia summoned the Australian ambassador, whose mission is accused of being used by the Americans as part of a vast international espionage network, which has also aroused the ire of China.',\n",
       " 'Paris Saint-Germain will face Lorient on Friday without its trump card, the Swede Zlatan Ibrahimovic, who is suffering from an injury, the Ligue 1 club announced in a press release.',\n",
       " 'PSG, who are top of the league ahead of Monaco on goal difference, issued the team sheet for the match, which is the 12th of the season, on which the 32-year-old striker did not appear.',\n",
       " 'The press release said only that he is \"injured\", without saying what the injury was.',\n",
       " 'However, he was suffering from an inflammation on the left knee following his return from international duty this month.',\n",
       " 'Ceremony in Memory of the Cremated',\n",
       " 'The Père Lachaise crematorium is organizing a lay ceremony at 11am in memory of all those cremated at the establishment this year.',\n",
       " 'Anne Hidalgo, socialist candidate for Paris mayorship, is expected to attend and will later explain her proposals on funerary matters at a press conference.',\n",
       " 'Click above to watch the ceremony.',\n",
       " 'More and more French people are choosing cremation for their own funerals rather than inhumation - 53% against 47%, according to an Ipsos survey carried out on September 6 and 7 among 1,009 people.',\n",
       " 'It is the opposite for the funeral of a loved one - the French prefer inhumation (53% against 47%).',\n",
       " 'Only 15% of those who lose a child choose cremation.',\n",
       " 'In his book, La Mort en Cendres, Damien Le Guay, philosopher and vice-chairperson of the Comité National d\\'Ethique du Funéraire emphasises the \"violence\" that cremation represents for those left behind.',\n",
       " 'With cremation, there is a sense of \"violence committed against the body of a loved one\", which will be \"reduced to a pile of ashes\" in a very short time instead of after a process of decomposition that \"would accompany the stages of grief\".',\n",
       " 'There is also a \"symbolic violence\" that relates to the \"obliteration of the person\\'s singularity and of distinctive symbols\", which are reduced to the \"anonymity\" of ashes.',\n",
       " 'Why is this accepted without difficulty in certain Nordic and protestant countries, but is still taken badly in France?',\n",
       " '\"Because cremation is a recent development,\" says Marie-Frédérique Bacqué, president of the Thanatological Society and author of the book Apprivoiser la Mort.',\n",
       " 'The Catholic Church only started tolerating it in 1963, a fact that has restricted efforts at getting to grips with it.',\n",
       " 'For François Michaud-Nérard, director general of Funerary Services for the City of Paris, getting to grips with cremation is about giving the deceased a ceremony as dignified as it would have been with an inhumation.',\n",
       " 'The annual Ipsos survey shows the strength of attachment to the arrangement of the ceremony.',\n",
       " '77% of French want one for their loved ones, be it religious (53%) or civil (24%).',\n",
       " 'Nowadays, 73% of people choosing cremation want a ceremony to be arranged.',\n",
       " '66% of atheists or non-believers also want one.',\n",
       " 'Crematoria have adapted to this change in society.',\n",
       " '\"For a decade or so, they have been trying hard to spare families from the feeling of violence in waiting for an hour and a half, doing nothing, followed immediately by their being handed the ashes,\" observes Michaud-Nérard.',\n",
       " '70% of establishments now offer a master of ceremonies to conduct the following ritual in the presence of the body: greet the congregation, mention the deceased by name, connect the deceased to those present, evoke who the person was, give sense to their death, organise a farewell.',\n",
       " 'This is what has been happening at the Père Lachaise crematorium since 1998.',\n",
       " 'The masters of ceremonies are often people who have moved into this new type of employment.',\n",
       " 'There are also former Catholic priests.',\n",
       " 'It is in this context that, since 2010, the Père Lachaise crematorium has been organising a number of memorial ceremonies, lay and non-religious, on All Saints Day, to which it invites the families of all those who have been cremated during the course of the year.',\n",
       " 'For the second consecutive year, one of these ceremonies has been relayed online, for those could not attend.',\n",
       " 'The crematorium has authorised us to broadcast it.',\n",
       " 'Rehousing Due to Rats Causes Strife in La Seyne',\n",
       " 'At the start of this week, a family abandoned its ground floor apartment in building Fructidor D2 because of the presence of rats.',\n",
       " 'In view of the urgency of the situation, the director of the Terres du Sud Habitat office offered to provide exceptional, provisional rehousing for the couple and their three children in a new four-room house.',\n",
       " 'However, the family refused \"for financial reasons\" and the situation is at stalemate.',\n",
       " '\"The matter has become exaggerated,\" thinks Joël Canapa, office director.',\n",
       " '\"There have always been rats in towns.',\n",
       " 'The rat extermination company conducts two operations per year. Furthermore, we intervene at our own cost whenever there is a complaint from residents.',\n",
       " 'Hence we have carried out 64 operations since last winter.',\n",
       " 'The area has not been abandoned and rats are not swarming into the town.',\n",
       " 'Due to environmental protection and public health concerns, rat extermination products are four times less efficient than in the past, but we are not going to kill a kid for the sake of two rats.\"',\n",
       " '\"We didn\\'t invite the rats in,\" counters the father of the family, which left its home and moved into a hotel.',\n",
       " '\"We will soon be penniless and we are waiting for a new house at the same rate as the old one.\"',\n",
       " 'News: Tokyo Stock Exchange Closes 0.88% Down',\n",
       " 'The Tokyo stock exchange was down at closing time on Friday, in spite of good manufacturing figures from China.',\n",
       " 'The list suffered as a result of the decline of the dollar against the yen, which is harmful to export values, and of the annual profit warning issued by Sony on Thursday.',\n",
       " 'The Nikkei index dropped 126.37 points (0.88%) to 14,201.57 and the Topix was 11.23 points (0.94%) down, at 1,183.03.',\n",
       " 'Sony dropped more than 11% to 1,668 yen.',\n",
       " 'House Engulfed in Flames in Old Quebec',\n",
       " 'A fire that started at midday on Friday in Old Quebec was quickly brought under control.',\n",
       " 'More than thirty firemen rushed to 9 Rue Hébert.',\n",
       " 'The fire started in a three-apartment house on four floors, situated behind the yard of the Quebec Seminary.',\n",
       " 'All the tenants were out when the fire started.',\n",
       " 'The fire was brought under control an hour after the firemen who arrived in their numbers to intervene.',\n",
       " 'As soon as the first firemen arrived, they could clearly see the smoke.',\n",
       " '\"The alarms went off one after the other as it took reinforcements to deal with the building, because the buildings here are close together,\" explained France Loiselle, spokesperson for the Quebec fire service.',\n",
       " 'An investigation is under way to find the cause of the fire.',\n",
       " 'Ben Greenman: The Tenth Anniversary of the New York Comedy Festival: The New Yorker',\n",
       " 'One could argue that New York City is the birthplace of standup comedy in America: nearly a hundred years ago, the vaudevillian Frank Fay, who served as the master of ceremonies at the Palace Theatre, on Broadway, started telling jokes directly to the crowd, in a conversational manner.',\n",
       " \"Fay's innovation has been extended through the years, most recently by the New York Comedy Festival.\",\n",
       " 'Created and overseen by Caroline Hirsch, the founder of the standup institution Carolines, the festival celebrates its tenth anniversary this year, with more than sixty shows at small clubs and large theatres.',\n",
       " '\"Most of these headliners appeared at Carolines, and went on to greater success, to the point where they\\'re too big to play a club,\" Hirsch said.',\n",
       " 'We built this festival as a way of continuing to work with them.',\n",
       " 'This year\\'s event includes appearances by Wanda Sykes, Kathy Griffin, and Bill Maher, as well as \"Stand Up for Heroes,\" an annual music-and-comedy benefit for military veterans, at Madison Square Garden, featuring, among others, Bruce Springsteen, Jon Stewart, Roger Waters, and Bill Cosby.',\n",
       " 'As the festival has expanded, so has the world of comedy.',\n",
       " \"Several of the comedians participating in this year's festival came up through nontraditional channels, such as shows on smaller networks, like Comedy Central, FX, and Spike.\",\n",
       " 'Nick Kroll rose to prominence on a deep-cable sitcom (FXX\\'s gleefully raunchy fantasy-football-themed \"The League\") and now has his own Comedy Central sketch show.',\n",
       " 'Jenny Slate has been a cast member on both \"Saturday Night Live\" and \"Parks and Recreation,\" though she is best known for her viral video series \"Marcel the Shell with Shoes On.\"',\n",
       " 'Both Kroll and Slate, as well as other young comedians with distinctive voices (the surreally pessimistic Anthony Jeselnik, the wry, racially focussed W. Kamau Bell), are products of the decentralized world of American comedy.',\n",
       " \"One of the festival's biggest draws will be an interview: David Steinberg talking to Larry David.\",\n",
       " 'Steinberg started as a standup comedian but has become an accomplished television and film director, as well as an unofficial comedy historian.',\n",
       " 'From 2005 to 2007, he hosted a show on TV Land called \"Sit Down Comedy with David Steinberg.\"',\n",
       " 'The meeting takes place at Town Hall, in the center of Manhattan.',\n",
       " '\"The city is definitely in the comedy DNA of all of Larry\\'s work,\" Steinberg said.',\n",
       " \"He was telling me that, when he's here, sometimes he'll walk down an alley between two buildings and think to himself, Hey, if I lose all my money, maybe I'll live here.\",\n",
       " 'Oil extends drop toward $96 a barrel',\n",
       " \"The price of oil continued to fall on Friday as concerns over high supplies offset a report showing China's power-hungry manufacturing sector is strengthening.\",\n",
       " 'Benchmark U.S. crude for December delivery was down 14 cents at $96.24 a barrel by late morning in Europe in electronic trading on the New York Mercantile Exchange.',\n",
       " 'The contract fell 39 cents on Thursday, leaving it down 5.8 percent for the month of October.',\n",
       " 'Ample supplies of crude have weighed on the price in recent weeks.',\n",
       " 'The Energy Department said Wednesday that U.S. supplies increased 4.1 million barrels last week.',\n",
       " 'Over five weeks, supplies have risen by more than 25 million barrels.',\n",
       " 'But a suggestion of stronger demand came Friday from two reports on Chinese manufacturing that showed an uptick in activity.',\n",
       " \"That suggests China's economic recovery could continue to strengthen after growth rebounded to 7.8 percent in the third quarter from a two-decade low in the previous quarter.\",\n",
       " 'Brent crude, a benchmark for international crude also used by U.S. refineries, fell 26 cents to $108.58 a barrel on the ICE exchange in London.',\n",
       " 'Abortion Law in Texas Challenged',\n",
       " 'A federal appeal court in Texas has reintroduced certain restrictions on the right to voluntary termination of pregnancy, which had been blocked by a trial judge this week.',\n",
       " 'The decision means that a legal text adopted in the state in July generally challenging the right to abortion will be able to come into force.',\n",
       " 'The decision by the court of appeal means that doctors who practise abortion will need to have an \"admitting privilege\" with local hospitals.',\n",
       " 'An admitting privilege is the right of a doctor to admit a patient to a hospital or a medical centre to carry out a diagnosis or a procedure, based on his status as a health care worker at a hospital.',\n",
       " 'Defenders of abortion stress that the content of the law may lead to the immediate closure of a third of clinics in the state, as these clinics have failed to obtain the admitting privilege for their practitioners.',\n",
       " 'In all, nearly 22,000 women will be deprived of access to such establishments.',\n",
       " 'On Monday, the day before the law was due to come into force, a trial judge considered that the provisions pertaining to admitting privileges were unconstitutional.',\n",
       " 'But the Attorney General for Texas, Republican Greg Abbott, who is canvassing for the role of governor, asked the court of appeal to overturn the judgement from the trial court blocking the application of the law.',\n",
       " 'A plenary hearing on the matter is scheduled to take place in January.',\n",
       " '\"La Nouvelle Star\" made a big comeback in terms of audiences, with 1.3 million TV viewers, that is a 5.6% share of the viewing audience.',\n",
       " 'But was the show up to expectations?',\n",
       " 'Some 10,000 candidates turned up at the auditions to face the jury for this 10th season: Maurane, the naughty Sinclair, the high-pitched André Manoukian and Olivier Bas.',\n",
       " 'The viewers shared their thoughts on Twitter.',\n",
       " 'The excitement of finding their favorite programme having subsided, many are disappointed.',\n",
       " 'But why where they so disappointed?',\n",
       " 'None of the contestants seem to have really stood out at first glance.',\n",
       " 'As every year, the first audition shows threw in a wide variety of budding singers into the mix, sometimes for the best and sometimes not.',\n",
       " 'But, on Twitter, people want a spectacle, emotion, originality, music...',\n",
       " 'Fortunately, a few got just that.',\n",
       " 'Many people have tried \"La Nouvelle Star\", and some have even gotten through.',\n",
       " 'Behind the television screens, there are always those cut out to be successful singers, season after season.',\n",
       " 'Others are just out to make you laugh.',\n",
       " 'Court blocks ruling on NYPD stop-and-frisk policy',\n",
       " \"A federal appeals court on Thursday blocked a judge's order requiring changes to the New York Police Department's stop-and-frisk program and removed the judge from the case.\",\n",
       " 'The 2nd U.S. Circuit Court of Appeals said the decisions of Judge Shira Scheindlin will be stayed pending the outcome of an appeal by the city.',\n",
       " 'The judge had ruled in August the city violated the Constitution in the way it carried out its program of stopping and questioning people.',\n",
       " 'The city appealed her findings and her remedial orders, including a decision to assign a monitor to help the police department changes its policy and training program associated with it.',\n",
       " 'The appeals court heard arguments Tuesday on the requested stay.',\n",
       " 'The appeals court said the judge needed to be removed from the case because she ran afoul of the code of conduct for U.S. judges by compromising the necessity for a judge to avoid the appearance of partiality in part because of a series of media interviews and public statements responding publicly to criticism of the court.',\n",
       " 'The judge had ruled that police officers violated the civil rights of tens of thousands of people by wrongly targeting black and Hispanic men with its stop-and-frisk program.',\n",
       " 'She appointed an outside monitor to oversee major changes, including reforms in policies, training and supervision, and she ordered a pilot program to test body-worn cameras in some precincts where most stops occur.',\n",
       " 'In August, New York City agreed to end the practice of storing the names and addresses of people whose cases are dismissed after a police stop.',\n",
       " \"An oral argument on the city's appeal is scheduled for sometime after March 14, 2014.\",\n",
       " 'The stop-and-frisk tactic has been criticized by a number of civil rights advocates.',\n",
       " 'Stop-and-frisk has been around for decades in some form, but recorded stops increased dramatically under the administration of independent Mayor Michael Bloomberg to an all-time high in 2011 of 684,330, mostly of black and Hispanic men.',\n",
       " 'A lawsuit was filed in 2004 by four men, all minorities, and became a class action case.',\n",
       " \"Supporters of changes to the NYPD's stop-and-frisk program say the changes will end unfair practices, will mold a more trusted and effective police force and can affect how other police departments use the policy.\",\n",
       " 'Opponents say the changes would lower police morale but not crime, waste money and not solve a broader problem of a police force under pressure after shrinking by thousands of officers during the last decade.',\n",
       " \"The judge noted she wasn't putting an end to the stop-and-frisk practice, which is constitutional, but was reforming the way the NYPD implemented its stops.\",\n",
       " 'Tenants have to go and vote, as each of them pays an average of $100 a month in the cost of their accommodation that goes to the City in taxes.',\n",
       " 'If the owner pays $5000 in municipal taxes, he divides this figure between each house.',\n",
       " 'We are forced to increase the rent to help us pay the new taxes.',\n",
       " 'By going to vote, we are sending a clear message.',\n",
       " 'We need to change things in the city.',\n",
       " 'All the candidates have told us that they would tackle this scandalous debt.',\n",
       " 'We no longer have the means to pay $100,000 for fireworks, $4-5 million for land just in case...',\n",
       " 'Go and vote, that is the best way to express yourself and say enough is enough.',\n",
       " 'End of the Road for Elysée Head Chef',\n",
       " 'Having entered the 500m2-space of the kitchens at the Elysée Palace as an assistant after working in embassies, the cook climbed up the ladder to become head chef nine years ago.',\n",
       " 'He has served six French presidents, from Georges Pompidou to Nicolas Sarkozy and François Hollande, including at their holiday homes, and fed an uncountable number of world figures, surrounded by a cloud of anonymity that he has only emerged from today, as he retires at 60.',\n",
       " 'Born on 24 October 1953 in La Ferté-Saint-Aubin, the man with an open face, a balding head and the glasses of an intellectual is the holder of a certificate of professional competence in confectionery.',\n",
       " 'His mother was a cook in a château in Sologne.',\n",
       " '\"I\\'ve moved from one château to another!\" says Bernard Vaussion ironically. He is familiar, not only with the habits of the six presidents for whom he has cooked, but also with those of their wives and some of their illustrious guests.',\n",
       " '\"It\\'s always the Head of State or his partner or wife who chooses the menu,\" he recalls.',\n",
       " '\"Madame Chirac was a little more involved and would come right into the kitchen,\" to the point where she forbade women to enter the kitchens in the Elysée Palace!',\n",
       " 'With all due respect to heads of state who appeared relatively indifferent to fruits of the earth, \"they are all fond of food\" Bernard Vaussion reveals graciously.',\n",
       " 'Jacques Chirac certainly had a \"more refined palate\".',\n",
       " 'But with Nicolas Sarkozy, who forbade cheese, the plates always came back empty!',\n",
       " 'François Hollande, who reintroduced cheese, is \"a man who likes to eat\" and \"he is not very choosy\".',\n",
       " 'The current Head of State, who has put back on the pounds he lost during the presidential campaign, does \"not have a specific diet requirement\".',\n",
       " 'Bernard Vaussion also recalls the pressure that would rest on his shoulders, especially during state dinners at the Elysée, where one had to serve \"between 200 and 250 people in around an hour\".',\n",
       " 'The night before would be practically sleepless.',\n",
       " 'Such people would not understand if something went wrong.',\n",
       " 'The now former head chef at the Elysée, who shared a drink on Tuesday evening with his team, his family and friends, is leaving with a twinge of sorrow. \"François Hollande came to say goodbye.\"',\n",
       " 'He was full of praise.',\n",
       " ...]"
      ]
     },
     "execution_count": 5,
     "metadata": {},
     "output_type": "execute_result"
    }
   ],
   "source": [
    "texts"
   ]
  },
  {
   "cell_type": "code",
   "execution_count": 6,
   "metadata": {},
   "outputs": [],
   "source": [
    "import evaluate\n",
    "metric = evaluate.load(\"sacrebleu\")\n",
    "import os\n",
    "getpwd = os.getcwd()"
   ]
  },
  {
   "cell_type": "code",
   "execution_count": 7,
   "metadata": {},
   "outputs": [],
   "source": [
    "# Specify the file path\n",
    "\n",
    "file_path_en = os.path.join(getpwd, \"original_english.txt\")\n",
    "# file_path = \"/path/to/translations.txt\"\n",
    "\n",
    "# Open the file in write mode\n",
    "with open(file_path_en, \"w\") as file:\n",
    "    # Write each translation to the file\n",
    "    for text in texts:\n",
    "        file.write(text + \"\\n\")"
   ]
  },
  {
   "cell_type": "code",
   "execution_count": 8,
   "metadata": {},
   "outputs": [],
   "source": [
    "# Specify the file path\n",
    "# import os\n",
    "# getpwd = os.getcwd()\n",
    "file_path_fr = os.path.join(getpwd, \"original_french.txt\")\n",
    "# file_path = \"/path/to/translations.txt\"\n",
    "\n",
    "# Open the file in write mode\n",
    "with open(file_path_fr, \"w\") as file:\n",
    "    # Write each translation to the file\n",
    "    for label in labels:\n",
    "        file.write(label + \"\\n\")"
   ]
  },
  {
   "cell_type": "code",
   "execution_count": 9,
   "metadata": {},
   "outputs": [],
   "source": [
    "from transformers import AutoTokenizer, AutoModelForSeq2SeqLM\n",
    "from tqdm import tqdm"
   ]
  },
  {
   "cell_type": "markdown",
   "metadata": {},
   "source": [
    "# google-t5/t5-small"
   ]
  },
  {
   "cell_type": "code",
   "execution_count": 17,
   "metadata": {},
   "outputs": [
    {
     "name": "stderr",
     "output_type": "stream",
     "text": [
      "Translating: 100%|██████████| 3003/3003 [23:23<00:00,  2.14it/s]\n"
     ]
    }
   ],
   "source": [
    "# # Generate multiple translations in batched format\n",
    "\n",
    "\n",
    "# # Initialize the tokenizer and model\n",
    "tokenizer_t5_small_pretrained = AutoTokenizer.from_pretrained(\"google-t5/t5-small\")\n",
    "model_t5_small_pretrained = AutoModelForSeq2SeqLM.from_pretrained(\"google-t5/t5-small\")\n",
    "\n",
    "translations_t5_small_pretrained = []\n",
    "# for text in tqdm(texts):\n",
    "for idx, text in tqdm(enumerate(texts), desc=\"Translating\", total=len(texts)):\n",
    "    # print(\"Original English Sentence: \", text)\n",
    "    # print(\"Original French Sentence: \", labels[idx])\n",
    "    inputs_t5_small_pretrained = tokenizer_t5_small_pretrained(text, return_tensors=\"pt\").input_ids\n",
    "    outputs_t5_small_pretrained = model_t5_small_pretrained.generate(inputs_t5_small_pretrained, max_new_tokens=40, do_sample=True, top_k=30, top_p=0.95)\n",
    "    translation_t5_small_pretrained = tokenizer_t5_small_pretrained.decode(outputs_t5_small_pretrained[0], skip_special_tokens=True)\n",
    "    # print(\"translated french sentences:\",translation_t5_small_pretrained)\n",
    "    translations_t5_small_pretrained.append(translation_t5_small_pretrained)\n",
    "    # print(\"\\n\")\n",
    "\n",
    "# Specify the file path\n",
    "file_path_t5_small_pretrained = os.path.join(getpwd, \"translated_french_by_t5_small_pretrained.txt\")\n",
    "\n",
    "# Open the file in write mode\n",
    "with open(file_path_t5_small_pretrained, \"w\") as file:\n",
    "    # Write each translation to the file\n",
    "    for translation in translations_t5_small_pretrained:\n",
    "        file.write(translation + \"\\n\")\n"
   ]
  },
  {
   "cell_type": "code",
   "execution_count": 18,
   "metadata": {},
   "outputs": [
    {
     "data": {
      "text/plain": [
       "{'bleu': 2.041124318007492}"
      ]
     },
     "execution_count": 18,
     "metadata": {},
     "output_type": "execute_result"
    }
   ],
   "source": [
    "result_t5_small_pretrained = metric.compute(predictions=translations_t5_small_pretrained, references=labels)\n",
    "result_t5_small_pretrained = {\"bleu\": result_t5_small_pretrained[\"score\"]}\n",
    "result_t5_small_pretrained"
   ]
  },
  {
   "cell_type": "markdown",
   "metadata": {},
   "source": [
    "# google-t5/t5-base"
   ]
  },
  {
   "cell_type": "code",
   "execution_count": 18,
   "metadata": {},
   "outputs": [
    {
     "data": {
      "application/vnd.jupyter.widget-view+json": {
       "model_id": "b57d2289f2b64de8ba94717d7d653919",
       "version_major": 2,
       "version_minor": 0
      },
      "text/plain": [
       "config.json:   0%|          | 0.00/1.21k [00:00<?, ?B/s]"
      ]
     },
     "metadata": {},
     "output_type": "display_data"
    },
    {
     "data": {
      "application/vnd.jupyter.widget-view+json": {
       "model_id": "3d4ec86c01904be2a0d0942505ab7595",
       "version_major": 2,
       "version_minor": 0
      },
      "text/plain": [
       "spiece.model:   0%|          | 0.00/792k [00:00<?, ?B/s]"
      ]
     },
     "metadata": {},
     "output_type": "display_data"
    },
    {
     "data": {
      "application/vnd.jupyter.widget-view+json": {
       "model_id": "90556e832f4f41b29925c9c1d1efe985",
       "version_major": 2,
       "version_minor": 0
      },
      "text/plain": [
       "tokenizer.json:   0%|          | 0.00/1.39M [00:00<?, ?B/s]"
      ]
     },
     "metadata": {},
     "output_type": "display_data"
    },
    {
     "data": {
      "application/vnd.jupyter.widget-view+json": {
       "model_id": "ec4be55a02474190916629acf0d7748f",
       "version_major": 2,
       "version_minor": 0
      },
      "text/plain": [
       "model.safetensors:   0%|          | 0.00/892M [00:00<?, ?B/s]"
      ]
     },
     "metadata": {},
     "output_type": "display_data"
    },
    {
     "data": {
      "application/vnd.jupyter.widget-view+json": {
       "model_id": "41292aec251f4b46a27af6c8911291dc",
       "version_major": 2,
       "version_minor": 0
      },
      "text/plain": [
       "generation_config.json:   0%|          | 0.00/147 [00:00<?, ?B/s]"
      ]
     },
     "metadata": {},
     "output_type": "display_data"
    },
    {
     "name": "stderr",
     "output_type": "stream",
     "text": [
      "Translating: 100%|██████████| 3003/3003 [50:13<00:00,  1.00s/it] \n"
     ]
    }
   ],
   "source": [
    "# # Initialize the tokenizer and model\n",
    "tokenizer_t5_base_pretrained = AutoTokenizer.from_pretrained(\"google-t5/t5-base\")\n",
    "model_t5_base_pretrained = AutoModelForSeq2SeqLM.from_pretrained(\"google-t5/t5-base\")\n",
    "\n",
    "translations_t5_base_pretrained = []\n",
    "# for text in tqdm(texts):\n",
    "for idx, text in tqdm(enumerate(texts), desc=\"Translating\", total=len(texts)):\n",
    "    # print(\"Original English Sentence: \", text)\n",
    "    # print(\"Original French Sentence: \", labels[idx])\n",
    "    inputs_t5_base_pretrained = tokenizer_t5_base_pretrained(text, return_tensors=\"pt\").input_ids\n",
    "    outputs_t5_base_pretrained = model_t5_base_pretrained.generate(inputs_t5_base_pretrained, max_new_tokens=40, do_sample=True, top_k=30, top_p=0.95)\n",
    "    translation_t5_base_pretrained = tokenizer_t5_base_pretrained.decode(outputs_t5_base_pretrained[0], skip_special_tokens=True)\n",
    "    # print(\"translated french sentences:\",translation_t5_small_pretrained)\n",
    "    translations_t5_base_pretrained.append(translation_t5_base_pretrained)\n",
    "    # print(\"\\n\")\n",
    "\n",
    "# Specify the file path\n",
    "file_path_t5_base_pretrained = os.path.join(getpwd, \"translated_french_by_t5_base_pretrained.txt\")\n",
    "\n",
    "# Open the file in write mode\n",
    "with open(file_path_t5_base_pretrained, \"w\") as file:\n",
    "    # Write each translation to the file\n",
    "    for translation in translations_t5_base_pretrained:\n",
    "        file.write(translation + \"\\n\")"
   ]
  },
  {
   "cell_type": "code",
   "execution_count": 21,
   "metadata": {},
   "outputs": [
    {
     "data": {
      "text/plain": [
       "{'bleu': 1.196346176518329}"
      ]
     },
     "execution_count": 21,
     "metadata": {},
     "output_type": "execute_result"
    }
   ],
   "source": [
    "result_t5_base_pretrained = metric.compute(predictions=translations_t5_base_pretrained, references=labels)\n",
    "result_t5_base_pretrained = {\"bleu\": result_t5_base_pretrained[\"score\"]}\n",
    "result_t5_base_pretrained"
   ]
  },
  {
   "cell_type": "markdown",
   "metadata": {},
   "source": [
    "# Helsinki-NLP/opus-mt-en-fr"
   ]
  },
  {
   "cell_type": "code",
   "execution_count": 16,
   "metadata": {},
   "outputs": [
    {
     "name": "stderr",
     "output_type": "stream",
     "text": [
      "Translating: 100%|██████████| 3003/3003 [55:23<00:00,  1.11s/it]  \n"
     ]
    }
   ],
   "source": [
    "# # Initialize the tokenizer and model\n",
    "tokenizer_opus_mt_en_fr_pretrained = AutoTokenizer.from_pretrained(\"Helsinki-NLP/opus-mt-en-fr\")\n",
    "model_opus_mt_en_fr_pretrained = AutoModelForSeq2SeqLM.from_pretrained(\"Helsinki-NLP/opus-mt-en-fr\")\n",
    "\n",
    "translations_opus_mt_en_fr_pretrained = []\n",
    "# for text in tqdm(texts):\n",
    "for idx, text in tqdm(enumerate(texts), desc=\"Translating\", total=len(texts)):\n",
    "    # print(\"Original English Sentence: \", text)\n",
    "    # print(\"Original French Sentence: \", labels[idx])\n",
    "    inputs_opus_mt_en_fr_pretrained= tokenizer_opus_mt_en_fr_pretrained(text, return_tensors=\"pt\").input_ids\n",
    "    outputs_opus_mt_en_fr_pretrained = model_opus_mt_en_fr_pretrained.generate(inputs_opus_mt_en_fr_pretrained, max_new_tokens=40, do_sample=True, top_k=30, top_p=0.95)\n",
    "    translation_opus_mt_en_fr_pretrained = tokenizer_opus_mt_en_fr_pretrained.decode(outputs_opus_mt_en_fr_pretrained[0], skip_special_tokens=True)\n",
    "    # print(\"translated french sentences:\",translation_t5_small_pretrained)\n",
    "    translations_opus_mt_en_fr_pretrained.append(translation_opus_mt_en_fr_pretrained)\n",
    "    # print(\"\\n\")\n",
    "\n",
    "# Specify the file path\n",
    "file_path_opus_mt_en_fr_pretrained = os.path.join(getpwd, \"translated_french_by_opus_mt_en_fr_pretrained.txt\")\n",
    "\n",
    "# Open the file in write mode\n",
    "with open(file_path_opus_mt_en_fr_pretrained, \"w\") as file:\n",
    "    # Write each translation to the file\n",
    "    for translation in translations_opus_mt_en_fr_pretrained:\n",
    "        file.write(translation + \"\\n\")"
   ]
  },
  {
   "cell_type": "code",
   "execution_count": 17,
   "metadata": {},
   "outputs": [
    {
     "data": {
      "text/plain": [
       "{'bleu': 33.13527604394126}"
      ]
     },
     "execution_count": 17,
     "metadata": {},
     "output_type": "execute_result"
    }
   ],
   "source": [
    "result_opus_mt_en_fr_pretrained = metric.compute(predictions=translations_opus_mt_en_fr_pretrained, references=labels)\n",
    "result_opus_mt_en_fr_pretrained = {\"bleu\": result_opus_mt_en_fr_pretrained[\"score\"]}\n",
    "result_opus_mt_en_fr_pretrained"
   ]
  },
  {
   "cell_type": "markdown",
   "metadata": {},
   "source": [
    "# sriram-sanjeev9s/T5_wmt14_En_Fr_1million"
   ]
  },
  {
   "cell_type": "code",
   "execution_count": 19,
   "metadata": {},
   "outputs": [
    {
     "name": "stderr",
     "output_type": "stream",
     "text": [
      "Translating: 100%|██████████| 3003/3003 [38:09<00:00,  1.31it/s]\n"
     ]
    }
   ],
   "source": [
    "tokenizer_t5_finetuned_wmt14_1mil = AutoTokenizer.from_pretrained(\"sriram-sanjeev9s/T5_wmt14_En_Fr_1million\")\n",
    "model_t5_finetuned_wmt14_1mil = AutoModelForSeq2SeqLM.from_pretrained(\"sriram-sanjeev9s/T5_wmt14_En_Fr_1million\")\n",
    "\n",
    "translations_t5_finetuned_wmt14_1mil = []\n",
    "# for text in tqdm(texts):\n",
    "for idx, text in tqdm(enumerate(texts), desc=\"Translating\", total=len(texts)):\n",
    "    # print(\"english sentence: \", text)\n",
    "    # print(\"Original French Sentence: \", labels[texts.index(text)])\n",
    "    inputs_t5_finetuned_wmt14_1mil = tokenizer_t5_finetuned_wmt14_1mil(text, return_tensors=\"pt\").input_ids\n",
    "    # outputs = model.generate(inputs, max_new_tokens=40, do_sample=True, top_k=30, top_p=0.95)\n",
    "    outputs_t5_finetuned_wmt14_1mil = model_t5_finetuned_wmt14_1mil.generate(inputs_t5_finetuned_wmt14_1mil, max_length=60, num_beams=5, early_stopping=True)\n",
    "    translation_t5_finetuned_wmt14_1mil = tokenizer_t5_finetuned_wmt14_1mil.decode(outputs_t5_finetuned_wmt14_1mil[0], skip_special_tokens=True)\n",
    "    # print(\"translated french sentences:\",translation_t5_finetuned_wmt14_1mil)\n",
    "    translations_t5_finetuned_wmt14_1mil.append(translation_t5_finetuned_wmt14_1mil)\n",
    "    # print(\"\\n\")\n",
    "\n",
    "# Specify the file path\n",
    "file_path_t5_finetuned_wmt14_1mil = os.path.join(getpwd, \"translated_french_by_t5_finetuned_wmt14_1mil.txt\")\n",
    "\n",
    "# Open the file in write mode\n",
    "with open(file_path_t5_finetuned_wmt14_1mil, \"w\") as file:\n",
    "    # Write each translation to the file\n",
    "    for translation in translations_t5_finetuned_wmt14_1mil:\n",
    "        file.write(translation + \"\\n\")\n"
   ]
  },
  {
   "cell_type": "code",
   "execution_count": 21,
   "metadata": {},
   "outputs": [
    {
     "data": {
      "text/plain": [
       "{'bleu': 21.71904404108645}"
      ]
     },
     "execution_count": 21,
     "metadata": {},
     "output_type": "execute_result"
    }
   ],
   "source": [
    "result_t5_finetuned_wmt14_1mil = metric.compute(predictions=translations_t5_finetuned_wmt14_1mil, references=labels)\n",
    "result_t5_finetuned_wmt14_1mil = {\"bleu\": result_t5_finetuned_wmt14_1mil[\"score\"]}\n",
    "result_t5_finetuned_wmt14_1mil"
   ]
  },
  {
   "cell_type": "markdown",
   "metadata": {},
   "source": [
    "# sriram-sanjeev9s/opus-mt-en-fr_wmt14_En_Fr_1million_20epochs"
   ]
  },
  {
   "cell_type": "code",
   "execution_count": 11,
   "metadata": {},
   "outputs": [
    {
     "data": {
      "application/vnd.jupyter.widget-view+json": {
       "model_id": "b2748e7192fc46dcb39bc7f146306852",
       "version_major": 2,
       "version_minor": 0
      },
      "text/plain": [
       "tokenizer_config.json:   0%|          | 0.00/280 [00:00<?, ?B/s]"
      ]
     },
     "metadata": {},
     "output_type": "display_data"
    },
    {
     "data": {
      "application/vnd.jupyter.widget-view+json": {
       "model_id": "3ee67c6d00e84db99416c8191c031749",
       "version_major": 2,
       "version_minor": 0
      },
      "text/plain": [
       "source.spm:   0%|          | 0.00/778k [00:00<?, ?B/s]"
      ]
     },
     "metadata": {},
     "output_type": "display_data"
    },
    {
     "data": {
      "application/vnd.jupyter.widget-view+json": {
       "model_id": "873bce94dfce414b963be6da1493a985",
       "version_major": 2,
       "version_minor": 0
      },
      "text/plain": [
       "target.spm:   0%|          | 0.00/802k [00:00<?, ?B/s]"
      ]
     },
     "metadata": {},
     "output_type": "display_data"
    },
    {
     "data": {
      "application/vnd.jupyter.widget-view+json": {
       "model_id": "be270d5218014cc1ad2460c5c05896d9",
       "version_major": 2,
       "version_minor": 0
      },
      "text/plain": [
       "vocab.json:   0%|          | 0.00/1.46M [00:00<?, ?B/s]"
      ]
     },
     "metadata": {},
     "output_type": "display_data"
    },
    {
     "data": {
      "application/vnd.jupyter.widget-view+json": {
       "model_id": "81e62ff93fd44caca7c1b0121bd1cc78",
       "version_major": 2,
       "version_minor": 0
      },
      "text/plain": [
       "special_tokens_map.json:   0%|          | 0.00/74.0 [00:00<?, ?B/s]"
      ]
     },
     "metadata": {},
     "output_type": "display_data"
    },
    {
     "data": {
      "application/vnd.jupyter.widget-view+json": {
       "model_id": "9fa678e3a74b4cb7ad7db134787b3398",
       "version_major": 2,
       "version_minor": 0
      },
      "text/plain": [
       "config.json:   0%|          | 0.00/1.43k [00:00<?, ?B/s]"
      ]
     },
     "metadata": {},
     "output_type": "display_data"
    },
    {
     "data": {
      "application/vnd.jupyter.widget-view+json": {
       "model_id": "f0639fab01944257a84ce803fe01c1b3",
       "version_major": 2,
       "version_minor": 0
      },
      "text/plain": [
       "pytorch_model.bin:   0%|          | 0.00/299M [00:00<?, ?B/s]"
      ]
     },
     "metadata": {},
     "output_type": "display_data"
    },
    {
     "data": {
      "application/vnd.jupyter.widget-view+json": {
       "model_id": "dcc0194c65a24ca488144c9b97da200a",
       "version_major": 2,
       "version_minor": 0
      },
      "text/plain": [
       "generation_config.json:   0%|          | 0.00/288 [00:00<?, ?B/s]"
      ]
     },
     "metadata": {},
     "output_type": "display_data"
    },
    {
     "name": "stderr",
     "output_type": "stream",
     "text": [
      "Translating: 100%|██████████| 3003/3003 [17:56<00:00,  2.79it/s]\n"
     ]
    }
   ],
   "source": [
    "tokenizer_opus_mt_en_fr_wmt14_En_Fr_1million_20epochs = AutoTokenizer.from_pretrained(\"sriram-sanjeev9s/opus-mt-en-fr-finetuned-en-to-fr\")\n",
    "model_opus_mt_en_fr_wmt14_En_Fr_1million_20epochs = AutoModelForSeq2SeqLM.from_pretrained(\"sriram-sanjeev9s/opus-mt-en-fr-finetuned-en-to-fr\")\n",
    "\n",
    "translations_opus_mt_en_fr_wmt14_En_Fr_1million_20epochs = []\n",
    "# for text in tqdm(texts):\n",
    "for idx, text in tqdm(enumerate(texts), desc=\"Translating\", total=len(texts)):\n",
    "    # print(\"english sentence: \", text)\n",
    "    # print(\"Original French Sentence: \", labels[texts.index(text)])\n",
    "    inputs_opus_mt_en_fr_wmt14_En_Fr_1million_20epochs = tokenizer_opus_mt_en_fr_wmt14_En_Fr_1million_20epochs(text, return_tensors=\"pt\").input_ids\n",
    "    # outputs = model.generate(inputs, max_new_tokens=40, do_sample=True, top_k=30, top_p=0.95)\n",
    "    outputs_opus_mt_en_fr_wmt14_En_Fr_1million_20epochs = model_opus_mt_en_fr_wmt14_En_Fr_1million_20epochs.generate(inputs_opus_mt_en_fr_wmt14_En_Fr_1million_20epochs, max_length=60, num_beams=5, early_stopping=True)\n",
    "    translation_opus_mt_en_fr_wmt14_En_Fr_1million_20epochs = tokenizer_opus_mt_en_fr_wmt14_En_Fr_1million_20epochs.decode(outputs_opus_mt_en_fr_wmt14_En_Fr_1million_20epochs[0], skip_special_tokens=True)\n",
    "    # print(\"translated french sentences:\",translation_t5_finetuned_wmt14_1mil)\n",
    "    translations_opus_mt_en_fr_wmt14_En_Fr_1million_20epochs.append(translation_opus_mt_en_fr_wmt14_En_Fr_1million_20epochs)\n",
    "    # print(\"\\n\")\n",
    "\n",
    "# Specify the file path\n",
    "file_path_opus_mt_en_fr_wmt14_En_Fr_1million_20epochs = os.path.join(getpwd, \"translated_french_by_opus_mt_en_fr_wmt14_En_Fr_1million_20epochs.txt\")\n",
    "\n",
    "# Open the file in write mode\n",
    "with open(file_path_opus_mt_en_fr_wmt14_En_Fr_1million_20epochs, \"w\") as file:\n",
    "    # Write each translation to the file\n",
    "    for translation in translations_opus_mt_en_fr_wmt14_En_Fr_1million_20epochs:\n",
    "        file.write(translation + \"\\n\")"
   ]
  },
  {
   "cell_type": "code",
   "execution_count": 12,
   "metadata": {},
   "outputs": [
    {
     "data": {
      "text/plain": [
       "{'bleu': 33.84192310779139}"
      ]
     },
     "execution_count": 12,
     "metadata": {},
     "output_type": "execute_result"
    }
   ],
   "source": [
    "result_opus_mt_en_fr_wmt14_En_Fr_1million_20epochs = metric.compute(predictions=translations_opus_mt_en_fr_wmt14_En_Fr_1million_20epochs, references=labels)\n",
    "result_opus_mt_en_fr_wmt14_En_Fr_1million_20epochs = {\"bleu\": result_opus_mt_en_fr_wmt14_En_Fr_1million_20epochs[\"score\"]}\n",
    "result_opus_mt_en_fr_wmt14_En_Fr_1million_20epochs"
   ]
  },
  {
   "cell_type": "markdown",
   "metadata": {},
   "source": [
    "# sriram-sanjeev9s/T5_base_wmt14_En_Fr_1million"
   ]
  },
  {
   "cell_type": "code",
   "execution_count": 24,
   "metadata": {},
   "outputs": [
    {
     "name": "stderr",
     "output_type": "stream",
     "text": [
      "Translating: 100%|██████████| 3003/3003 [1:29:14<00:00,  1.78s/it]\n"
     ]
    }
   ],
   "source": [
    "tokenizer_t5_base_finetuned_wmt14_1mil = AutoTokenizer.from_pretrained(\"sriram-sanjeev9s/T5_base_wmt14_En_Fr_1million\")\n",
    "model_t5_base_finetuned_wmt14_1mil = AutoModelForSeq2SeqLM.from_pretrained(\"sriram-sanjeev9s/T5_base_wmt14_En_Fr_1million\")\n",
    "\n",
    "translations_t5_base_finetuned_wmt14_1mil = []\n",
    "# for text in tqdm(texts):\n",
    "for idx, text in tqdm(enumerate(texts), desc=\"Translating\", total=len(texts)):\n",
    "    # print(\"english sentence: \", text)\n",
    "    # print(\"Original French Sentence: \", labels[texts.index(text)])\n",
    "    inputs_t5_base_finetuned_wmt14_1mil = tokenizer_t5_base_finetuned_wmt14_1mil(text, return_tensors=\"pt\").input_ids\n",
    "    # outputs = model.generate(inputs, max_new_tokens=40, do_sample=True, top_k=30, top_p=0.95)\n",
    "    outputs_t5_base_finetuned_wmt14_1mil = model_t5_base_finetuned_wmt14_1mil.generate(inputs_t5_base_finetuned_wmt14_1mil, max_length=60, num_beams=5, early_stopping=True)\n",
    "    translation_t5_base_finetuned_wmt14_1mil = tokenizer_t5_base_finetuned_wmt14_1mil.decode(outputs_t5_base_finetuned_wmt14_1mil[0], skip_special_tokens=True)\n",
    "    # print(\"translated french sentences:\",translation_t5_finetuned_wmt14_1mil)\n",
    "    translations_t5_base_finetuned_wmt14_1mil.append(translation_t5_base_finetuned_wmt14_1mil)\n",
    "    # print(\"\\n\")\n",
    "\n",
    "# Specify the file path\n",
    "file_path_t5_base_finetuned_wmt14_1mil = os.path.join(getpwd, \"translated_french_by_t5_base_finetuned_wmt14_1mil.txt\")\n",
    "\n",
    "# Open the file in write mode\n",
    "with open(file_path_t5_base_finetuned_wmt14_1mil, \"w\") as file:\n",
    "    # Write each translation to the file\n",
    "    for translation in translations_t5_base_finetuned_wmt14_1mil:\n",
    "        file.write(translation + \"\\n\")"
   ]
  },
  {
   "cell_type": "code",
   "execution_count": 25,
   "metadata": {},
   "outputs": [
    {
     "data": {
      "text/plain": [
       "{'bleu': 23.78058757171012}"
      ]
     },
     "execution_count": 25,
     "metadata": {},
     "output_type": "execute_result"
    }
   ],
   "source": [
    "result_t5_base_finetuned_wmt14_1mil = metric.compute(predictions=translations_t5_base_finetuned_wmt14_1mil, references=labels)\n",
    "result_t5_base_finetuned_wmt14_1mil = {\"bleu\": result_t5_base_finetuned_wmt14_1mil[\"score\"]}\n",
    "result_t5_base_finetuned_wmt14_1mil"
   ]
  },
  {
   "cell_type": "markdown",
   "metadata": {},
   "source": [
    "# saved generator from joint_train_Bert_dualG_v2_logTrnsDB_pg_kd.py wmt14_en_fr_800sent_pg_kd_loss - ignore"
   ]
  },
  {
   "cell_type": "code",
   "execution_count": null,
   "metadata": {},
   "outputs": [],
   "source": [
    "tokenizer_t5_base_finetuned_wmt14_1mil = AutoTokenizer.from_pretrained(\"/home/paperspace/google_drive_v4/Research_Thesis/2024/Adversarial_NMT_th/checkpoints/bert_dualG/wmt14_en_fr_800sent_pg_kd_loss/best_generator.pt\")\n",
    "model_t5_base_finetuned_wmt14_1mil = AutoModelForSeq2SeqLM.from_pretrained(\"/home/paperspace/google_drive_v4/Research_Thesis/2024/Adversarial_NMT_th/checkpoints/bert_dualG/wmt14_en_fr_800sent_pg_kd_loss/best_generator.pt\")\n"
   ]
  },
  {
   "cell_type": "code",
   "execution_count": 13,
   "metadata": {},
   "outputs": [
    {
     "ename": "HFValidationError",
     "evalue": "Repo id must be in the form 'repo_name' or 'namespace/repo_name': '/workspace/2024/Adversarial_NMT_th/checkpoints/bert_dualG/wmt14_en_fr_1mil_pg_kd_loss_MarianMT_1mil_20epochs/train_checkpoint_2.pt'. Use `repo_type` argument if needed.",
     "output_type": "error",
     "traceback": [
      "\u001b[0;31m---------------------------------------------------------------------------\u001b[0m",
      "\u001b[0;31mHFValidationError\u001b[0m                         Traceback (most recent call last)",
      "Cell \u001b[0;32mIn [13], line 1\u001b[0m\n\u001b[0;32m----> 1\u001b[0m tokenizer_t5_base_finetuned_wmt14_1mil \u001b[38;5;241m=\u001b[39m \u001b[43mAutoTokenizer\u001b[49m\u001b[38;5;241;43m.\u001b[39;49m\u001b[43mfrom_pretrained\u001b[49m\u001b[43m(\u001b[49m\u001b[38;5;124;43m\"\u001b[39;49m\u001b[38;5;124;43m/workspace/2024/Adversarial_NMT_th/checkpoints/bert_dualG/wmt14_en_fr_1mil_pg_kd_loss_MarianMT_1mil_20epochs/train_checkpoint_2.pt\u001b[39;49m\u001b[38;5;124;43m\"\u001b[39;49m\u001b[43m)\u001b[49m\n\u001b[1;32m      2\u001b[0m model_t5_base_finetuned_wmt14_1mil \u001b[38;5;241m=\u001b[39m AutoModelForSeq2SeqLM\u001b[38;5;241m.\u001b[39mfrom_pretrained(\u001b[38;5;124m\"\u001b[39m\u001b[38;5;124m/workspace/2024/Adversarial_NMT_th/checkpoints/bert_dualG/wmt14_en_fr_1mil_pg_kd_loss_MarianMT_1mil_20epochs/train_checkpoint_2.pt\u001b[39m\u001b[38;5;124m\"\u001b[39m)\n\u001b[1;32m      4\u001b[0m translations_t5_base_finetuned_wmt14_1mil \u001b[38;5;241m=\u001b[39m []\n",
      "File \u001b[0;32m/opt/conda/envs/preprocess_bert_udem/lib/python3.10/site-packages/transformers/models/auto/tokenization_auto.py:677\u001b[0m, in \u001b[0;36mAutoTokenizer.from_pretrained\u001b[0;34m(cls, pretrained_model_name_or_path, *inputs, **kwargs)\u001b[0m\n\u001b[1;32m    674\u001b[0m     \u001b[38;5;28;01mreturn\u001b[39;00m tokenizer_class\u001b[38;5;241m.\u001b[39mfrom_pretrained(pretrained_model_name_or_path, \u001b[38;5;241m*\u001b[39minputs, \u001b[38;5;241m*\u001b[39m\u001b[38;5;241m*\u001b[39mkwargs)\n\u001b[1;32m    676\u001b[0m \u001b[38;5;66;03m# Next, let's try to use the tokenizer_config file to get the tokenizer class.\u001b[39;00m\n\u001b[0;32m--> 677\u001b[0m tokenizer_config \u001b[38;5;241m=\u001b[39m \u001b[43mget_tokenizer_config\u001b[49m\u001b[43m(\u001b[49m\u001b[43mpretrained_model_name_or_path\u001b[49m\u001b[43m,\u001b[49m\u001b[43m \u001b[49m\u001b[38;5;241;43m*\u001b[39;49m\u001b[38;5;241;43m*\u001b[39;49m\u001b[43mkwargs\u001b[49m\u001b[43m)\u001b[49m\n\u001b[1;32m    678\u001b[0m \u001b[38;5;28;01mif\u001b[39;00m \u001b[38;5;124m\"\u001b[39m\u001b[38;5;124m_commit_hash\u001b[39m\u001b[38;5;124m\"\u001b[39m \u001b[38;5;129;01min\u001b[39;00m tokenizer_config:\n\u001b[1;32m    679\u001b[0m     kwargs[\u001b[38;5;124m\"\u001b[39m\u001b[38;5;124m_commit_hash\u001b[39m\u001b[38;5;124m\"\u001b[39m] \u001b[38;5;241m=\u001b[39m tokenizer_config[\u001b[38;5;124m\"\u001b[39m\u001b[38;5;124m_commit_hash\u001b[39m\u001b[38;5;124m\"\u001b[39m]\n",
      "File \u001b[0;32m/opt/conda/envs/preprocess_bert_udem/lib/python3.10/site-packages/transformers/models/auto/tokenization_auto.py:510\u001b[0m, in \u001b[0;36mget_tokenizer_config\u001b[0;34m(pretrained_model_name_or_path, cache_dir, force_download, resume_download, proxies, token, revision, local_files_only, subfolder, **kwargs)\u001b[0m\n\u001b[1;32m    507\u001b[0m     token \u001b[38;5;241m=\u001b[39m use_auth_token\n\u001b[1;32m    509\u001b[0m commit_hash \u001b[38;5;241m=\u001b[39m kwargs\u001b[38;5;241m.\u001b[39mget(\u001b[38;5;124m\"\u001b[39m\u001b[38;5;124m_commit_hash\u001b[39m\u001b[38;5;124m\"\u001b[39m, \u001b[38;5;28;01mNone\u001b[39;00m)\n\u001b[0;32m--> 510\u001b[0m resolved_config_file \u001b[38;5;241m=\u001b[39m \u001b[43mcached_file\u001b[49m\u001b[43m(\u001b[49m\n\u001b[1;32m    511\u001b[0m \u001b[43m    \u001b[49m\u001b[43mpretrained_model_name_or_path\u001b[49m\u001b[43m,\u001b[49m\n\u001b[1;32m    512\u001b[0m \u001b[43m    \u001b[49m\u001b[43mTOKENIZER_CONFIG_FILE\u001b[49m\u001b[43m,\u001b[49m\n\u001b[1;32m    513\u001b[0m \u001b[43m    \u001b[49m\u001b[43mcache_dir\u001b[49m\u001b[38;5;241;43m=\u001b[39;49m\u001b[43mcache_dir\u001b[49m\u001b[43m,\u001b[49m\n\u001b[1;32m    514\u001b[0m \u001b[43m    \u001b[49m\u001b[43mforce_download\u001b[49m\u001b[38;5;241;43m=\u001b[39;49m\u001b[43mforce_download\u001b[49m\u001b[43m,\u001b[49m\n\u001b[1;32m    515\u001b[0m \u001b[43m    \u001b[49m\u001b[43mresume_download\u001b[49m\u001b[38;5;241;43m=\u001b[39;49m\u001b[43mresume_download\u001b[49m\u001b[43m,\u001b[49m\n\u001b[1;32m    516\u001b[0m \u001b[43m    \u001b[49m\u001b[43mproxies\u001b[49m\u001b[38;5;241;43m=\u001b[39;49m\u001b[43mproxies\u001b[49m\u001b[43m,\u001b[49m\n\u001b[1;32m    517\u001b[0m \u001b[43m    \u001b[49m\u001b[43mtoken\u001b[49m\u001b[38;5;241;43m=\u001b[39;49m\u001b[43mtoken\u001b[49m\u001b[43m,\u001b[49m\n\u001b[1;32m    518\u001b[0m \u001b[43m    \u001b[49m\u001b[43mrevision\u001b[49m\u001b[38;5;241;43m=\u001b[39;49m\u001b[43mrevision\u001b[49m\u001b[43m,\u001b[49m\n\u001b[1;32m    519\u001b[0m \u001b[43m    \u001b[49m\u001b[43mlocal_files_only\u001b[49m\u001b[38;5;241;43m=\u001b[39;49m\u001b[43mlocal_files_only\u001b[49m\u001b[43m,\u001b[49m\n\u001b[1;32m    520\u001b[0m \u001b[43m    \u001b[49m\u001b[43msubfolder\u001b[49m\u001b[38;5;241;43m=\u001b[39;49m\u001b[43msubfolder\u001b[49m\u001b[43m,\u001b[49m\n\u001b[1;32m    521\u001b[0m \u001b[43m    \u001b[49m\u001b[43m_raise_exceptions_for_missing_entries\u001b[49m\u001b[38;5;241;43m=\u001b[39;49m\u001b[38;5;28;43;01mFalse\u001b[39;49;00m\u001b[43m,\u001b[49m\n\u001b[1;32m    522\u001b[0m \u001b[43m    \u001b[49m\u001b[43m_raise_exceptions_for_connection_errors\u001b[49m\u001b[38;5;241;43m=\u001b[39;49m\u001b[38;5;28;43;01mFalse\u001b[39;49;00m\u001b[43m,\u001b[49m\n\u001b[1;32m    523\u001b[0m \u001b[43m    \u001b[49m\u001b[43m_commit_hash\u001b[49m\u001b[38;5;241;43m=\u001b[39;49m\u001b[43mcommit_hash\u001b[49m\u001b[43m,\u001b[49m\n\u001b[1;32m    524\u001b[0m \u001b[43m\u001b[49m\u001b[43m)\u001b[49m\n\u001b[1;32m    525\u001b[0m \u001b[38;5;28;01mif\u001b[39;00m resolved_config_file \u001b[38;5;129;01mis\u001b[39;00m \u001b[38;5;28;01mNone\u001b[39;00m:\n\u001b[1;32m    526\u001b[0m     logger\u001b[38;5;241m.\u001b[39minfo(\u001b[38;5;124m\"\u001b[39m\u001b[38;5;124mCould not locate the tokenizer configuration file, will try to use the model config instead.\u001b[39m\u001b[38;5;124m\"\u001b[39m)\n",
      "File \u001b[0;32m/opt/conda/envs/preprocess_bert_udem/lib/python3.10/site-packages/transformers/utils/hub.py:428\u001b[0m, in \u001b[0;36mcached_file\u001b[0;34m(path_or_repo_id, filename, cache_dir, force_download, resume_download, proxies, token, revision, local_files_only, subfolder, repo_type, user_agent, _raise_exceptions_for_missing_entries, _raise_exceptions_for_connection_errors, _commit_hash, **deprecated_kwargs)\u001b[0m\n\u001b[1;32m    425\u001b[0m user_agent \u001b[38;5;241m=\u001b[39m http_user_agent(user_agent)\n\u001b[1;32m    426\u001b[0m \u001b[38;5;28;01mtry\u001b[39;00m:\n\u001b[1;32m    427\u001b[0m     \u001b[38;5;66;03m# Load from URL or cache if already cached\u001b[39;00m\n\u001b[0;32m--> 428\u001b[0m     resolved_file \u001b[38;5;241m=\u001b[39m \u001b[43mhf_hub_download\u001b[49m\u001b[43m(\u001b[49m\n\u001b[1;32m    429\u001b[0m \u001b[43m        \u001b[49m\u001b[43mpath_or_repo_id\u001b[49m\u001b[43m,\u001b[49m\n\u001b[1;32m    430\u001b[0m \u001b[43m        \u001b[49m\u001b[43mfilename\u001b[49m\u001b[43m,\u001b[49m\n\u001b[1;32m    431\u001b[0m \u001b[43m        \u001b[49m\u001b[43msubfolder\u001b[49m\u001b[38;5;241;43m=\u001b[39;49m\u001b[38;5;28;43;01mNone\u001b[39;49;00m\u001b[43m \u001b[49m\u001b[38;5;28;43;01mif\u001b[39;49;00m\u001b[43m \u001b[49m\u001b[38;5;28;43mlen\u001b[39;49m\u001b[43m(\u001b[49m\u001b[43msubfolder\u001b[49m\u001b[43m)\u001b[49m\u001b[43m \u001b[49m\u001b[38;5;241;43m==\u001b[39;49m\u001b[43m \u001b[49m\u001b[38;5;241;43m0\u001b[39;49m\u001b[43m \u001b[49m\u001b[38;5;28;43;01melse\u001b[39;49;00m\u001b[43m \u001b[49m\u001b[43msubfolder\u001b[49m\u001b[43m,\u001b[49m\n\u001b[1;32m    432\u001b[0m \u001b[43m        \u001b[49m\u001b[43mrepo_type\u001b[49m\u001b[38;5;241;43m=\u001b[39;49m\u001b[43mrepo_type\u001b[49m\u001b[43m,\u001b[49m\n\u001b[1;32m    433\u001b[0m \u001b[43m        \u001b[49m\u001b[43mrevision\u001b[49m\u001b[38;5;241;43m=\u001b[39;49m\u001b[43mrevision\u001b[49m\u001b[43m,\u001b[49m\n\u001b[1;32m    434\u001b[0m \u001b[43m        \u001b[49m\u001b[43mcache_dir\u001b[49m\u001b[38;5;241;43m=\u001b[39;49m\u001b[43mcache_dir\u001b[49m\u001b[43m,\u001b[49m\n\u001b[1;32m    435\u001b[0m \u001b[43m        \u001b[49m\u001b[43muser_agent\u001b[49m\u001b[38;5;241;43m=\u001b[39;49m\u001b[43muser_agent\u001b[49m\u001b[43m,\u001b[49m\n\u001b[1;32m    436\u001b[0m \u001b[43m        \u001b[49m\u001b[43mforce_download\u001b[49m\u001b[38;5;241;43m=\u001b[39;49m\u001b[43mforce_download\u001b[49m\u001b[43m,\u001b[49m\n\u001b[1;32m    437\u001b[0m \u001b[43m        \u001b[49m\u001b[43mproxies\u001b[49m\u001b[38;5;241;43m=\u001b[39;49m\u001b[43mproxies\u001b[49m\u001b[43m,\u001b[49m\n\u001b[1;32m    438\u001b[0m \u001b[43m        \u001b[49m\u001b[43mresume_download\u001b[49m\u001b[38;5;241;43m=\u001b[39;49m\u001b[43mresume_download\u001b[49m\u001b[43m,\u001b[49m\n\u001b[1;32m    439\u001b[0m \u001b[43m        \u001b[49m\u001b[43mtoken\u001b[49m\u001b[38;5;241;43m=\u001b[39;49m\u001b[43mtoken\u001b[49m\u001b[43m,\u001b[49m\n\u001b[1;32m    440\u001b[0m \u001b[43m        \u001b[49m\u001b[43mlocal_files_only\u001b[49m\u001b[38;5;241;43m=\u001b[39;49m\u001b[43mlocal_files_only\u001b[49m\u001b[43m,\u001b[49m\n\u001b[1;32m    441\u001b[0m \u001b[43m    \u001b[49m\u001b[43m)\u001b[49m\n\u001b[1;32m    442\u001b[0m \u001b[38;5;28;01mexcept\u001b[39;00m GatedRepoError \u001b[38;5;28;01mas\u001b[39;00m e:\n\u001b[1;32m    443\u001b[0m     \u001b[38;5;28;01mraise\u001b[39;00m \u001b[38;5;167;01mEnvironmentError\u001b[39;00m(\n\u001b[1;32m    444\u001b[0m         \u001b[38;5;124m\"\u001b[39m\u001b[38;5;124mYou are trying to access a gated repo.\u001b[39m\u001b[38;5;130;01m\\n\u001b[39;00m\u001b[38;5;124mMake sure to request access at \u001b[39m\u001b[38;5;124m\"\u001b[39m\n\u001b[1;32m    445\u001b[0m         \u001b[38;5;124mf\u001b[39m\u001b[38;5;124m\"\u001b[39m\u001b[38;5;124mhttps://huggingface.co/\u001b[39m\u001b[38;5;132;01m{\u001b[39;00mpath_or_repo_id\u001b[38;5;132;01m}\u001b[39;00m\u001b[38;5;124m and pass a token having permission to this repo either \u001b[39m\u001b[38;5;124m\"\u001b[39m\n\u001b[1;32m    446\u001b[0m         \u001b[38;5;124m\"\u001b[39m\u001b[38;5;124mby logging in with `huggingface-cli login` or by passing `token=<your_token>`.\u001b[39m\u001b[38;5;124m\"\u001b[39m\n\u001b[1;32m    447\u001b[0m     ) \u001b[38;5;28;01mfrom\u001b[39;00m \u001b[38;5;21;01me\u001b[39;00m\n",
      "File \u001b[0;32m/opt/conda/envs/preprocess_bert_udem/lib/python3.10/site-packages/huggingface_hub-0.20.3-py3.8.egg/huggingface_hub/utils/_validators.py:110\u001b[0m, in \u001b[0;36mvalidate_hf_hub_args.<locals>._inner_fn\u001b[0;34m(*args, **kwargs)\u001b[0m\n\u001b[1;32m    105\u001b[0m \u001b[38;5;28;01mfor\u001b[39;00m arg_name, arg_value \u001b[38;5;129;01min\u001b[39;00m chain(\n\u001b[1;32m    106\u001b[0m     \u001b[38;5;28mzip\u001b[39m(signature\u001b[38;5;241m.\u001b[39mparameters, args),  \u001b[38;5;66;03m# Args values\u001b[39;00m\n\u001b[1;32m    107\u001b[0m     kwargs\u001b[38;5;241m.\u001b[39mitems(),  \u001b[38;5;66;03m# Kwargs values\u001b[39;00m\n\u001b[1;32m    108\u001b[0m ):\n\u001b[1;32m    109\u001b[0m     \u001b[38;5;28;01mif\u001b[39;00m arg_name \u001b[38;5;129;01min\u001b[39;00m [\u001b[38;5;124m\"\u001b[39m\u001b[38;5;124mrepo_id\u001b[39m\u001b[38;5;124m\"\u001b[39m, \u001b[38;5;124m\"\u001b[39m\u001b[38;5;124mfrom_id\u001b[39m\u001b[38;5;124m\"\u001b[39m, \u001b[38;5;124m\"\u001b[39m\u001b[38;5;124mto_id\u001b[39m\u001b[38;5;124m\"\u001b[39m]:\n\u001b[0;32m--> 110\u001b[0m         \u001b[43mvalidate_repo_id\u001b[49m\u001b[43m(\u001b[49m\u001b[43marg_value\u001b[49m\u001b[43m)\u001b[49m\n\u001b[1;32m    112\u001b[0m     \u001b[38;5;28;01melif\u001b[39;00m arg_name \u001b[38;5;241m==\u001b[39m \u001b[38;5;124m\"\u001b[39m\u001b[38;5;124mtoken\u001b[39m\u001b[38;5;124m\"\u001b[39m \u001b[38;5;129;01mand\u001b[39;00m arg_value \u001b[38;5;129;01mis\u001b[39;00m \u001b[38;5;129;01mnot\u001b[39;00m \u001b[38;5;28;01mNone\u001b[39;00m:\n\u001b[1;32m    113\u001b[0m         has_token \u001b[38;5;241m=\u001b[39m \u001b[38;5;28;01mTrue\u001b[39;00m\n",
      "File \u001b[0;32m/opt/conda/envs/preprocess_bert_udem/lib/python3.10/site-packages/huggingface_hub-0.20.3-py3.8.egg/huggingface_hub/utils/_validators.py:158\u001b[0m, in \u001b[0;36mvalidate_repo_id\u001b[0;34m(repo_id)\u001b[0m\n\u001b[1;32m    155\u001b[0m     \u001b[38;5;28;01mraise\u001b[39;00m HFValidationError(\u001b[38;5;124mf\u001b[39m\u001b[38;5;124m\"\u001b[39m\u001b[38;5;124mRepo id must be a string, not \u001b[39m\u001b[38;5;132;01m{\u001b[39;00m\u001b[38;5;28mtype\u001b[39m(repo_id)\u001b[38;5;132;01m}\u001b[39;00m\u001b[38;5;124m: \u001b[39m\u001b[38;5;124m'\u001b[39m\u001b[38;5;132;01m{\u001b[39;00mrepo_id\u001b[38;5;132;01m}\u001b[39;00m\u001b[38;5;124m'\u001b[39m\u001b[38;5;124m.\u001b[39m\u001b[38;5;124m\"\u001b[39m)\n\u001b[1;32m    157\u001b[0m \u001b[38;5;28;01mif\u001b[39;00m repo_id\u001b[38;5;241m.\u001b[39mcount(\u001b[38;5;124m\"\u001b[39m\u001b[38;5;124m/\u001b[39m\u001b[38;5;124m\"\u001b[39m) \u001b[38;5;241m>\u001b[39m \u001b[38;5;241m1\u001b[39m:\n\u001b[0;32m--> 158\u001b[0m     \u001b[38;5;28;01mraise\u001b[39;00m HFValidationError(\n\u001b[1;32m    159\u001b[0m         \u001b[38;5;124m\"\u001b[39m\u001b[38;5;124mRepo id must be in the form \u001b[39m\u001b[38;5;124m'\u001b[39m\u001b[38;5;124mrepo_name\u001b[39m\u001b[38;5;124m'\u001b[39m\u001b[38;5;124m or \u001b[39m\u001b[38;5;124m'\u001b[39m\u001b[38;5;124mnamespace/repo_name\u001b[39m\u001b[38;5;124m'\u001b[39m\u001b[38;5;124m:\u001b[39m\u001b[38;5;124m\"\u001b[39m\n\u001b[1;32m    160\u001b[0m         \u001b[38;5;124mf\u001b[39m\u001b[38;5;124m\"\u001b[39m\u001b[38;5;124m \u001b[39m\u001b[38;5;124m'\u001b[39m\u001b[38;5;132;01m{\u001b[39;00mrepo_id\u001b[38;5;132;01m}\u001b[39;00m\u001b[38;5;124m'\u001b[39m\u001b[38;5;124m. Use `repo_type` argument if needed.\u001b[39m\u001b[38;5;124m\"\u001b[39m\n\u001b[1;32m    161\u001b[0m     )\n\u001b[1;32m    163\u001b[0m \u001b[38;5;28;01mif\u001b[39;00m \u001b[38;5;129;01mnot\u001b[39;00m REPO_ID_REGEX\u001b[38;5;241m.\u001b[39mmatch(repo_id):\n\u001b[1;32m    164\u001b[0m     \u001b[38;5;28;01mraise\u001b[39;00m HFValidationError(\n\u001b[1;32m    165\u001b[0m         \u001b[38;5;124m\"\u001b[39m\u001b[38;5;124mRepo id must use alphanumeric chars or \u001b[39m\u001b[38;5;124m'\u001b[39m\u001b[38;5;124m-\u001b[39m\u001b[38;5;124m'\u001b[39m\u001b[38;5;124m, \u001b[39m\u001b[38;5;124m'\u001b[39m\u001b[38;5;124m_\u001b[39m\u001b[38;5;124m'\u001b[39m\u001b[38;5;124m, \u001b[39m\u001b[38;5;124m'\u001b[39m\u001b[38;5;124m.\u001b[39m\u001b[38;5;124m'\u001b[39m\u001b[38;5;124m, \u001b[39m\u001b[38;5;124m'\u001b[39m\u001b[38;5;124m--\u001b[39m\u001b[38;5;124m'\u001b[39m\u001b[38;5;124m and \u001b[39m\u001b[38;5;124m'\u001b[39m\u001b[38;5;124m..\u001b[39m\u001b[38;5;124m'\u001b[39m\u001b[38;5;124m are\u001b[39m\u001b[38;5;124m\"\u001b[39m\n\u001b[1;32m    166\u001b[0m         \u001b[38;5;124m\"\u001b[39m\u001b[38;5;124m forbidden, \u001b[39m\u001b[38;5;124m'\u001b[39m\u001b[38;5;124m-\u001b[39m\u001b[38;5;124m'\u001b[39m\u001b[38;5;124m and \u001b[39m\u001b[38;5;124m'\u001b[39m\u001b[38;5;124m.\u001b[39m\u001b[38;5;124m'\u001b[39m\u001b[38;5;124m cannot start or end the name, max length is 96:\u001b[39m\u001b[38;5;124m\"\u001b[39m\n\u001b[1;32m    167\u001b[0m         \u001b[38;5;124mf\u001b[39m\u001b[38;5;124m\"\u001b[39m\u001b[38;5;124m \u001b[39m\u001b[38;5;124m'\u001b[39m\u001b[38;5;132;01m{\u001b[39;00mrepo_id\u001b[38;5;132;01m}\u001b[39;00m\u001b[38;5;124m'\u001b[39m\u001b[38;5;124m.\u001b[39m\u001b[38;5;124m\"\u001b[39m\n\u001b[1;32m    168\u001b[0m     )\n",
      "\u001b[0;31mHFValidationError\u001b[0m: Repo id must be in the form 'repo_name' or 'namespace/repo_name': '/workspace/2024/Adversarial_NMT_th/checkpoints/bert_dualG/wmt14_en_fr_1mil_pg_kd_loss_MarianMT_1mil_20epochs/train_checkpoint_2.pt'. Use `repo_type` argument if needed."
     ]
    }
   ],
   "source": [
    "tokenizer_t5_base_finetuned_wmt14_1mil = AutoTokenizer.from_pretrained(\"/workspace/2024/Adversarial_NMT_th/checkpoints/bert_dualG/wmt14_en_fr_1mil_pg_kd_loss_MarianMT_1mil_20epochs/train_checkpoint_2.pt\")\n",
    "model_t5_base_finetuned_wmt14_1mil = AutoModelForSeq2SeqLM.from_pretrained(\"/workspace/2024/Adversarial_NMT_th/checkpoints/bert_dualG/wmt14_en_fr_1mil_pg_kd_loss_MarianMT_1mil_20epochs/train_checkpoint_2.pt\")\n",
    "\n",
    "translations_t5_base_finetuned_wmt14_1mil = []\n",
    "# for text in tqdm(texts):\n",
    "for idx, text in tqdm(enumerate(texts), desc=\"Translating\", total=len(texts)):\n",
    "    # print(\"english sentence: \", text)\n",
    "    # print(\"Original French Sentence: \", labels[texts.index(text)])\n",
    "    inputs_t5_base_finetuned_wmt14_1mil = tokenizer_t5_base_finetuned_wmt14_1mil(text, return_tensors=\"pt\").input_ids\n",
    "    # outputs = model.generate(inputs, max_new_tokens=40, do_sample=True, top_k=30, top_p=0.95)\n",
    "    outputs_t5_base_finetuned_wmt14_1mil = model_t5_base_finetuned_wmt14_1mil.generate(inputs_t5_base_finetuned_wmt14_1mil, max_length=60, num_beams=5, early_stopping=True)\n",
    "    translation_t5_base_finetuned_wmt14_1mil = tokenizer_t5_base_finetuned_wmt14_1mil.decode(outputs_t5_base_finetuned_wmt14_1mil[0], skip_special_tokens=True)\n",
    "    # print(\"translated french sentences:\",translation_t5_finetuned_wmt14_1mil)\n",
    "    translations_t5_base_finetuned_wmt14_1mil.append(translation_t5_base_finetuned_wmt14_1mil)\n",
    "    # print(\"\\n\")\n",
    "\n",
    "# Specify the file path\n",
    "file_path_t5_base_finetuned_wmt14_1mil = os.path.join(getpwd, \"translated_french_by_t5_base_finetuned_wmt14_1mil.txt\")\n",
    "\n",
    "# Open the file in write mode\n",
    "with open(file_path_t5_base_finetuned_wmt14_1mil, \"w\") as file:\n",
    "    # Write each translation to the file\n",
    "    for translation in translations_t5_base_finetuned_wmt14_1mil:\n",
    "        file.write(translation + \"\\n\")"
   ]
  },
  {
   "cell_type": "markdown",
   "metadata": {},
   "source": [
    "# Finetuned MarianMT in GAN - ignore"
   ]
  },
  {
   "cell_type": "code",
   "execution_count": null,
   "metadata": {},
   "outputs": [],
   "source": [
    "import torch\n",
    "\n",
    "from transformers import AutoModelForSeq2SeqLM, DataCollatorForSeq2Seq, Seq2SeqTrainingArguments, Seq2SeqTrainer\n",
    "generator2_train = AutoModelForSeq2SeqLM.from_pretrained(\"/workspace/2024/Adversarial_NMT_th/checkpoints/bert_dualG/wmt14_en_fr_1mil_pg_kd_loss_MarianMT_1mil_20epochs/train_checkpoint_2.pt\")"
   ]
  },
  {
   "cell_type": "code",
   "execution_count": null,
   "metadata": {},
   "outputs": [],
   "source": [
    "model_path = '/root/Adversarial_NMT_th/checkpoints/joint/test_vastai_wmt14_en_fr_2023_24mil_to_32mil_8mgpu_3070Dloss_fullDict_v3/train_joint_g_10.497.epoch_1.pt'\n",
    "assert os.path.exists(g_model_path)\n",
    "generator = TransformerModel_custom(args, \n",
    "            dataset.src_dict, dataset.dst_dict, use_cuda=use_cuda)    \n",
    "model_dict = generator.state_dict()\n",
    "model = torch.load(g_model_path)\n",
    "pretrained_dict = model.state_dict()\n",
    "print(\"pretrained_dict type: \", type(pretrained_dict))\n",
    "print(\"model : \",model)\n",
    "\n",
    "pretrained_dict = {k: v for k,\n",
    "                    v in pretrained_dict.items() if k in model_dict}\n",
    "# 2. overwrite entries in the existing state dict\n",
    "model_dict.update(pretrained_dict)\n",
    "# 3. load the new state dict\n",
    "generator.load_state_dict(model_dict)"
   ]
  },
  {
   "cell_type": "code",
   "execution_count": null,
   "metadata": {},
   "outputs": [],
   "source": [
    "import torch\n",
    "from transformers import AutoModelForSeq2SeqLM\n",
    "\n",
    "# Load the state dict from your custom checkpoint\n",
    "checkpoint_path = \"/workspace/2024/Adversarial_NMT_th/checkpoints/bert_dualG/wmt14_en_fr_1mil_pg_kd_loss_MarianMT_1mil_20epochs/train_checkpoint_2.pt\"\n",
    "checkpoint = torch.load(checkpoint_path)\n",
    "checkpoint_state_dict = checkpoint['generator_state_dict']\n",
    "\n",
    "# Assuming you know the configuration of your model (e.g., 'marian-mt-en-fr' for a Marian English to French model)\n",
    "# Initialize the model with the same configuration\n",
    "generator = AutoModelForSeq2SeqLM.from_pretrained('Helsinki-NLP/opus-mt-en-fr')\n",
    "generator_state_dict = generator.state_dict()\n",
    "\n",
    "checkpoint_state_dict = {k.replace('module.', ''): v for k, v in checkpoint_state_dict.items() if k in generator_state_dict}\n",
    "\n",
    "# Update the model's state dict with the loaded checkpoint\n",
    "# This assumes 'generator_state_dict' is the key in your checkpoint dict containing the model's state dictionary\n",
    "generator.load_state_dict(checkpoint_state_dict)"
   ]
  },
  {
   "cell_type": "code",
   "execution_count": 35,
   "metadata": {},
   "outputs": [
    {
     "name": "stdout",
     "output_type": "stream",
     "text": [
      "Checkpoint keys: dict_keys([])\n",
      "Model keys: odict_keys(['final_logits_bias', 'model.shared.weight', 'model.encoder.embed_tokens.weight', 'model.encoder.embed_positions.weight', 'model.encoder.layers.0.self_attn.k_proj.weight', 'model.encoder.layers.0.self_attn.k_proj.bias', 'model.encoder.layers.0.self_attn.v_proj.weight', 'model.encoder.layers.0.self_attn.v_proj.bias', 'model.encoder.layers.0.self_attn.q_proj.weight', 'model.encoder.layers.0.self_attn.q_proj.bias', 'model.encoder.layers.0.self_attn.out_proj.weight', 'model.encoder.layers.0.self_attn.out_proj.bias', 'model.encoder.layers.0.self_attn_layer_norm.weight', 'model.encoder.layers.0.self_attn_layer_norm.bias', 'model.encoder.layers.0.fc1.weight', 'model.encoder.layers.0.fc1.bias', 'model.encoder.layers.0.fc2.weight', 'model.encoder.layers.0.fc2.bias', 'model.encoder.layers.0.final_layer_norm.weight', 'model.encoder.layers.0.final_layer_norm.bias', 'model.encoder.layers.1.self_attn.k_proj.weight', 'model.encoder.layers.1.self_attn.k_proj.bias', 'model.encoder.layers.1.self_attn.v_proj.weight', 'model.encoder.layers.1.self_attn.v_proj.bias', 'model.encoder.layers.1.self_attn.q_proj.weight', 'model.encoder.layers.1.self_attn.q_proj.bias', 'model.encoder.layers.1.self_attn.out_proj.weight', 'model.encoder.layers.1.self_attn.out_proj.bias', 'model.encoder.layers.1.self_attn_layer_norm.weight', 'model.encoder.layers.1.self_attn_layer_norm.bias', 'model.encoder.layers.1.fc1.weight', 'model.encoder.layers.1.fc1.bias', 'model.encoder.layers.1.fc2.weight', 'model.encoder.layers.1.fc2.bias', 'model.encoder.layers.1.final_layer_norm.weight', 'model.encoder.layers.1.final_layer_norm.bias', 'model.encoder.layers.2.self_attn.k_proj.weight', 'model.encoder.layers.2.self_attn.k_proj.bias', 'model.encoder.layers.2.self_attn.v_proj.weight', 'model.encoder.layers.2.self_attn.v_proj.bias', 'model.encoder.layers.2.self_attn.q_proj.weight', 'model.encoder.layers.2.self_attn.q_proj.bias', 'model.encoder.layers.2.self_attn.out_proj.weight', 'model.encoder.layers.2.self_attn.out_proj.bias', 'model.encoder.layers.2.self_attn_layer_norm.weight', 'model.encoder.layers.2.self_attn_layer_norm.bias', 'model.encoder.layers.2.fc1.weight', 'model.encoder.layers.2.fc1.bias', 'model.encoder.layers.2.fc2.weight', 'model.encoder.layers.2.fc2.bias', 'model.encoder.layers.2.final_layer_norm.weight', 'model.encoder.layers.2.final_layer_norm.bias', 'model.encoder.layers.3.self_attn.k_proj.weight', 'model.encoder.layers.3.self_attn.k_proj.bias', 'model.encoder.layers.3.self_attn.v_proj.weight', 'model.encoder.layers.3.self_attn.v_proj.bias', 'model.encoder.layers.3.self_attn.q_proj.weight', 'model.encoder.layers.3.self_attn.q_proj.bias', 'model.encoder.layers.3.self_attn.out_proj.weight', 'model.encoder.layers.3.self_attn.out_proj.bias', 'model.encoder.layers.3.self_attn_layer_norm.weight', 'model.encoder.layers.3.self_attn_layer_norm.bias', 'model.encoder.layers.3.fc1.weight', 'model.encoder.layers.3.fc1.bias', 'model.encoder.layers.3.fc2.weight', 'model.encoder.layers.3.fc2.bias', 'model.encoder.layers.3.final_layer_norm.weight', 'model.encoder.layers.3.final_layer_norm.bias', 'model.encoder.layers.4.self_attn.k_proj.weight', 'model.encoder.layers.4.self_attn.k_proj.bias', 'model.encoder.layers.4.self_attn.v_proj.weight', 'model.encoder.layers.4.self_attn.v_proj.bias', 'model.encoder.layers.4.self_attn.q_proj.weight', 'model.encoder.layers.4.self_attn.q_proj.bias', 'model.encoder.layers.4.self_attn.out_proj.weight', 'model.encoder.layers.4.self_attn.out_proj.bias', 'model.encoder.layers.4.self_attn_layer_norm.weight', 'model.encoder.layers.4.self_attn_layer_norm.bias', 'model.encoder.layers.4.fc1.weight', 'model.encoder.layers.4.fc1.bias', 'model.encoder.layers.4.fc2.weight', 'model.encoder.layers.4.fc2.bias', 'model.encoder.layers.4.final_layer_norm.weight', 'model.encoder.layers.4.final_layer_norm.bias', 'model.encoder.layers.5.self_attn.k_proj.weight', 'model.encoder.layers.5.self_attn.k_proj.bias', 'model.encoder.layers.5.self_attn.v_proj.weight', 'model.encoder.layers.5.self_attn.v_proj.bias', 'model.encoder.layers.5.self_attn.q_proj.weight', 'model.encoder.layers.5.self_attn.q_proj.bias', 'model.encoder.layers.5.self_attn.out_proj.weight', 'model.encoder.layers.5.self_attn.out_proj.bias', 'model.encoder.layers.5.self_attn_layer_norm.weight', 'model.encoder.layers.5.self_attn_layer_norm.bias', 'model.encoder.layers.5.fc1.weight', 'model.encoder.layers.5.fc1.bias', 'model.encoder.layers.5.fc2.weight', 'model.encoder.layers.5.fc2.bias', 'model.encoder.layers.5.final_layer_norm.weight', 'model.encoder.layers.5.final_layer_norm.bias', 'model.decoder.embed_tokens.weight', 'model.decoder.embed_positions.weight', 'model.decoder.layers.0.self_attn.k_proj.weight', 'model.decoder.layers.0.self_attn.k_proj.bias', 'model.decoder.layers.0.self_attn.v_proj.weight', 'model.decoder.layers.0.self_attn.v_proj.bias', 'model.decoder.layers.0.self_attn.q_proj.weight', 'model.decoder.layers.0.self_attn.q_proj.bias', 'model.decoder.layers.0.self_attn.out_proj.weight', 'model.decoder.layers.0.self_attn.out_proj.bias', 'model.decoder.layers.0.self_attn_layer_norm.weight', 'model.decoder.layers.0.self_attn_layer_norm.bias', 'model.decoder.layers.0.encoder_attn.k_proj.weight', 'model.decoder.layers.0.encoder_attn.k_proj.bias', 'model.decoder.layers.0.encoder_attn.v_proj.weight', 'model.decoder.layers.0.encoder_attn.v_proj.bias', 'model.decoder.layers.0.encoder_attn.q_proj.weight', 'model.decoder.layers.0.encoder_attn.q_proj.bias', 'model.decoder.layers.0.encoder_attn.out_proj.weight', 'model.decoder.layers.0.encoder_attn.out_proj.bias', 'model.decoder.layers.0.encoder_attn_layer_norm.weight', 'model.decoder.layers.0.encoder_attn_layer_norm.bias', 'model.decoder.layers.0.fc1.weight', 'model.decoder.layers.0.fc1.bias', 'model.decoder.layers.0.fc2.weight', 'model.decoder.layers.0.fc2.bias', 'model.decoder.layers.0.final_layer_norm.weight', 'model.decoder.layers.0.final_layer_norm.bias', 'model.decoder.layers.1.self_attn.k_proj.weight', 'model.decoder.layers.1.self_attn.k_proj.bias', 'model.decoder.layers.1.self_attn.v_proj.weight', 'model.decoder.layers.1.self_attn.v_proj.bias', 'model.decoder.layers.1.self_attn.q_proj.weight', 'model.decoder.layers.1.self_attn.q_proj.bias', 'model.decoder.layers.1.self_attn.out_proj.weight', 'model.decoder.layers.1.self_attn.out_proj.bias', 'model.decoder.layers.1.self_attn_layer_norm.weight', 'model.decoder.layers.1.self_attn_layer_norm.bias', 'model.decoder.layers.1.encoder_attn.k_proj.weight', 'model.decoder.layers.1.encoder_attn.k_proj.bias', 'model.decoder.layers.1.encoder_attn.v_proj.weight', 'model.decoder.layers.1.encoder_attn.v_proj.bias', 'model.decoder.layers.1.encoder_attn.q_proj.weight', 'model.decoder.layers.1.encoder_attn.q_proj.bias', 'model.decoder.layers.1.encoder_attn.out_proj.weight', 'model.decoder.layers.1.encoder_attn.out_proj.bias', 'model.decoder.layers.1.encoder_attn_layer_norm.weight', 'model.decoder.layers.1.encoder_attn_layer_norm.bias', 'model.decoder.layers.1.fc1.weight', 'model.decoder.layers.1.fc1.bias', 'model.decoder.layers.1.fc2.weight', 'model.decoder.layers.1.fc2.bias', 'model.decoder.layers.1.final_layer_norm.weight', 'model.decoder.layers.1.final_layer_norm.bias', 'model.decoder.layers.2.self_attn.k_proj.weight', 'model.decoder.layers.2.self_attn.k_proj.bias', 'model.decoder.layers.2.self_attn.v_proj.weight', 'model.decoder.layers.2.self_attn.v_proj.bias', 'model.decoder.layers.2.self_attn.q_proj.weight', 'model.decoder.layers.2.self_attn.q_proj.bias', 'model.decoder.layers.2.self_attn.out_proj.weight', 'model.decoder.layers.2.self_attn.out_proj.bias', 'model.decoder.layers.2.self_attn_layer_norm.weight', 'model.decoder.layers.2.self_attn_layer_norm.bias', 'model.decoder.layers.2.encoder_attn.k_proj.weight', 'model.decoder.layers.2.encoder_attn.k_proj.bias', 'model.decoder.layers.2.encoder_attn.v_proj.weight', 'model.decoder.layers.2.encoder_attn.v_proj.bias', 'model.decoder.layers.2.encoder_attn.q_proj.weight', 'model.decoder.layers.2.encoder_attn.q_proj.bias', 'model.decoder.layers.2.encoder_attn.out_proj.weight', 'model.decoder.layers.2.encoder_attn.out_proj.bias', 'model.decoder.layers.2.encoder_attn_layer_norm.weight', 'model.decoder.layers.2.encoder_attn_layer_norm.bias', 'model.decoder.layers.2.fc1.weight', 'model.decoder.layers.2.fc1.bias', 'model.decoder.layers.2.fc2.weight', 'model.decoder.layers.2.fc2.bias', 'model.decoder.layers.2.final_layer_norm.weight', 'model.decoder.layers.2.final_layer_norm.bias', 'model.decoder.layers.3.self_attn.k_proj.weight', 'model.decoder.layers.3.self_attn.k_proj.bias', 'model.decoder.layers.3.self_attn.v_proj.weight', 'model.decoder.layers.3.self_attn.v_proj.bias', 'model.decoder.layers.3.self_attn.q_proj.weight', 'model.decoder.layers.3.self_attn.q_proj.bias', 'model.decoder.layers.3.self_attn.out_proj.weight', 'model.decoder.layers.3.self_attn.out_proj.bias', 'model.decoder.layers.3.self_attn_layer_norm.weight', 'model.decoder.layers.3.self_attn_layer_norm.bias', 'model.decoder.layers.3.encoder_attn.k_proj.weight', 'model.decoder.layers.3.encoder_attn.k_proj.bias', 'model.decoder.layers.3.encoder_attn.v_proj.weight', 'model.decoder.layers.3.encoder_attn.v_proj.bias', 'model.decoder.layers.3.encoder_attn.q_proj.weight', 'model.decoder.layers.3.encoder_attn.q_proj.bias', 'model.decoder.layers.3.encoder_attn.out_proj.weight', 'model.decoder.layers.3.encoder_attn.out_proj.bias', 'model.decoder.layers.3.encoder_attn_layer_norm.weight', 'model.decoder.layers.3.encoder_attn_layer_norm.bias', 'model.decoder.layers.3.fc1.weight', 'model.decoder.layers.3.fc1.bias', 'model.decoder.layers.3.fc2.weight', 'model.decoder.layers.3.fc2.bias', 'model.decoder.layers.3.final_layer_norm.weight', 'model.decoder.layers.3.final_layer_norm.bias', 'model.decoder.layers.4.self_attn.k_proj.weight', 'model.decoder.layers.4.self_attn.k_proj.bias', 'model.decoder.layers.4.self_attn.v_proj.weight', 'model.decoder.layers.4.self_attn.v_proj.bias', 'model.decoder.layers.4.self_attn.q_proj.weight', 'model.decoder.layers.4.self_attn.q_proj.bias', 'model.decoder.layers.4.self_attn.out_proj.weight', 'model.decoder.layers.4.self_attn.out_proj.bias', 'model.decoder.layers.4.self_attn_layer_norm.weight', 'model.decoder.layers.4.self_attn_layer_norm.bias', 'model.decoder.layers.4.encoder_attn.k_proj.weight', 'model.decoder.layers.4.encoder_attn.k_proj.bias', 'model.decoder.layers.4.encoder_attn.v_proj.weight', 'model.decoder.layers.4.encoder_attn.v_proj.bias', 'model.decoder.layers.4.encoder_attn.q_proj.weight', 'model.decoder.layers.4.encoder_attn.q_proj.bias', 'model.decoder.layers.4.encoder_attn.out_proj.weight', 'model.decoder.layers.4.encoder_attn.out_proj.bias', 'model.decoder.layers.4.encoder_attn_layer_norm.weight', 'model.decoder.layers.4.encoder_attn_layer_norm.bias', 'model.decoder.layers.4.fc1.weight', 'model.decoder.layers.4.fc1.bias', 'model.decoder.layers.4.fc2.weight', 'model.decoder.layers.4.fc2.bias', 'model.decoder.layers.4.final_layer_norm.weight', 'model.decoder.layers.4.final_layer_norm.bias', 'model.decoder.layers.5.self_attn.k_proj.weight', 'model.decoder.layers.5.self_attn.k_proj.bias', 'model.decoder.layers.5.self_attn.v_proj.weight', 'model.decoder.layers.5.self_attn.v_proj.bias', 'model.decoder.layers.5.self_attn.q_proj.weight', 'model.decoder.layers.5.self_attn.q_proj.bias', 'model.decoder.layers.5.self_attn.out_proj.weight', 'model.decoder.layers.5.self_attn.out_proj.bias', 'model.decoder.layers.5.self_attn_layer_norm.weight', 'model.decoder.layers.5.self_attn_layer_norm.bias', 'model.decoder.layers.5.encoder_attn.k_proj.weight', 'model.decoder.layers.5.encoder_attn.k_proj.bias', 'model.decoder.layers.5.encoder_attn.v_proj.weight', 'model.decoder.layers.5.encoder_attn.v_proj.bias', 'model.decoder.layers.5.encoder_attn.q_proj.weight', 'model.decoder.layers.5.encoder_attn.q_proj.bias', 'model.decoder.layers.5.encoder_attn.out_proj.weight', 'model.decoder.layers.5.encoder_attn.out_proj.bias', 'model.decoder.layers.5.encoder_attn_layer_norm.weight', 'model.decoder.layers.5.encoder_attn_layer_norm.bias', 'model.decoder.layers.5.fc1.weight', 'model.decoder.layers.5.fc1.bias', 'model.decoder.layers.5.fc2.weight', 'model.decoder.layers.5.fc2.bias', 'model.decoder.layers.5.final_layer_norm.weight', 'model.decoder.layers.5.final_layer_norm.bias', 'lm_head.weight'])\n"
     ]
    }
   ],
   "source": [
    "print(\"Checkpoint keys:\", checkpoint_state_dict.keys())\n",
    "print(\"Model keys:\", generator_state_dict.keys())\n"
   ]
  },
  {
   "cell_type": "markdown",
   "metadata": {},
   "source": [
    "# Finetuned MarianMT in GAN - use below "
   ]
  },
  {
   "cell_type": "code",
   "execution_count": null,
   "metadata": {},
   "outputs": [],
   "source": [
    "# Saving model state dict\n",
    "# torch.save(model.state_dict(), \"model_state_dict.pth\")\n",
    "\n",
    "# Loading model state dict\n",
    "generator_model = AutoModelForSeq2SeqLM.from_pretrained('Helsinki-NLP/opus-mt-en-fr')  # Initialize a model instance of your model class\n",
    "checkpoint_path_generator = '/workspace/2024/Adversarial_NMT_th/checkpoints/bert_dualG/wmt14_en_fr_1mil_pg_kd_loss_MarianMT_unfreezeonlylmlayer_1mil_20epochs/best_generator_at_2.pt'\n",
    "generator2_train = torch.load(open(checkpoint_path_generator, \"rb\"), pickle_module=dill)\n",
    "generator_model.load_state_dict(torch.load(generator2_train.state_dict()))  # Load the state dict into the model\n",
    "model.to('cpu')\n",
    "model.eval()  # Don't forget to call eval!\n"
   ]
  },
  {
   "cell_type": "code",
   "execution_count": 16,
   "metadata": {},
   "outputs": [],
   "source": [
    "import torch\n",
    "import dill\n",
    "\n",
    "# Define the path to your saved model\n",
    "# checkpoint_path_generator = \"/workspace/2024/Adversarial_NMT_th/checkpoints/bert_dualG/wmt14_en_fr_1mil_pg_kd_loss_MarianMT_1mil_20epochs/best_generator.pt\"\n",
    "# checkpoint_path_generator = '/workspace/2024/Adversarial_NMT_th/checkpoints/bert_dualG/wmt14_en_fr_1mil_pg_kd_loss_MarianMT_1mil_20epochs/train_checkpoint__generator2.pt'\n",
    "# checkpoint_path_generator = '/workspace/2024/Adversarial_NMT_th/checkpoints/bert_dualG/wmt14_en_fr_1mil_pg_kd_loss_MarianMT_unfreezeonlylmlayer_1mil_20epochs/train_checkpoint__generator5.pt'\n",
    "checkpoint_path_generator = '/workspace/2024/Adversarial_NMT_th/checkpoints/bert_dualG/wmt14_en_fr_1mil_pg_kd_loss_MarianMT_unfreezeonlylmlayer_1mil_20epochs/best_generator_at_2.pt'\n",
    "# Load the entire model directly\n",
    "generator2_train = torch.load(open(checkpoint_path_generator, \"rb\"), pickle_module=dill)\n",
    "\n",
    "# Assuming you might also need to load the discriminator in a similar manner\n",
    "# checkpoint_path_discriminator = \"/workspace/2024/Adversarial_NMT_th/checkpoints/bert_dualG/wmt14_en_fr_1mil_pg_kd_loss_MarianMT_1mil_20epochs/best_discriminator.pt\"\n",
    "# discriminator_cnn = torch.load(open(checkpoint_path_discriminator, \"rb\"), pickle_module=dill)\n",
    "\n",
    "# Now, generator2_train and discriminator_cnn are the loaded model objects and ready to use"
   ]
  },
  {
   "cell_type": "code",
   "execution_count": 17,
   "metadata": {},
   "outputs": [],
   "source": [
    "# generator2_train # Extract the underlying model from the DataParallel wrapper\n",
    "generator2_train = generator2_train.module if isinstance(generator2_train, torch.nn.DataParallel) else generator2_train"
   ]
  },
  {
   "cell_type": "code",
   "execution_count": 18,
   "metadata": {},
   "outputs": [
    {
     "data": {
      "text/plain": [
       "odict_keys(['final_logits_bias', 'model.shared.weight', 'model.encoder.embed_tokens.weight', 'model.encoder.embed_positions.weight', 'model.encoder.layers.0.self_attn.k_proj.weight', 'model.encoder.layers.0.self_attn.k_proj.bias', 'model.encoder.layers.0.self_attn.v_proj.weight', 'model.encoder.layers.0.self_attn.v_proj.bias', 'model.encoder.layers.0.self_attn.q_proj.weight', 'model.encoder.layers.0.self_attn.q_proj.bias', 'model.encoder.layers.0.self_attn.out_proj.weight', 'model.encoder.layers.0.self_attn.out_proj.bias', 'model.encoder.layers.0.self_attn_layer_norm.weight', 'model.encoder.layers.0.self_attn_layer_norm.bias', 'model.encoder.layers.0.fc1.weight', 'model.encoder.layers.0.fc1.bias', 'model.encoder.layers.0.fc2.weight', 'model.encoder.layers.0.fc2.bias', 'model.encoder.layers.0.final_layer_norm.weight', 'model.encoder.layers.0.final_layer_norm.bias', 'model.encoder.layers.1.self_attn.k_proj.weight', 'model.encoder.layers.1.self_attn.k_proj.bias', 'model.encoder.layers.1.self_attn.v_proj.weight', 'model.encoder.layers.1.self_attn.v_proj.bias', 'model.encoder.layers.1.self_attn.q_proj.weight', 'model.encoder.layers.1.self_attn.q_proj.bias', 'model.encoder.layers.1.self_attn.out_proj.weight', 'model.encoder.layers.1.self_attn.out_proj.bias', 'model.encoder.layers.1.self_attn_layer_norm.weight', 'model.encoder.layers.1.self_attn_layer_norm.bias', 'model.encoder.layers.1.fc1.weight', 'model.encoder.layers.1.fc1.bias', 'model.encoder.layers.1.fc2.weight', 'model.encoder.layers.1.fc2.bias', 'model.encoder.layers.1.final_layer_norm.weight', 'model.encoder.layers.1.final_layer_norm.bias', 'model.encoder.layers.2.self_attn.k_proj.weight', 'model.encoder.layers.2.self_attn.k_proj.bias', 'model.encoder.layers.2.self_attn.v_proj.weight', 'model.encoder.layers.2.self_attn.v_proj.bias', 'model.encoder.layers.2.self_attn.q_proj.weight', 'model.encoder.layers.2.self_attn.q_proj.bias', 'model.encoder.layers.2.self_attn.out_proj.weight', 'model.encoder.layers.2.self_attn.out_proj.bias', 'model.encoder.layers.2.self_attn_layer_norm.weight', 'model.encoder.layers.2.self_attn_layer_norm.bias', 'model.encoder.layers.2.fc1.weight', 'model.encoder.layers.2.fc1.bias', 'model.encoder.layers.2.fc2.weight', 'model.encoder.layers.2.fc2.bias', 'model.encoder.layers.2.final_layer_norm.weight', 'model.encoder.layers.2.final_layer_norm.bias', 'model.encoder.layers.3.self_attn.k_proj.weight', 'model.encoder.layers.3.self_attn.k_proj.bias', 'model.encoder.layers.3.self_attn.v_proj.weight', 'model.encoder.layers.3.self_attn.v_proj.bias', 'model.encoder.layers.3.self_attn.q_proj.weight', 'model.encoder.layers.3.self_attn.q_proj.bias', 'model.encoder.layers.3.self_attn.out_proj.weight', 'model.encoder.layers.3.self_attn.out_proj.bias', 'model.encoder.layers.3.self_attn_layer_norm.weight', 'model.encoder.layers.3.self_attn_layer_norm.bias', 'model.encoder.layers.3.fc1.weight', 'model.encoder.layers.3.fc1.bias', 'model.encoder.layers.3.fc2.weight', 'model.encoder.layers.3.fc2.bias', 'model.encoder.layers.3.final_layer_norm.weight', 'model.encoder.layers.3.final_layer_norm.bias', 'model.encoder.layers.4.self_attn.k_proj.weight', 'model.encoder.layers.4.self_attn.k_proj.bias', 'model.encoder.layers.4.self_attn.v_proj.weight', 'model.encoder.layers.4.self_attn.v_proj.bias', 'model.encoder.layers.4.self_attn.q_proj.weight', 'model.encoder.layers.4.self_attn.q_proj.bias', 'model.encoder.layers.4.self_attn.out_proj.weight', 'model.encoder.layers.4.self_attn.out_proj.bias', 'model.encoder.layers.4.self_attn_layer_norm.weight', 'model.encoder.layers.4.self_attn_layer_norm.bias', 'model.encoder.layers.4.fc1.weight', 'model.encoder.layers.4.fc1.bias', 'model.encoder.layers.4.fc2.weight', 'model.encoder.layers.4.fc2.bias', 'model.encoder.layers.4.final_layer_norm.weight', 'model.encoder.layers.4.final_layer_norm.bias', 'model.encoder.layers.5.self_attn.k_proj.weight', 'model.encoder.layers.5.self_attn.k_proj.bias', 'model.encoder.layers.5.self_attn.v_proj.weight', 'model.encoder.layers.5.self_attn.v_proj.bias', 'model.encoder.layers.5.self_attn.q_proj.weight', 'model.encoder.layers.5.self_attn.q_proj.bias', 'model.encoder.layers.5.self_attn.out_proj.weight', 'model.encoder.layers.5.self_attn.out_proj.bias', 'model.encoder.layers.5.self_attn_layer_norm.weight', 'model.encoder.layers.5.self_attn_layer_norm.bias', 'model.encoder.layers.5.fc1.weight', 'model.encoder.layers.5.fc1.bias', 'model.encoder.layers.5.fc2.weight', 'model.encoder.layers.5.fc2.bias', 'model.encoder.layers.5.final_layer_norm.weight', 'model.encoder.layers.5.final_layer_norm.bias', 'model.decoder.embed_tokens.weight', 'model.decoder.embed_positions.weight', 'model.decoder.layers.0.self_attn.k_proj.weight', 'model.decoder.layers.0.self_attn.k_proj.bias', 'model.decoder.layers.0.self_attn.v_proj.weight', 'model.decoder.layers.0.self_attn.v_proj.bias', 'model.decoder.layers.0.self_attn.q_proj.weight', 'model.decoder.layers.0.self_attn.q_proj.bias', 'model.decoder.layers.0.self_attn.out_proj.weight', 'model.decoder.layers.0.self_attn.out_proj.bias', 'model.decoder.layers.0.self_attn_layer_norm.weight', 'model.decoder.layers.0.self_attn_layer_norm.bias', 'model.decoder.layers.0.encoder_attn.k_proj.weight', 'model.decoder.layers.0.encoder_attn.k_proj.bias', 'model.decoder.layers.0.encoder_attn.v_proj.weight', 'model.decoder.layers.0.encoder_attn.v_proj.bias', 'model.decoder.layers.0.encoder_attn.q_proj.weight', 'model.decoder.layers.0.encoder_attn.q_proj.bias', 'model.decoder.layers.0.encoder_attn.out_proj.weight', 'model.decoder.layers.0.encoder_attn.out_proj.bias', 'model.decoder.layers.0.encoder_attn_layer_norm.weight', 'model.decoder.layers.0.encoder_attn_layer_norm.bias', 'model.decoder.layers.0.fc1.weight', 'model.decoder.layers.0.fc1.bias', 'model.decoder.layers.0.fc2.weight', 'model.decoder.layers.0.fc2.bias', 'model.decoder.layers.0.final_layer_norm.weight', 'model.decoder.layers.0.final_layer_norm.bias', 'model.decoder.layers.1.self_attn.k_proj.weight', 'model.decoder.layers.1.self_attn.k_proj.bias', 'model.decoder.layers.1.self_attn.v_proj.weight', 'model.decoder.layers.1.self_attn.v_proj.bias', 'model.decoder.layers.1.self_attn.q_proj.weight', 'model.decoder.layers.1.self_attn.q_proj.bias', 'model.decoder.layers.1.self_attn.out_proj.weight', 'model.decoder.layers.1.self_attn.out_proj.bias', 'model.decoder.layers.1.self_attn_layer_norm.weight', 'model.decoder.layers.1.self_attn_layer_norm.bias', 'model.decoder.layers.1.encoder_attn.k_proj.weight', 'model.decoder.layers.1.encoder_attn.k_proj.bias', 'model.decoder.layers.1.encoder_attn.v_proj.weight', 'model.decoder.layers.1.encoder_attn.v_proj.bias', 'model.decoder.layers.1.encoder_attn.q_proj.weight', 'model.decoder.layers.1.encoder_attn.q_proj.bias', 'model.decoder.layers.1.encoder_attn.out_proj.weight', 'model.decoder.layers.1.encoder_attn.out_proj.bias', 'model.decoder.layers.1.encoder_attn_layer_norm.weight', 'model.decoder.layers.1.encoder_attn_layer_norm.bias', 'model.decoder.layers.1.fc1.weight', 'model.decoder.layers.1.fc1.bias', 'model.decoder.layers.1.fc2.weight', 'model.decoder.layers.1.fc2.bias', 'model.decoder.layers.1.final_layer_norm.weight', 'model.decoder.layers.1.final_layer_norm.bias', 'model.decoder.layers.2.self_attn.k_proj.weight', 'model.decoder.layers.2.self_attn.k_proj.bias', 'model.decoder.layers.2.self_attn.v_proj.weight', 'model.decoder.layers.2.self_attn.v_proj.bias', 'model.decoder.layers.2.self_attn.q_proj.weight', 'model.decoder.layers.2.self_attn.q_proj.bias', 'model.decoder.layers.2.self_attn.out_proj.weight', 'model.decoder.layers.2.self_attn.out_proj.bias', 'model.decoder.layers.2.self_attn_layer_norm.weight', 'model.decoder.layers.2.self_attn_layer_norm.bias', 'model.decoder.layers.2.encoder_attn.k_proj.weight', 'model.decoder.layers.2.encoder_attn.k_proj.bias', 'model.decoder.layers.2.encoder_attn.v_proj.weight', 'model.decoder.layers.2.encoder_attn.v_proj.bias', 'model.decoder.layers.2.encoder_attn.q_proj.weight', 'model.decoder.layers.2.encoder_attn.q_proj.bias', 'model.decoder.layers.2.encoder_attn.out_proj.weight', 'model.decoder.layers.2.encoder_attn.out_proj.bias', 'model.decoder.layers.2.encoder_attn_layer_norm.weight', 'model.decoder.layers.2.encoder_attn_layer_norm.bias', 'model.decoder.layers.2.fc1.weight', 'model.decoder.layers.2.fc1.bias', 'model.decoder.layers.2.fc2.weight', 'model.decoder.layers.2.fc2.bias', 'model.decoder.layers.2.final_layer_norm.weight', 'model.decoder.layers.2.final_layer_norm.bias', 'model.decoder.layers.3.self_attn.k_proj.weight', 'model.decoder.layers.3.self_attn.k_proj.bias', 'model.decoder.layers.3.self_attn.v_proj.weight', 'model.decoder.layers.3.self_attn.v_proj.bias', 'model.decoder.layers.3.self_attn.q_proj.weight', 'model.decoder.layers.3.self_attn.q_proj.bias', 'model.decoder.layers.3.self_attn.out_proj.weight', 'model.decoder.layers.3.self_attn.out_proj.bias', 'model.decoder.layers.3.self_attn_layer_norm.weight', 'model.decoder.layers.3.self_attn_layer_norm.bias', 'model.decoder.layers.3.encoder_attn.k_proj.weight', 'model.decoder.layers.3.encoder_attn.k_proj.bias', 'model.decoder.layers.3.encoder_attn.v_proj.weight', 'model.decoder.layers.3.encoder_attn.v_proj.bias', 'model.decoder.layers.3.encoder_attn.q_proj.weight', 'model.decoder.layers.3.encoder_attn.q_proj.bias', 'model.decoder.layers.3.encoder_attn.out_proj.weight', 'model.decoder.layers.3.encoder_attn.out_proj.bias', 'model.decoder.layers.3.encoder_attn_layer_norm.weight', 'model.decoder.layers.3.encoder_attn_layer_norm.bias', 'model.decoder.layers.3.fc1.weight', 'model.decoder.layers.3.fc1.bias', 'model.decoder.layers.3.fc2.weight', 'model.decoder.layers.3.fc2.bias', 'model.decoder.layers.3.final_layer_norm.weight', 'model.decoder.layers.3.final_layer_norm.bias', 'model.decoder.layers.4.self_attn.k_proj.weight', 'model.decoder.layers.4.self_attn.k_proj.bias', 'model.decoder.layers.4.self_attn.v_proj.weight', 'model.decoder.layers.4.self_attn.v_proj.bias', 'model.decoder.layers.4.self_attn.q_proj.weight', 'model.decoder.layers.4.self_attn.q_proj.bias', 'model.decoder.layers.4.self_attn.out_proj.weight', 'model.decoder.layers.4.self_attn.out_proj.bias', 'model.decoder.layers.4.self_attn_layer_norm.weight', 'model.decoder.layers.4.self_attn_layer_norm.bias', 'model.decoder.layers.4.encoder_attn.k_proj.weight', 'model.decoder.layers.4.encoder_attn.k_proj.bias', 'model.decoder.layers.4.encoder_attn.v_proj.weight', 'model.decoder.layers.4.encoder_attn.v_proj.bias', 'model.decoder.layers.4.encoder_attn.q_proj.weight', 'model.decoder.layers.4.encoder_attn.q_proj.bias', 'model.decoder.layers.4.encoder_attn.out_proj.weight', 'model.decoder.layers.4.encoder_attn.out_proj.bias', 'model.decoder.layers.4.encoder_attn_layer_norm.weight', 'model.decoder.layers.4.encoder_attn_layer_norm.bias', 'model.decoder.layers.4.fc1.weight', 'model.decoder.layers.4.fc1.bias', 'model.decoder.layers.4.fc2.weight', 'model.decoder.layers.4.fc2.bias', 'model.decoder.layers.4.final_layer_norm.weight', 'model.decoder.layers.4.final_layer_norm.bias', 'model.decoder.layers.5.self_attn.k_proj.weight', 'model.decoder.layers.5.self_attn.k_proj.bias', 'model.decoder.layers.5.self_attn.v_proj.weight', 'model.decoder.layers.5.self_attn.v_proj.bias', 'model.decoder.layers.5.self_attn.q_proj.weight', 'model.decoder.layers.5.self_attn.q_proj.bias', 'model.decoder.layers.5.self_attn.out_proj.weight', 'model.decoder.layers.5.self_attn.out_proj.bias', 'model.decoder.layers.5.self_attn_layer_norm.weight', 'model.decoder.layers.5.self_attn_layer_norm.bias', 'model.decoder.layers.5.encoder_attn.k_proj.weight', 'model.decoder.layers.5.encoder_attn.k_proj.bias', 'model.decoder.layers.5.encoder_attn.v_proj.weight', 'model.decoder.layers.5.encoder_attn.v_proj.bias', 'model.decoder.layers.5.encoder_attn.q_proj.weight', 'model.decoder.layers.5.encoder_attn.q_proj.bias', 'model.decoder.layers.5.encoder_attn.out_proj.weight', 'model.decoder.layers.5.encoder_attn.out_proj.bias', 'model.decoder.layers.5.encoder_attn_layer_norm.weight', 'model.decoder.layers.5.encoder_attn_layer_norm.bias', 'model.decoder.layers.5.fc1.weight', 'model.decoder.layers.5.fc1.bias', 'model.decoder.layers.5.fc2.weight', 'model.decoder.layers.5.fc2.bias', 'model.decoder.layers.5.final_layer_norm.weight', 'model.decoder.layers.5.final_layer_norm.bias', 'lm_head.weight'])"
      ]
     },
     "execution_count": 18,
     "metadata": {},
     "output_type": "execute_result"
    }
   ],
   "source": [
    "generator2_train.state_dict().keys()"
   ]
  },
  {
   "cell_type": "code",
   "execution_count": null,
   "metadata": {},
   "outputs": [],
   "source": [
    "generator2_train"
   ]
  },
  {
   "cell_type": "code",
   "execution_count": 10,
   "metadata": {},
   "outputs": [],
   "source": [
    "import torch\n",
    "from transformers import AutoModelForSeq2SeqLM\n",
    "# checkpoint = '/workspace/2024/Adversarial_NMT_th/checkpoints/bert_dualG/wmt14_en_fr_1mil_pg_kd_loss_MarianMT_unfreezeonlylmlayer_1mil_20epochs_save_pretrained/train_checkpoint_generator_save_pretrained2'\n",
    "# checkpoint = '/workspace/2024/Adversarial_NMT_th/checkpoints/bert_dualG/wmt14_en_fr_1mil_pg_kd_loss_MarianMT_unfreezeonlylmlayer_600sents_dedbug_spcChars__save_pretrained/best_generator_save_pretrained_at_1'\n",
    "checkpoint = '/home/paperspace/google_drive_v1/Research_Thesis/2024/git_repo/best_generator_save_pretrained_at_2'\n",
    "# generator2_train = generator2_train.module if isinstance(generator2_train, torch.nn.DataParallel) else generator2_train\n",
    "generator2_train = AutoModelForSeq2SeqLM.from_pretrained(checkpoint)"
   ]
  },
  {
   "cell_type": "code",
   "execution_count": 13,
   "metadata": {},
   "outputs": [
    {
     "data": {
      "text/plain": [
       "MarianMTModel(\n",
       "  (model): MarianModel(\n",
       "    (shared): Embedding(59514, 512, padding_idx=59513)\n",
       "    (encoder): MarianEncoder(\n",
       "      (embed_tokens): Embedding(59514, 512, padding_idx=59513)\n",
       "      (embed_positions): MarianSinusoidalPositionalEmbedding(512, 512)\n",
       "      (layers): ModuleList(\n",
       "        (0): MarianEncoderLayer(\n",
       "          (self_attn): MarianAttention(\n",
       "            (k_proj): Linear(in_features=512, out_features=512, bias=True)\n",
       "            (v_proj): Linear(in_features=512, out_features=512, bias=True)\n",
       "            (q_proj): Linear(in_features=512, out_features=512, bias=True)\n",
       "            (out_proj): Linear(in_features=512, out_features=512, bias=True)\n",
       "          )\n",
       "          (self_attn_layer_norm): LayerNorm((512,), eps=1e-05, elementwise_affine=True)\n",
       "          (activation_fn): SiLUActivation()\n",
       "          (fc1): Linear(in_features=512, out_features=2048, bias=True)\n",
       "          (fc2): Linear(in_features=2048, out_features=512, bias=True)\n",
       "          (final_layer_norm): LayerNorm((512,), eps=1e-05, elementwise_affine=True)\n",
       "        )\n",
       "        (1): MarianEncoderLayer(\n",
       "          (self_attn): MarianAttention(\n",
       "            (k_proj): Linear(in_features=512, out_features=512, bias=True)\n",
       "            (v_proj): Linear(in_features=512, out_features=512, bias=True)\n",
       "            (q_proj): Linear(in_features=512, out_features=512, bias=True)\n",
       "            (out_proj): Linear(in_features=512, out_features=512, bias=True)\n",
       "          )\n",
       "          (self_attn_layer_norm): LayerNorm((512,), eps=1e-05, elementwise_affine=True)\n",
       "          (activation_fn): SiLUActivation()\n",
       "          (fc1): Linear(in_features=512, out_features=2048, bias=True)\n",
       "          (fc2): Linear(in_features=2048, out_features=512, bias=True)\n",
       "          (final_layer_norm): LayerNorm((512,), eps=1e-05, elementwise_affine=True)\n",
       "        )\n",
       "        (2): MarianEncoderLayer(\n",
       "          (self_attn): MarianAttention(\n",
       "            (k_proj): Linear(in_features=512, out_features=512, bias=True)\n",
       "            (v_proj): Linear(in_features=512, out_features=512, bias=True)\n",
       "            (q_proj): Linear(in_features=512, out_features=512, bias=True)\n",
       "            (out_proj): Linear(in_features=512, out_features=512, bias=True)\n",
       "          )\n",
       "          (self_attn_layer_norm): LayerNorm((512,), eps=1e-05, elementwise_affine=True)\n",
       "          (activation_fn): SiLUActivation()\n",
       "          (fc1): Linear(in_features=512, out_features=2048, bias=True)\n",
       "          (fc2): Linear(in_features=2048, out_features=512, bias=True)\n",
       "          (final_layer_norm): LayerNorm((512,), eps=1e-05, elementwise_affine=True)\n",
       "        )\n",
       "        (3): MarianEncoderLayer(\n",
       "          (self_attn): MarianAttention(\n",
       "            (k_proj): Linear(in_features=512, out_features=512, bias=True)\n",
       "            (v_proj): Linear(in_features=512, out_features=512, bias=True)\n",
       "            (q_proj): Linear(in_features=512, out_features=512, bias=True)\n",
       "            (out_proj): Linear(in_features=512, out_features=512, bias=True)\n",
       "          )\n",
       "          (self_attn_layer_norm): LayerNorm((512,), eps=1e-05, elementwise_affine=True)\n",
       "          (activation_fn): SiLUActivation()\n",
       "          (fc1): Linear(in_features=512, out_features=2048, bias=True)\n",
       "          (fc2): Linear(in_features=2048, out_features=512, bias=True)\n",
       "          (final_layer_norm): LayerNorm((512,), eps=1e-05, elementwise_affine=True)\n",
       "        )\n",
       "        (4): MarianEncoderLayer(\n",
       "          (self_attn): MarianAttention(\n",
       "            (k_proj): Linear(in_features=512, out_features=512, bias=True)\n",
       "            (v_proj): Linear(in_features=512, out_features=512, bias=True)\n",
       "            (q_proj): Linear(in_features=512, out_features=512, bias=True)\n",
       "            (out_proj): Linear(in_features=512, out_features=512, bias=True)\n",
       "          )\n",
       "          (self_attn_layer_norm): LayerNorm((512,), eps=1e-05, elementwise_affine=True)\n",
       "          (activation_fn): SiLUActivation()\n",
       "          (fc1): Linear(in_features=512, out_features=2048, bias=True)\n",
       "          (fc2): Linear(in_features=2048, out_features=512, bias=True)\n",
       "          (final_layer_norm): LayerNorm((512,), eps=1e-05, elementwise_affine=True)\n",
       "        )\n",
       "        (5): MarianEncoderLayer(\n",
       "          (self_attn): MarianAttention(\n",
       "            (k_proj): Linear(in_features=512, out_features=512, bias=True)\n",
       "            (v_proj): Linear(in_features=512, out_features=512, bias=True)\n",
       "            (q_proj): Linear(in_features=512, out_features=512, bias=True)\n",
       "            (out_proj): Linear(in_features=512, out_features=512, bias=True)\n",
       "          )\n",
       "          (self_attn_layer_norm): LayerNorm((512,), eps=1e-05, elementwise_affine=True)\n",
       "          (activation_fn): SiLUActivation()\n",
       "          (fc1): Linear(in_features=512, out_features=2048, bias=True)\n",
       "          (fc2): Linear(in_features=2048, out_features=512, bias=True)\n",
       "          (final_layer_norm): LayerNorm((512,), eps=1e-05, elementwise_affine=True)\n",
       "        )\n",
       "      )\n",
       "    )\n",
       "    (decoder): MarianDecoder(\n",
       "      (embed_tokens): Embedding(59514, 512, padding_idx=59513)\n",
       "      (embed_positions): MarianSinusoidalPositionalEmbedding(512, 512)\n",
       "      (layers): ModuleList(\n",
       "        (0): MarianDecoderLayer(\n",
       "          (self_attn): MarianAttention(\n",
       "            (k_proj): Linear(in_features=512, out_features=512, bias=True)\n",
       "            (v_proj): Linear(in_features=512, out_features=512, bias=True)\n",
       "            (q_proj): Linear(in_features=512, out_features=512, bias=True)\n",
       "            (out_proj): Linear(in_features=512, out_features=512, bias=True)\n",
       "          )\n",
       "          (activation_fn): SiLUActivation()\n",
       "          (self_attn_layer_norm): LayerNorm((512,), eps=1e-05, elementwise_affine=True)\n",
       "          (encoder_attn): MarianAttention(\n",
       "            (k_proj): Linear(in_features=512, out_features=512, bias=True)\n",
       "            (v_proj): Linear(in_features=512, out_features=512, bias=True)\n",
       "            (q_proj): Linear(in_features=512, out_features=512, bias=True)\n",
       "            (out_proj): Linear(in_features=512, out_features=512, bias=True)\n",
       "          )\n",
       "          (encoder_attn_layer_norm): LayerNorm((512,), eps=1e-05, elementwise_affine=True)\n",
       "          (fc1): Linear(in_features=512, out_features=2048, bias=True)\n",
       "          (fc2): Linear(in_features=2048, out_features=512, bias=True)\n",
       "          (final_layer_norm): LayerNorm((512,), eps=1e-05, elementwise_affine=True)\n",
       "        )\n",
       "        (1): MarianDecoderLayer(\n",
       "          (self_attn): MarianAttention(\n",
       "            (k_proj): Linear(in_features=512, out_features=512, bias=True)\n",
       "            (v_proj): Linear(in_features=512, out_features=512, bias=True)\n",
       "            (q_proj): Linear(in_features=512, out_features=512, bias=True)\n",
       "            (out_proj): Linear(in_features=512, out_features=512, bias=True)\n",
       "          )\n",
       "          (activation_fn): SiLUActivation()\n",
       "          (self_attn_layer_norm): LayerNorm((512,), eps=1e-05, elementwise_affine=True)\n",
       "          (encoder_attn): MarianAttention(\n",
       "            (k_proj): Linear(in_features=512, out_features=512, bias=True)\n",
       "            (v_proj): Linear(in_features=512, out_features=512, bias=True)\n",
       "            (q_proj): Linear(in_features=512, out_features=512, bias=True)\n",
       "            (out_proj): Linear(in_features=512, out_features=512, bias=True)\n",
       "          )\n",
       "          (encoder_attn_layer_norm): LayerNorm((512,), eps=1e-05, elementwise_affine=True)\n",
       "          (fc1): Linear(in_features=512, out_features=2048, bias=True)\n",
       "          (fc2): Linear(in_features=2048, out_features=512, bias=True)\n",
       "          (final_layer_norm): LayerNorm((512,), eps=1e-05, elementwise_affine=True)\n",
       "        )\n",
       "        (2): MarianDecoderLayer(\n",
       "          (self_attn): MarianAttention(\n",
       "            (k_proj): Linear(in_features=512, out_features=512, bias=True)\n",
       "            (v_proj): Linear(in_features=512, out_features=512, bias=True)\n",
       "            (q_proj): Linear(in_features=512, out_features=512, bias=True)\n",
       "            (out_proj): Linear(in_features=512, out_features=512, bias=True)\n",
       "          )\n",
       "          (activation_fn): SiLUActivation()\n",
       "          (self_attn_layer_norm): LayerNorm((512,), eps=1e-05, elementwise_affine=True)\n",
       "          (encoder_attn): MarianAttention(\n",
       "            (k_proj): Linear(in_features=512, out_features=512, bias=True)\n",
       "            (v_proj): Linear(in_features=512, out_features=512, bias=True)\n",
       "            (q_proj): Linear(in_features=512, out_features=512, bias=True)\n",
       "            (out_proj): Linear(in_features=512, out_features=512, bias=True)\n",
       "          )\n",
       "          (encoder_attn_layer_norm): LayerNorm((512,), eps=1e-05, elementwise_affine=True)\n",
       "          (fc1): Linear(in_features=512, out_features=2048, bias=True)\n",
       "          (fc2): Linear(in_features=2048, out_features=512, bias=True)\n",
       "          (final_layer_norm): LayerNorm((512,), eps=1e-05, elementwise_affine=True)\n",
       "        )\n",
       "        (3): MarianDecoderLayer(\n",
       "          (self_attn): MarianAttention(\n",
       "            (k_proj): Linear(in_features=512, out_features=512, bias=True)\n",
       "            (v_proj): Linear(in_features=512, out_features=512, bias=True)\n",
       "            (q_proj): Linear(in_features=512, out_features=512, bias=True)\n",
       "            (out_proj): Linear(in_features=512, out_features=512, bias=True)\n",
       "          )\n",
       "          (activation_fn): SiLUActivation()\n",
       "          (self_attn_layer_norm): LayerNorm((512,), eps=1e-05, elementwise_affine=True)\n",
       "          (encoder_attn): MarianAttention(\n",
       "            (k_proj): Linear(in_features=512, out_features=512, bias=True)\n",
       "            (v_proj): Linear(in_features=512, out_features=512, bias=True)\n",
       "            (q_proj): Linear(in_features=512, out_features=512, bias=True)\n",
       "            (out_proj): Linear(in_features=512, out_features=512, bias=True)\n",
       "          )\n",
       "          (encoder_attn_layer_norm): LayerNorm((512,), eps=1e-05, elementwise_affine=True)\n",
       "          (fc1): Linear(in_features=512, out_features=2048, bias=True)\n",
       "          (fc2): Linear(in_features=2048, out_features=512, bias=True)\n",
       "          (final_layer_norm): LayerNorm((512,), eps=1e-05, elementwise_affine=True)\n",
       "        )\n",
       "        (4): MarianDecoderLayer(\n",
       "          (self_attn): MarianAttention(\n",
       "            (k_proj): Linear(in_features=512, out_features=512, bias=True)\n",
       "            (v_proj): Linear(in_features=512, out_features=512, bias=True)\n",
       "            (q_proj): Linear(in_features=512, out_features=512, bias=True)\n",
       "            (out_proj): Linear(in_features=512, out_features=512, bias=True)\n",
       "          )\n",
       "          (activation_fn): SiLUActivation()\n",
       "          (self_attn_layer_norm): LayerNorm((512,), eps=1e-05, elementwise_affine=True)\n",
       "          (encoder_attn): MarianAttention(\n",
       "            (k_proj): Linear(in_features=512, out_features=512, bias=True)\n",
       "            (v_proj): Linear(in_features=512, out_features=512, bias=True)\n",
       "            (q_proj): Linear(in_features=512, out_features=512, bias=True)\n",
       "            (out_proj): Linear(in_features=512, out_features=512, bias=True)\n",
       "          )\n",
       "          (encoder_attn_layer_norm): LayerNorm((512,), eps=1e-05, elementwise_affine=True)\n",
       "          (fc1): Linear(in_features=512, out_features=2048, bias=True)\n",
       "          (fc2): Linear(in_features=2048, out_features=512, bias=True)\n",
       "          (final_layer_norm): LayerNorm((512,), eps=1e-05, elementwise_affine=True)\n",
       "        )\n",
       "        (5): MarianDecoderLayer(\n",
       "          (self_attn): MarianAttention(\n",
       "            (k_proj): Linear(in_features=512, out_features=512, bias=True)\n",
       "            (v_proj): Linear(in_features=512, out_features=512, bias=True)\n",
       "            (q_proj): Linear(in_features=512, out_features=512, bias=True)\n",
       "            (out_proj): Linear(in_features=512, out_features=512, bias=True)\n",
       "          )\n",
       "          (activation_fn): SiLUActivation()\n",
       "          (self_attn_layer_norm): LayerNorm((512,), eps=1e-05, elementwise_affine=True)\n",
       "          (encoder_attn): MarianAttention(\n",
       "            (k_proj): Linear(in_features=512, out_features=512, bias=True)\n",
       "            (v_proj): Linear(in_features=512, out_features=512, bias=True)\n",
       "            (q_proj): Linear(in_features=512, out_features=512, bias=True)\n",
       "            (out_proj): Linear(in_features=512, out_features=512, bias=True)\n",
       "          )\n",
       "          (encoder_attn_layer_norm): LayerNorm((512,), eps=1e-05, elementwise_affine=True)\n",
       "          (fc1): Linear(in_features=512, out_features=2048, bias=True)\n",
       "          (fc2): Linear(in_features=2048, out_features=512, bias=True)\n",
       "          (final_layer_norm): LayerNorm((512,), eps=1e-05, elementwise_affine=True)\n",
       "        )\n",
       "      )\n",
       "    )\n",
       "  )\n",
       "  (lm_head): Linear(in_features=512, out_features=59514, bias=False)\n",
       ")"
      ]
     },
     "execution_count": 13,
     "metadata": {},
     "output_type": "execute_result"
    }
   ],
   "source": [
    "generator2_train.eval()"
   ]
  },
  {
   "cell_type": "code",
   "execution_count": null,
   "metadata": {},
   "outputs": [],
   "source": [
    "for name, param in generator2_train.named_parameters():\n",
    "    print(f\"Name: {name}, Value: {param}\")\n"
   ]
  },
  {
   "cell_type": "code",
   "execution_count": 27,
   "metadata": {},
   "outputs": [
    {
     "data": {
      "text/plain": [
       "True"
      ]
     },
     "execution_count": 27,
     "metadata": {},
     "output_type": "execute_result"
    }
   ],
   "source": [
    "generator2_train.config.is_encoder_decoder"
   ]
  },
  {
   "cell_type": "code",
   "execution_count": 28,
   "metadata": {},
   "outputs": [
    {
     "data": {
      "text/plain": [
       "GenerationConfig {\n",
       "  \"bad_words_ids\": [\n",
       "    [\n",
       "      59513\n",
       "    ]\n",
       "  ],\n",
       "  \"bos_token_id\": 0,\n",
       "  \"decoder_start_token_id\": 59513,\n",
       "  \"eos_token_id\": 0,\n",
       "  \"forced_eos_token_id\": 0,\n",
       "  \"max_length\": 512,\n",
       "  \"num_beams\": 4,\n",
       "  \"pad_token_id\": 59513,\n",
       "  \"renormalize_logits\": true,\n",
       "  \"transformers_version\": \"4.32.1\"\n",
       "}"
      ]
     },
     "execution_count": 28,
     "metadata": {},
     "output_type": "execute_result"
    }
   ],
   "source": [
    "generator2_train.generation_config"
   ]
  },
  {
   "cell_type": "code",
   "execution_count": 38,
   "metadata": {},
   "outputs": [
    {
     "name": "stdout",
     "output_type": "stream",
     "text": [
      "Coup Coup Coup Coup Coup Coup Coup Coup Coup Coup Coup Coup Coup Coup Coup Coup Coup Coup Coup Coup Coup Coup Coup Coup Coup Coup Coup Coup Coup Coup Coup Coup Coup Coup Coup Coup Coup Coup Coup\n"
     ]
    }
   ],
   "source": [
    "# odel.eval()\n",
    "# generator2_train.eval()\n",
    "from transformers import AutoTokenizer, AutoModelForSeq2SeqLM\n",
    "# tokenizer = AutoTokenizer.from_pretrained(\"Helsinki-NLP/opus-mt-en-fr\")\n",
    "tokenizer = AutoTokenizer.from_pretrained(\"/home/paperspace/google_drive_v1/Research_Thesis/2024/git_repo/best_generator_tokenizer_save_pretrained_at_2\")\n",
    "# Example usage\n",
    "input_text = \"Spectacular Wingsuit Jump Over Bogota\"\n",
    "input_ids = tokenizer(input_text, return_tensors=\"pt\").input_ids\n",
    "\n",
    "# Generating output\n",
    "# outputs = generator2_train.generate(input_ids, num_beams=1)\n",
    "# outputs = generator2_train.generate(input_ids,  max_new_tokens=50, do_sample=True, top_k=1)\n",
    "# outputs = generator2_train.generate(input_ids,  penalty_alpha=0.6, top_k=4, max_new_tokens=60)\n",
    "# outputs = generator2_train.generate(input_ids,  max_new_tokens=60, do_sample=True, num_beams=1)\n",
    "# outputs = generator2_train.generate(input_ids,  num_beams=5, num_beam_groups=5, max_new_tokens=30, diversity_penalty=1.0)\n",
    "\n",
    "# Assistant Model\n",
    "# assistant_model = AutoModelForSeq2SeqLM.from_pretrained(\"Helsinki-NLP/opus-mt-en-fr\")\n",
    "# outputs = generator2_train.generate(input_ids,  assistant_model=assistant_model, num_beams= 1)\n",
    "# outputs = assistant_model.generate(input_ids,  assistant_model=assistant_model, num_beams= 1, temperature=0.1)\n",
    "\n",
    "\n",
    "#Greedy Search\n",
    "# outputs = generator2_train.generate(input_ids)\n",
    "\n",
    "# Beam Search\n",
    "# outputs = generator2_train.generate(input_ids, num_beams=5)\n",
    "\n",
    "#Sampling\n",
    "# outputs = generator2_train.generate(input_ids, do_sample=True, top_k=0, max_new_tokens=40)\n",
    "\n",
    "#\n",
    "# outputs = generator2_train.generate(input_ids, max_new_tokens=40, do_sample=True, top_k=0, temperature=0.6)\n",
    "\n",
    "# outputs = generator2_train.generate(input_ids,  max_new_tokens=40, do_sample=True, top_k=50)\n",
    "\n",
    "# outputs = generator2_train.generate(input_ids, max_new_tokens=40, do_sample=True, top_p=0.92, top_k=0)\n",
    "\n",
    "outputs = generator2_train.generate(input_ids, max_new_tokens=40, do_sample=True, top_k=50, top_p=0.95, num_return_sequences=3,)\n",
    "\n",
    "translated_text = tokenizer.decode(outputs[0], skip_special_tokens=True)\n",
    "\n",
    "print(translated_text)"
   ]
  },
  {
   "cell_type": "code",
   "execution_count": null,
   "metadata": {},
   "outputs": [],
   "source": [
    "tokenizer = AutoTokenizer.from_pretrained(\"Helsinki-NLP/opus-mt-en-fr\")\n",
    "# Example usage\n",
    "input_text = \"Spectacular Wingsuit Jump Over Bogota\"\n",
    "input_ids = tokenizer(input_text, return_tensors=\"pt\").input_ids\n",
    "\n",
    "# generator2_train_dp(input_ids=src_sentences, attention_mask=attention_mask, decoder_input_ids=tgt_sentences , output_hidden_states=True, return_dict=True)"
   ]
  },
  {
   "cell_type": "code",
   "execution_count": 16,
   "metadata": {},
   "outputs": [
    {
     "name": "stderr",
     "output_type": "stream",
     "text": [
      "Translating: 100%|██████████| 3003/3003 [20:28<00:00,  2.44it/s]\n"
     ]
    }
   ],
   "source": [
    "from transformers import AutoTokenizer, AutoModelForSeq2SeqLM\n",
    "from tqdm import tqdm\n",
    "generator2_train.eval()\n",
    "generator2_train.to('cpu')\n",
    "translations_MarianMT_FT_1mil_UnfreezeOnlyLMLayer = []\n",
    "# tokenizer_MarianMT_FT_1mil_UnfreezeOnlyLMLayer = AutoTokenizer.from_pretrained(\"Helsinki-NLP/opus-mt-en-fr\")\n",
    "tokenizer_MarianMT_FT_1mil_UnfreezeOnlyLMLayer = AutoTokenizer.from_pretrained(\"/workspace/2024/Adversarial_NMT_th/checkpoints/bert_dualG/wmt14_en_fr_1mil_pg_kd_loss_MarianMT_unfreezeonlylmlayer_600sents_dedbug_spcChars__save_pretrained/best_generator_tokenizer_save_pretrained_at_1\")\n",
    "# for text in tqdm(texts):\n",
    "for idx, text in tqdm(enumerate(texts), desc=\"Translating\", total=len(texts)):\n",
    "    # print(\"english sentence: \", text)\n",
    "    # print(\"Original French Sentence: \", labels[texts.index(text)])\n",
    "    inputs_MarianMT_FT_1mil_UnfreezeOnlyLMLayer = tokenizer_MarianMT_FT_1mil_UnfreezeOnlyLMLayer(text, return_tensors=\"pt\").input_ids\n",
    "    # outputs = model.generate(inputs, max_new_tokens=40, do_sample=True, top_k=30, top_p=0.95)\n",
    "    outputs_MarianMT_FT_1mil_UnfreezeOnlyLMLayer = generator2_train.generate(inputs_MarianMT_FT_1mil_UnfreezeOnlyLMLayer, max_length=60, num_beams=5, early_stopping=True)\n",
    "    translation_MarianMT_FT_1mil_UnfreezeOnlyLMLayer = tokenizer_MarianMT_FT_1mil_UnfreezeOnlyLMLayer.decode(outputs_MarianMT_FT_1mil_UnfreezeOnlyLMLayer[0], skip_special_tokens=True)\n",
    "    # print(\"translated french sentences:\",translation_t5_finetuned_wmt14_1mil)\n",
    "    translations_MarianMT_FT_1mil_UnfreezeOnlyLMLayer.append(translation_MarianMT_FT_1mil_UnfreezeOnlyLMLayer)\n",
    "    # print(\"\\n\")\n",
    "\n",
    "getpwd = os.getcwd()\n",
    "# Specify the file path\n",
    "file_path_MarianMT_FT_1mil_UnfreezeOnlyLMLayer = os.path.join(getpwd, \"translated_french_by_MarianMT_FT_1mil_UnfreezeOnlyLMLayer.txt\")\n",
    "\n",
    "# Open the file in write mode\n",
    "with open(file_path_MarianMT_FT_1mil_UnfreezeOnlyLMLayer, \"w\") as file:\n",
    "    # Write each translation to the file\n",
    "    for translation in translations_MarianMT_FT_1mil_UnfreezeOnlyLMLayer:\n",
    "        file.write(translation + \"\\n\")"
   ]
  },
  {
   "cell_type": "code",
   "execution_count": null,
   "metadata": {},
   "outputs": [],
   "source": [
    "labels"
   ]
  },
  {
   "cell_type": "code",
   "execution_count": 17,
   "metadata": {},
   "outputs": [
    {
     "data": {
      "text/plain": [
       "{'bleu': 37.961585798712214}"
      ]
     },
     "execution_count": 17,
     "metadata": {},
     "output_type": "execute_result"
    }
   ],
   "source": [
    "result_MarianMT_FT_1mil_UnfreezeOnlyLMLayer = metric.compute(predictions=translations_MarianMT_FT_1mil_UnfreezeOnlyLMLayer, references=labels)\n",
    "result_MarianMT_FT_1mil_UnfreezeOnlyLMLayer = {\"bleu\": result_MarianMT_FT_1mil_UnfreezeOnlyLMLayer[\"score\"]}\n",
    "result_MarianMT_FT_1mil_UnfreezeOnlyLMLayer"
   ]
  },
  {
   "cell_type": "markdown",
   "metadata": {},
   "source": [
    "# MarianMT 1 mil finetuned in GAN"
   ]
  },
  {
   "cell_type": "code",
   "execution_count": 35,
   "metadata": {},
   "outputs": [],
   "source": [
    "from transformers import AutoTokenizer, AutoModelForSeq2SeqLM\n",
    "# tokenizer_MarianMT_FT_1mil_UnfreezeOnlyLMLayer_v2 = AutoTokenizer.from_pretrained(\"Helsinki-NLP/opus-mt-en-fr\")\n",
    "tokenizer_MarianMT_FT_1mil_UnfreezeOnlyLMLayer_v2 = AutoTokenizer.from_pretrained(\"/home/paperspace/google_drive_v1/Research_Thesis/2024/git_repo/best_generator_tokenizer_save_pretrained_at_2\")\n",
    "input_text = \"We get an absolutely normal chick.\"\n",
    "input_ids = tokenizer_MarianMT_FT_1mil_UnfreezeOnlyLMLayer_v2(input_text, return_tensors=\"pt\").input_ids\n",
    "generator2_train_v2 = AutoModelForSeq2SeqLM.from_pretrained(\"/home/paperspace/google_drive_v1/Research_Thesis/2024/git_repo/best_generator_save_pretrained_at_2\")"
   ]
  },
  {
   "cell_type": "code",
   "execution_count": null,
   "metadata": {},
   "outputs": [],
   "source": [
    "# #  Loading model state dict\n",
    "# generator_model = AutoModelForSeq2SeqLM.from_pretrained('Helsinki-NLP/opus-mt-en-fr')  # Initialize a model instance of your model class\n",
    "# checkpoint_path_generator = '/workspace/2024/Adversarial_NMT_th/checkpoints/bert_dualG/wmt14_en_fr_1mil_pg_kd_loss_MarianMT_unfreezeonlylmlayer_1mil_20epochs/best_generator_at_2.pt'\n",
    "# generator2_train = torch.load(open(checkpoint_path_generator, \"rb\"), pickle_module=dill)\n",
    "# generator_model.load_state_dict(torch.load(generator2_train.state_dict()))  # Load the state dict into the model\n",
    "# model.to('cpu')\n",
    "# model.eval()  # Don't forget to call eval!"
   ]
  },
  {
   "cell_type": "code",
   "execution_count": 23,
   "metadata": {},
   "outputs": [],
   "source": [
    "# generator2_train # Extract the underlying model from the DataParallel wrapper\n",
    "generator2_train_v2 = generator2_train_v2.module if isinstance(generator2_train_v2, torch.nn.DataParallel) else generator2_train_v2"
   ]
  },
  {
   "cell_type": "code",
   "execution_count": 34,
   "metadata": {},
   "outputs": [
    {
     "name": "stderr",
     "output_type": "stream",
     "text": [
      "/home/paperspace/anaconda3/envs/preprocess_bert_udem/lib/python3.10/site-packages/transformers/generation/configuration_utils.py:362: UserWarning: `do_sample` is set to `False`. However, `temperature` is set to `0.1` -- this flag is only used in sample-based generation modes. You should set `do_sample=True` or unset `temperature`.\n",
      "  warnings.warn(\n",
      "/home/paperspace/anaconda3/envs/preprocess_bert_udem/lib/python3.10/site-packages/transformers/generation/configuration_utils.py:367: UserWarning: `do_sample` is set to `False`. However, `top_p` is set to `0.05` -- this flag is only used in sample-based generation modes. You should set `do_sample=True` or unset `top_p`.\n",
      "  warnings.warn(\n",
      "/home/paperspace/anaconda3/envs/preprocess_bert_udem/lib/python3.10/site-packages/transformers/generation/configuration_utils.py:377: UserWarning: `do_sample` is set to `False`. However, `top_k` is set to `1` -- this flag is only used in sample-based generation modes. You should set `do_sample=True` or unset `top_k`.\n",
      "  warnings.warn(\n"
     ]
    },
    {
     "name": "stdout",
     "output_type": "stream",
     "text": [
      "Coup Coup Coup Coup Coup Coup Coup Coup Coup Coup Coup Coup Coup Coup Coup Coup Coup Coup Coup Coup Coup Coup Coup Coup Coup Coup Coup Coup Coup Coup Coup Coup Coup Coup Coup Coup Coup Coup Coup Coup Coup Coup Coup Coup Coup Coup Coup Coup Coup Coup Coup Coup Coup Coup Coup Coup Coup Coup Coup Coup Coup Coup Coup Coup Coup Coup Coup Coup Coup Coup Coup Coup Coup Coup Coup Coup Coup Coup Coup Coup Coup Coup Coup Coup Coup Coup Coup Coup Coup Coup Coup Coup Coup Coup Coup Coup Coup Coup Coup Coup Coup Coup Coup Coup Coup Coup Coup Coup Coup Coup Coup Coup Coup Coup Coup Coup Coup Coup Coup Coup Coup Coup Coup Coup Coup Coup Coup Coup Coup Coup Coup Coup Coup Coup Coup Coup Coup Coup Coup Coup Coup Coup Coup Coup Coup Coup Coup Coup Coup Coup Coup Coup Coup Coup Coup Coup Coup Coup Coup Coup Coup Coup Coup Coup Coup Coup Coup Coup Coup Coup Coup Coup Coup Coup Coup Coup Coup Coup Coup Coup Coup Coup Coup Coup Coup Coup Coup Coup Coup Coup Coup Coup Coup Coup Coup Coup Coup Coup Coup Coup Coup Coup Coup Coup Coup Coup Coup Coup Coup Coup Coup Coup Coup Coup Coup Coup Coup Coup Coup Coup Coup Coup Coup Coup Coup Coup Coup Coup Coup Coup Coup Coup Coup Coup Coup Coup Coup Coup Coup Coup Coup Coup Coup Coup Coup Coup Coup Coup Coup Coup Coup Coup Coup Coup Coup Coup Coup Coup Coup Coup Coup Coup Coup Coup Coup Coup Coup Coup Coup Coup Coup Coup Coup Coup Coup Coup Coup Coup Coup Coup Coup Coup Coup Coup Coup Coup Coup Coup Coup Coup Coup Coup Coup Coup Coup Coup Coup Coup Coup Coup Coup Coup Coup Coup Coup Coup Coup Coup Coup Coup Coup Coup Coup Coup Coup Coup Coup Coup Coup Coup Coup Coup Coup Coup Coup Coup Coup Coup Coup Coup Coup Coup Coup Coup Coup Coup Coup Coup Coup Coup Coup Coup Coup Coup Coup Coup Coup Coup Coup Coup Coup Coup Coup Coup Coup Coup Coup Coup Coup Coup Coup Coup Coup Coup Coup Coup Coup Coup Coup Coup Coup Coup Coup Coup Coup Coup Coup Coup Coup Coup Coup Coup Coup Coup Coup Coup Coup Coup Coup Coup Coup Coup Coup Coup Coup Coup Coup Coup Coup Coup Coup Coup Coup Coup Coup Coup Coup Coup Coup Coup Coup Coup Coup Coup Coup Coup Coup Coup Coup Coup Coup Coup Coup Coup Coup Coup Coup Coup Coup Coup Coup Coup Coup Coup Coup Coup Coup Coup Coup Coup Coup Coup Coup Coup Coup Coup Coup Coup Coup Coup Coup Coup Coup Coup Coup Coup Coup Coup Coup Coup Coup Coup Coup Coup Coup Coup Coup Coup Coup Coup Coup Coup Coup Coup Coup Coup Coup Coup Coup Coup Coup Coup Coup Coup Coup Coup Coup Coup Coup Coup Coup Coup Coup Coup Coup Coup Coup Coup Coup Coup Coup Coup Coup Coup Coup Coup Coup Coup Coup Coup\n",
      "Coup Coup Coup Coup Coup Coup Coup Coup Coup Coup Coup Coup Coup Coup Coup Coup Coup Coup Coup Coup Coup Coup Coup Coup Coup Coup Coup Coup Coup Coup Coup Coup Coup Coup Coup Coup Coup Coup Coup Coup Coup Coup Coup Coup Coup Coup Coup Coup Coup\n",
      "Coup Coup Coup Coup Coup Coup Coup Coup Coup Coup Coup Coup Coup Coup Coup Coup Coup Coup Coup Coup Coup Coup Coup Coup Coup Coup Coup Coup Coup Coup Coup Coup Coup Coup Coup Coup Coup Coup Coup Coup Coup Coup Coup Coup Coup Coup Coup Coup Coup Coup Coup Coup Coup Coup Coup Coup Coup Coup Coup\n",
      "Coup Coup Coup Coup Coup Coup Coup Coup Coup Coup Coup Coup Coup Coup Coup Coup Coup Coup Coup Coup Coup Coup Coup Coup Coup Coup Coup Coup Coup Coup Coup Coup Coup Coup Coup Coup Coup Coup Coup Coup Coup Coup Coup Coup Coup Coup Coup Coup Coup Coup Coup Coup Coup Coup Coup Coup Coup Coup Coup\n",
      "Coup Coup Coup Coup Coup Coup Coup Coup Coup Coup Coup Coup Coup Coup Coup Coup Coup Coup Coup Coup Coup Coup Coup Coup Coup Coup Coup Coup Coup\n",
      "Coup Coup Coup Coup Coup Coup Coup Coup Coup Coup Coup Coup Coup Coup Coup Coup Coup Coup Coup Coup Coup Coup Coup Coup Coup Coup Coup Coup Coup Coup Coup Coup Coup Coup Coup Coup Coup Coup Coup Coup Coup Coup Coup Coup Coup Coup Coup Coup Coup Coup Coup Coup Coup Coup Coup Coup Coup Coup Coup Coup Coup Coup Coup Coup Coup Coup Coup Coup Coup Coup Coup Coup Coup Coup Coup Coup Coup Coup Coup Coup Coup Coup Coup Coup Coup Coup Coup Coup Coup Coup Coup Coup Coup Coup Coup Coup Coup Coup Coup Coup Coup Coup Coup Coup Coup Coup Coup Coup Coup Coup Coup Coup Coup Coup Coup Coup Coup Coup Coup Coup Coup Coup Coup Coup Coup Coup Coup Coup Coup Coup Coup Coup Coup Coup Coup Coup Coup Coup Coup Coup Coup Coup Coup Coup Coup Coup Coup Coup Coup Coup Coup Coup Coup Coup Coup Coup Coup Coup Coup Coup Coup Coup Coup Coup Coup Coup Coup Coup Coup Coup Coup Coup Coup Coup Coup Coup Coup Coup Coup Coup Coup Coup Coup Coup Coup Coup Coup Coup Coup Coup Coup Coup Coup Coup Coup Coup Coup Coup Coup Coup Coup Coup Coup Coup Coup Coup Coup Coup Coup Coup Coup Coup Coup Coup Coup Coup Coup Coup Coup Coup Coup Coup Coup Coup Coup Coup Coup Coup Coup Coup Coup Coup Coup Coup Coup Coup Coup Coup Coup Coup Coup Coup Coup Coup Coup Coup Coup Coup Coup Coup Coup Coup Coup Coup Coup Coup Coup Coup Coup Coup Coup Coup Coup Coup Coup Coup Coup Coup Coup Coup Coup Coup Coup Coup Coup Coup Coup Coup Coup Coup Coup Coup Coup Coup Coup Coup Coup Coup Coup Coup Coup Coup Coup Coup Coup Coup Coup Coup Coup Coup Coup Coup Coup Coup Coup Coup Coup Coup Coup Coup Coup Coup Coup Coup Coup Coup Coup Coup Coup Coup Coup Coup Coup Coup Coup Coup Coup Coup Coup Coup Coup Coup Coup Coup Coup Coup Coup Coup Coup Coup Coup Coup Coup Coup Coup Coup Coup Coup Coup Coup Coup Coup Coup Coup Coup Coup Coup Coup Coup Coup Coup Coup Coup Coup Coup Coup Coup Coup Coup Coup Coup Coup Coup Coup Coup Coup Coup Coup Coup Coup Coup Coup Coup Coup Coup Coup Coup Coup Coup Coup Coup Coup Coup Coup Coup Coup Coup Coup Coup Coup Coup Coup Coup Coup Coup Coup Coup Coup Coup Coup Coup Coup Coup Coup Coup Coup Coup Coup Coup Coup Coup Coup Coup Coup Coup Coup Coup Coup Coup Coup Coup Coup Coup Coup Coup Coup Coup Coup Coup Coup Coup Coup Coup Coup Coup Coup Coup Coup Coup Coup Coup Coup Coup Coup Coup Coup Coup Coup Coup Coup Coup Coup Coup Coup Coup Coup Coup Coup Coup Coup Coup Coup Coup Coup Coup Coup Coup Coup Coup Coup Coup Coup Coup Coup Coup Coup Coup Coup Coup Coup Coup Coup Coup Coup Coup Coup Coup Coup Coup Coup Coup Coup Coup Coup Coup Coup Coup Coup Coup Coup\n",
      "Coup Coup Coup Coup Coup Coup Coup Coup Coup Coup Coup Coup Coup Coup Coup Coup Coup Coup Coup Coup Coup Coup Coup Coup Coup Coup Coup Coup Coup Coup Coup Coup Coup Coup Coup Coup Coup Coup Coup Coup Coup Coup Coup Coup Coup Coup Coup Coup Coup Coup Coup Coup Coup Coup Coup Coup Coup Coup Coup Coup Coup Coup Coup Coup Coup Coup Coup Coup Coup Coup Coup Coup Coup Coup Coup Coup Coup Coup Coup Coup Coup Coup Coup Coup Coup Coup Coup Coup Coup Coup Coup Coup Coup Coup Coup Coup Coup Coup Coup Coup Coup Coup Coup Coup Coup Coup Coup Coup Coup Coup Coup Coup Coup Coup Coup Coup Coup Coup Coup Coup Coup Coup Coup Coup Coup Coup Coup Coup Coup Coup Coup Coup Coup Coup Coup Coup Coup Coup Coup Coup Coup Coup Coup Coup Coup Coup Coup Coup Coup Coup Coup Coup Coup Coup Coup Coup Coup Coup Coup Coup Coup Coup Coup Coup Coup Coup Coup Coup Coup Coup Coup Coup Coup Coup Coup Coup Coup Coup Coup Coup Coup Coup Coup Coup Coup Coup Coup Coup Coup Coup Coup Coup Coup Coup Coup Coup Coup Coup Coup Coup Coup Coup Coup Coup Coup Coup Coup Coup Coup Coup Coup Coup Coup Coup Coup Coup Coup Coup Coup Coup Coup Coup Coup Coup Coup Coup Coup Coup Coup Coup Coup Coup Coup Coup Coup Coup Coup Coup Coup Coup Coup Coup Coup Coup Coup Coup Coup Coup Coup Coup Coup Coup Coup Coup Coup Coup Coup Coup Coup Coup Coup Coup Coup Coup Coup Coup Coup Coup Coup Coup Coup Coup Coup Coup Coup Coup Coup Coup Coup Coup Coup Coup Coup Coup Coup Coup Coup Coup Coup Coup Coup Coup Coup Coup Coup Coup Coup Coup Coup Coup Coup Coup Coup Coup Coup Coup Coup Coup Coup Coup Coup Coup Coup Coup Coup Coup Coup Coup Coup Coup Coup Coup Coup Coup Coup Coup Coup Coup Coup Coup Coup Coup Coup Coup Coup Coup Coup Coup Coup Coup Coup Coup Coup Coup Coup Coup Coup Coup Coup Coup Coup Coup Coup Coup Coup Coup Coup Coup Coup Coup Coup Coup Coup Coup Coup Coup Coup Coup Coup Coup Coup Coup Coup Coup Coup Coup Coup Coup Coup Coup Coup Coup Coup Coup Coup Coup Coup Coup Coup Coup Coup Coup Coup Coup Coup Coup Coup Coup Coup Coup Coup Coup Coup Coup Coup Coup Coup Coup Coup Coup Coup Coup Coup Coup Coup Coup Coup Coup Coup Coup Coup Coup Coup Coup Coup Coup Coup Coup Coup Coup Coup Coup Coup Coup Coup Coup Coup Coup Coup Coup Coup Coup Coup Coup Coup Coup Coup Coup Coup Coup Coup Coup Coup Coup Coup Coup Coup Coup Coup Coup Coup Coup Coup Coup Coup Coup Coup Coup Coup Coup Coup Coup Coup Coup Coup Coup Coup Coup Coup Coup Coup Coup Coup Coup Coup Coup Coup Coup Coup Coup Coup Coup Coup Coup Coup Coup Coup Coup Coup Coup Coup Coup Coup Coup Coup Coup Coup Coup Coup Coup\n",
      "Coup Coup Coup Coup Coup Coup Coup Coup Coup Coup Coup Coup Coup Coup Coup Coup Coup Coup Coup Coup Coup Coup Coup Coup Coup Coup Coup Coup Coup Coup Coup Coup Coup Coup Coup Coup Coup Coup Coup Coup Coup Coup Coup Coup Coup Coup Coup Coup Coup Coup Coup Coup Coup Coup Coup Coup Coup Coup Coup Coup Coup Coup Coup Coup Coup Coup Coup Coup Coup Coup Coup Coup Coup Coup Coup Coup Coup Coup Coup Coup Coup Coup Coup Coup Coup Coup Coup Coup Coup Coup Coup Coup Coup Coup Coup Coup Coup Coup Coup Coup Coup Coup Coup Coup Coup Coup Coup Coup Coup Coup Coup Coup Coup Coup Coup Coup Coup Coup Coup Coup Coup Coup Coup Coup Coup Coup Coup Coup Coup Coup Coup Coup Coup Coup Coup Coup Coup Coup Coup Coup Coup Coup Coup Coup Coup Coup Coup Coup Coup Coup Coup Coup Coup Coup Coup Coup Coup Coup Coup Coup Coup Coup Coup Coup Coup Coup Coup Coup Coup Coup Coup Coup Coup Coup Coup Coup Coup Coup Coup Coup Coup Coup Coup Coup Coup Coup Coup Coup Coup Coup Coup Coup Coup Coup Coup Coup Coup Coup Coup Coup Coup Coup Coup Coup Coup Coup Coup Coup Coup Coup Coup Coup Coup Coup Coup Coup Coup Coup Coup Coup Coup Coup Coup Coup Coup Coup Coup Coup Coup Coup Coup Coup Coup Coup Coup Coup Coup Coup Coup Coup Coup Coup Coup Coup Coup Coup Coup Coup Coup Coup Coup Coup Coup Coup Coup Coup Coup Coup Coup Coup Coup Coup Coup Coup Coup Coup Coup Coup Coup Coup Coup Coup Coup Coup Coup Coup Coup Coup Coup Coup Coup Coup Coup Coup Coup Coup Coup Coup Coup Coup Coup Coup Coup Coup Coup Coup Coup Coup Coup Coup Coup Coup Coup Coup Coup Coup Coup Coup Coup Coup Coup Coup Coup Coup Coup Coup Coup Coup Coup Coup Coup Coup Coup Coup Coup Coup Coup Coup Coup Coup Coup Coup Coup Coup Coup Coup Coup Coup Coup Coup Coup Coup Coup Coup Coup Coup Coup Coup Coup Coup Coup Coup Coup Coup Coup Coup Coup Coup Coup Coup Coup Coup Coup Coup Coup Coup Coup Coup Coup Coup Coup Coup Coup Coup Coup Coup Coup Coup Coup Coup Coup Coup Coup Coup Coup Coup Coup Coup Coup Coup Coup Coup Coup Coup Coup Coup Coup Coup Coup Coup Coup Coup Coup Coup Coup Coup Coup Coup Coup Coup Coup Coup Coup Coup Coup Coup Coup Coup Coup Coup Coup Coup Coup Coup Coup Coup Coup Coup Coup Coup Coup Coup Coup Coup Coup Coup Coup Coup Coup Coup Coup Coup Coup Coup Coup Coup Coup Coup Coup Coup Coup Coup Coup Coup Coup Coup Coup Coup Coup Coup Coup Coup Coup Coup Coup Coup Coup Coup Coup Coup Coup Coup Coup Coup Coup Coup Coup Coup Coup Coup Coup Coup Coup Coup Coup Coup Coup Coup Coup Coup Coup Coup Coup Coup Coup Coup Coup Coup Coup Coup Coup Coup Coup Coup Coup Coup Coup Coup Coup Coup\n",
      "Coup Coup Coup Coup Coup Coup Coup Coup Coup Coup Coup Coup Coup Coup Coup Coup Coup Coup Coup Coup Coup Coup Coup Coup Coup Coup Coup Coup Coup Coup Coup Coup Coup Coup Coup Coup Coup Coup Coup Coup Coup Coup Coup Coup Coup Coup Coup Coup Coup Coup Coup Coup Coup Coup Coup Coup Coup Coup Coup Coup Coup Coup Coup Coup Coup Coup Coup Coup Coup Coup Coup Coup Coup Coup Coup Coup Coup Coup Coup Coup Coup Coup Coup Coup Coup Coup Coup Coup Coup Coup Coup Coup Coup Coup Coup Coup Coup Coup Coup Coup Coup Coup Coup Coup Coup Coup Coup Coup Coup Coup Coup Coup Coup Coup Coup Coup Coup Coup Coup Coup Coup Coup Coup Coup Coup Coup Coup Coup Coup Coup Coup Coup Coup Coup Coup Coup Coup Coup Coup Coup Coup Coup Coup Coup Coup Coup Coup Coup Coup Coup Coup Coup Coup Coup Coup Coup Coup Coup Coup Coup Coup Coup Coup Coup Coup Coup Coup Coup Coup Coup Coup Coup Coup Coup Coup Coup Coup Coup Coup Coup Coup Coup Coup Coup Coup Coup Coup Coup Coup Coup Coup Coup Coup Coup Coup Coup Coup Coup Coup Coup Coup Coup Coup Coup Coup Coup Coup Coup Coup Coup Coup Coup Coup Coup Coup Coup Coup Coup Coup Coup Coup Coup Coup Coup Coup Coup Coup Coup Coup Coup Coup Coup Coup Coup Coup Coup Coup Coup Coup Coup Coup Coup Coup Coup Coup Coup Coup Coup Coup Coup Coup Coup Coup Coup Coup Coup Coup Coup Coup Coup Coup Coup Coup Coup Coup Coup Coup Coup Coup Coup Coup Coup Coup Coup Coup Coup Coup Coup Coup Coup Coup Coup Coup Coup Coup Coup Coup Coup Coup Coup Coup Coup Coup Coup Coup Coup Coup Coup Coup Coup Coup Coup Coup Coup Coup Coup Coup Coup Coup Coup Coup Coup Coup Coup Coup Coup Coup Coup Coup Coup Coup Coup Coup Coup Coup Coup Coup Coup Coup Coup Coup Coup Coup Coup Coup Coup Coup Coup Coup Coup Coup Coup Coup Coup Coup Coup Coup Coup Coup Coup Coup Coup Coup Coup Coup Coup Coup Coup Coup Coup Coup Coup Coup Coup Coup Coup Coup Coup Coup Coup Coup Coup Coup Coup Coup Coup Coup Coup Coup Coup Coup Coup Coup Coup Coup Coup Coup Coup Coup Coup Coup Coup Coup Coup Coup Coup Coup Coup Coup Coup Coup Coup Coup Coup Coup Coup Coup Coup Coup Coup Coup Coup Coup Coup Coup Coup Coup Coup Coup Coup Coup Coup Coup Coup Coup Coup Coup Coup Coup Coup Coup Coup Coup Coup Coup Coup Coup Coup Coup Coup Coup Coup Coup Coup Coup Coup Coup Coup Coup Coup Coup Coup Coup Coup Coup Coup Coup Coup Coup Coup Coup Coup Coup Coup Coup Coup Coup Coup Coup Coup Coup Coup Coup Coup Coup Coup Coup Coup Coup Coup Coup Coup Coup Coup Coup Coup Coup Coup Coup Coup Coup Coup Coup Coup Coup Coup Coup Coup Coup Coup Coup Coup Coup Coup Coup Coup Coup Coup Coup Coup\n",
      "Coup Coup Coup Coup Coup Coup Coup Coup Coup Coup Coup Coup Coup Coup Coup Coup Coup Coup Coup Coup Coup Coup Coup Coup Coup Coup Coup Coup Coup Coup Coup Coup Coup Coup Coup Coup Coup Coup Coup\n",
      "Coup Coup Coup Coup Coup Coup Coup Coup Coup Coup Coup Coup Coup Coup Coup Coup Coup Coup Coup Coup Coup Coup Coup Coup Coup Coup Coup Coup Coup Coup Coup Coup Coup Coup Coup Coup Coup Coup Coup\n",
      "Coup Coup Coup Coup Coup Coup Coup Coup Coup Coup Coup Coup Coup Coup Coup Coup Coup Coup Coup Coup Coup Coup Coup Coup Coup Coup Coup Coup Coup Coup Coup Coup Coup Coup Coup Coup Coup Coup Coup\n",
      "Coup Coup Coup Coup Coup Coup Coup Coup Coup Coup Coup Coup Coup Coup Coup Coup Coup Coup Coup Coup Coup Coup Coup Coup Coup Coup Coup Coup Coup Coup Coup Coup Coup Coup Coup Coup Coup Coup Coup\n",
      "Coup Coup Coup Coup Coup Coup Coup Coup Coup Coup Coup Coup Coup Coup Coup Coup Coup Coup Coup Coup Coup Coup Coup Coup Coup Coup Coup Coup Coup Coup Coup Coup Coup Coup Coup Coup Coup Coup Coup\n"
     ]
    }
   ],
   "source": [
    "generator2_train_v2.eval()\n",
    "generator2_train_v2.to('cpu')\n",
    "# tokenizer = AutoTokenizer.from_pretrained(\"Helsinki-NLP/opus-mt-en-fr\")\n",
    "# Generating output\n",
    "outputs1 = generator2_train_v2.generate(input_ids, num_beams=1)\n",
    "outputs2 = generator2_train_v2.generate(input_ids,  max_new_tokens=50, do_sample=True, top_k=1)\n",
    "outputs3 = generator2_train_v2.generate(input_ids,  penalty_alpha=0.6, top_k=4, max_new_tokens=60)\n",
    "outputs4 = generator2_train_v2.generate(input_ids,  max_new_tokens=60, do_sample=True, num_beams=1)\n",
    "outputs5 = generator2_train_v2.generate(input_ids,  num_beams=5, num_beam_groups=5, max_new_tokens=30, diversity_penalty=1.0)\n",
    "\n",
    "# Assistant Model\n",
    "assistant_model = AutoModelForSeq2SeqLM.from_pretrained(\"Helsinki-NLP/opus-mt-en-fr\")\n",
    "outputs6 = generator2_train_v2.generate(input_ids,  assistant_model=assistant_model, num_beams= 1)\n",
    "outputs7 = generator2_train_v2.generate(input_ids,  assistant_model=assistant_model, num_beams= 1, temperature=0.1)\n",
    "\n",
    "\n",
    "#Greedy Search\n",
    "outputs8 = generator2_train.generate(input_ids)\n",
    "\n",
    "# Beam Search\n",
    "outputs9 = generator2_train.generate(input_ids, num_beams=5)\n",
    "\n",
    "#Sampling\n",
    "outputs10 = generator2_train.generate(input_ids, do_sample=True, top_k=0, max_new_tokens=40)\n",
    "\n",
    "#\n",
    "outputs11 = generator2_train_v2.generate(input_ids, max_new_tokens=40, do_sample=True, top_k=0, temperature=0.6)\n",
    "\n",
    "outputs12 = generator2_train_v2.generate(input_ids,  max_new_tokens=40, do_sample=True, top_k=50)\n",
    "\n",
    "outputs13 = generator2_train_v2.generate(input_ids, max_new_tokens=40, do_sample=True, top_p=0.92, top_k=0)\n",
    "\n",
    "outputs14 = generator2_train_v2.generate(input_ids, max_new_tokens=40, do_sample=False, top_k=1, top_p=0.05, num_return_sequences=3,)\n",
    "\n",
    "translated_text1 = tokenizer_MarianMT_FT_1mil_UnfreezeOnlyLMLayer_v2.decode(outputs1[0], skip_special_tokens=True)\n",
    "translated_text2 = tokenizer_MarianMT_FT_1mil_UnfreezeOnlyLMLayer_v2.decode(outputs2[0], skip_special_tokens=True)\n",
    "translated_text3 = tokenizer_MarianMT_FT_1mil_UnfreezeOnlyLMLayer_v2.decode(outputs3[0], skip_special_tokens=True)\n",
    "translated_text4 = tokenizer_MarianMT_FT_1mil_UnfreezeOnlyLMLayer_v2.decode(outputs4[0], skip_special_tokens=True)\n",
    "translated_text5 = tokenizer_MarianMT_FT_1mil_UnfreezeOnlyLMLayer_v2.decode(outputs5[0], skip_special_tokens=True)\n",
    "translated_text6 = tokenizer_MarianMT_FT_1mil_UnfreezeOnlyLMLayer_v2.decode(outputs6[0], skip_special_tokens=True)\n",
    "translated_text7 = tokenizer_MarianMT_FT_1mil_UnfreezeOnlyLMLayer_v2.decode(outputs7[0], skip_special_tokens=True)\n",
    "translated_text8 = tokenizer_MarianMT_FT_1mil_UnfreezeOnlyLMLayer_v2.decode(outputs8[0], skip_special_tokens=True)\n",
    "translated_text9 = tokenizer_MarianMT_FT_1mil_UnfreezeOnlyLMLayer_v2.decode(outputs9[0], skip_special_tokens=True)\n",
    "translated_text10 = tokenizer_MarianMT_FT_1mil_UnfreezeOnlyLMLayer_v2.decode(outputs10[0], skip_special_tokens=True)\n",
    "translated_text11 = tokenizer_MarianMT_FT_1mil_UnfreezeOnlyLMLayer_v2.decode(outputs11[0], skip_special_tokens=True)\n",
    "translated_text12 = tokenizer_MarianMT_FT_1mil_UnfreezeOnlyLMLayer_v2.decode(outputs12[0], skip_special_tokens=True)\n",
    "translated_text13 = tokenizer_MarianMT_FT_1mil_UnfreezeOnlyLMLayer_v2.decode(outputs13[0], skip_special_tokens=True)\n",
    "translated_text14 = tokenizer_MarianMT_FT_1mil_UnfreezeOnlyLMLayer_v2.decode(outputs14[0], skip_special_tokens=True)\n",
    "\n",
    "# translated_text = tokenizer.decode(outputs[0], skip_special_tokens=True)\n",
    "\n",
    "print(translated_text1)\n",
    "print(translated_text2)\n",
    "print(translated_text3)\n",
    "print(translated_text4)\n",
    "print(translated_text5)\n",
    "print(translated_text6)\n",
    "print(translated_text7)\n",
    "print(translated_text8)\n",
    "print(translated_text9)\n",
    "print(translated_text10)\n",
    "print(translated_text11)\n",
    "print(translated_text12)\n",
    "print(translated_text13)\n",
    "print(translated_text14)"
   ]
  },
  {
   "cell_type": "code",
   "execution_count": 19,
   "metadata": {},
   "outputs": [
    {
     "name": "stdout",
     "output_type": "stream",
     "text": [
      "['▁Spec', 'ta', 'cular', '▁Wing', 'suit', '▁Jump', '▁Over', '▁Bog', 'ota', '</s>']\n"
     ]
    }
   ],
   "source": [
    "print(tokenizer_MarianMT_FT_1mil_UnfreezeOnlyLMLayer_v2.convert_ids_to_tokens(input_ids[0]))\n"
   ]
  },
  {
   "cell_type": "code",
   "execution_count": 10,
   "metadata": {},
   "outputs": [
    {
     "name": "stderr",
     "output_type": "stream",
     "text": [
      "Translating: 100%|██████████| 3003/3003 [46:43<00:00,  1.07it/s]\n"
     ]
    }
   ],
   "source": [
    "from transformers import AutoTokenizer, AutoModelForSeq2SeqLM\n",
    "from tqdm import tqdm\n",
    "generator2_train.eval()\n",
    "generator2_train.to('cpu')\n",
    "translations_MarianMT_FT_1mil_UnfreezeOnlyLMLayer = []\n",
    "# tokenizer_MarianMT_FT_1mil_UnfreezeOnlyLMLayer = AutoTokenizer.from_pretrained(\"Helsinki-NLP/opus-mt-en-fr\")\n",
    "tokenizer_MarianMT_FT_1mil_UnfreezeOnlyLMLayer = AutoTokenizer.from_pretrained(\"/home/paperspace/google_drive_v1/Research_Thesis/2024/git_repo/best_generator_tokenizer_save_pretrained_at_2\")\n",
    "# for text in tqdm(texts):\n",
    "for idx, text in tqdm(enumerate(texts), desc=\"Translating\", total=len(texts)):\n",
    "    # print(\"english sentence: \", text)\n",
    "    # print(\"Original French Sentence: \", labels[texts.index(text)])\n",
    "    inputs_MarianMT_FT_1mil_UnfreezeOnlyLMLayer = tokenizer_MarianMT_FT_1mil_UnfreezeOnlyLMLayer(text, return_tensors=\"pt\").input_ids\n",
    "    # outputs = model.generate(inputs, max_new_tokens=40, do_sample=True, top_k=30, top_p=0.95)\n",
    "    outputs_MarianMT_FT_1mil_UnfreezeOnlyLMLayer = generator2_train.generate(inputs_MarianMT_FT_1mil_UnfreezeOnlyLMLayer, max_length=60, num_beams=5, early_stopping=True)\n",
    "    translation_MarianMT_FT_1mil_UnfreezeOnlyLMLayer = tokenizer_MarianMT_FT_1mil_UnfreezeOnlyLMLayer.decode(outputs_MarianMT_FT_1mil_UnfreezeOnlyLMLayer[0], skip_special_tokens=True)\n",
    "    # print(\"translated french sentences:\",translation_t5_finetuned_wmt14_1mil)\n",
    "    translations_MarianMT_FT_1mil_UnfreezeOnlyLMLayer.append(translation_MarianMT_FT_1mil_UnfreezeOnlyLMLayer)\n",
    "    # print(\"\\n\")\n",
    "\n",
    "getpwd = os.getcwd()\n",
    "# Specify the file path\n",
    "file_path_MarianMT_FT_1mil_UnfreezeOnlyLMLayer = os.path.join(getpwd, \"translated_french_by_MarianMT_FT_1mil_UnfreezeOnlyLMLayer.txt\")\n",
    "\n",
    "# Open the file in write mode\n",
    "with open(file_path_MarianMT_FT_1mil_UnfreezeOnlyLMLayer, \"w\") as file:\n",
    "    # Write each translation to the file\n",
    "    for translation in translations_MarianMT_FT_1mil_UnfreezeOnlyLMLayer:\n",
    "        file.write(translation + \"\\n\")"
   ]
  },
  {
   "cell_type": "code",
   "execution_count": 11,
   "metadata": {},
   "outputs": [
    {
     "data": {
      "text/plain": [
       "{'bleu': 0.0005023620345314766}"
      ]
     },
     "execution_count": 11,
     "metadata": {},
     "output_type": "execute_result"
    }
   ],
   "source": [
    "result_MarianMT_FT_1mil_UnfreezeOnlyLMLayer = metric.compute(predictions=translations_MarianMT_FT_1mil_UnfreezeOnlyLMLayer, references=labels)\n",
    "result_MarianMT_FT_1mil_UnfreezeOnlyLMLayer = {\"bleu\": result_MarianMT_FT_1mil_UnfreezeOnlyLMLayer[\"score\"]}\n",
    "result_MarianMT_FT_1mil_UnfreezeOnlyLMLayer"
   ]
  }
 ],
 "metadata": {
  "kernelspec": {
   "display_name": "preprocess_bert_udem",
   "language": "python",
   "name": "python3"
  },
  "language_info": {
   "codemirror_mode": {
    "name": "ipython",
    "version": 3
   },
   "file_extension": ".py",
   "mimetype": "text/x-python",
   "name": "python",
   "nbconvert_exporter": "python",
   "pygments_lexer": "ipython3",
   "version": "3.10.6"
  }
 },
 "nbformat": 4,
 "nbformat_minor": 2
}
